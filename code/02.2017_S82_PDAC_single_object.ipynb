{
 "cells": [
  {
   "cell_type": "markdown",
   "metadata": {},
   "source": [
    "## Testing single-object lightcurves from PDAC "
   ]
  },
  {
   "cell_type": "markdown",
   "metadata": {},
   "source": [
    "Here I query PDAC v.1 SUIT  http://lsst-sui-proxy01.ncsa.illinois.edu/suit against a few variable objects. I consider 483 RR Lyrae stars from Sesar +2010 http://iopscience.iop.org/article/10.1088/0004-637X/708/1/717/meta#apj326724t2   . Table 1 in that paper contains positions and photometry , one file per object  (the name of each file is elsewhere in the paper, and in Table 1, called RR Lyrae ID).  Table 2 contains lightcurve parameters, and can be matched to photometry files by RR Lyrae ID  (col 0). Table 2 also includes the RR Lyrae type (col 1),  and Period in days (col 2) "
   ]
  },
  {
   "cell_type": "code",
   "execution_count": 1,
   "metadata": {
    "collapsed": true
   },
   "outputs": [],
   "source": [
    "# necessary imports\n",
    "import numpy as np\n",
    "import os\n",
    "import pandas as pd \n",
    "from astropy.table import Table\n",
    "from astropy.table import Column\n",
    "from astropy.io import ascii\n",
    "import matplotlib.pyplot as plt\n",
    "import json\n",
    "\n",
    "# periodogram-related \n",
    "import sys\n",
    "sys.path.insert(0, '/Users/chris/GradResearch/SDSS_S82_FP_research/packages/')\n",
    "import frequencyFunctions as freq\n",
    "import imp\n",
    "imp.reload(freq)\n",
    "from astroML.time_series import lomb_scargle  ,lomb_scargle_bootstrap \n"
   ]
  },
  {
   "cell_type": "markdown",
   "metadata": {},
   "source": [
    "I download the lightcurves from the supplementary data file to Table 1 ( http://iopscience.iop.org/0004-637X/708/1/717/suppdata/apj326724_table1.tar.gz )"
   ]
  },
  {
   "cell_type": "code",
   "execution_count": 2,
   "metadata": {
    "collapsed": false
   },
   "outputs": [],
   "source": [
    "DirIn = '../catalogs/RRLyr_S82_Sesar_2010/'\n",
    "\n",
    "# find out what are the IDs of RR Lyr available as lightcurves\n",
    "#RRLyr_lc_files = os.listdir(address1)\n",
    "# remove ReadMe..\n",
    "#RRLyr_lc_files.pop(-1)\n",
    "# strip the *.txt from filename \n",
    "#RRLyr_ID = [int(ID[:-4]) for ID in RRLyr_lc_files]"
   ]
  },
  {
   "cell_type": "markdown",
   "metadata": {},
   "source": [
    "I downloaded Branimir's fit parameters as machine-readable version of Table 2 : http://iopscience.iop.org/0004-637X/708/1/717/suppdata/apj326724t2_mrt.txt\n"
   ]
  },
  {
   "cell_type": "code",
   "execution_count": 3,
   "metadata": {
    "collapsed": true
   },
   "outputs": [],
   "source": [
    "# Grab the fit parameters...\n",
    "table2 = Table.read(DirIn+'table2_lc_fit_params.txt', format='ascii') \n",
    "\n"
   ]
  },
  {
   "cell_type": "markdown",
   "metadata": {},
   "source": [
    "I first plot the distribution of  RR Lyr periods from Table 2 :"
   ]
  },
  {
   "cell_type": "code",
   "execution_count": 7,
   "metadata": {
    "collapsed": false
   },
   "outputs": [
    {
     "data": {
      "image/png": "[encoded data removed]",
      "text/plain": [
       "<matplotlib.figure.Figure at 0x11c883208>"
      ]
     },
     "metadata": {},
     "output_type": "display_data"
    }
   ],
   "source": [
    "%matplotlib inline\n",
    "# Some settings to make all fonts bigger\n",
    "\n",
    "from matplotlib import rcParams      \n",
    "rcParams['ytick.labelsize'] = 15\n",
    "rcParams['xtick.labelsize'] = 15\n",
    "rcParams['axes.labelsize'] = 20\n",
    "rcParams['axes.linewidth'] = 2\n",
    "rcParams['font.size'] = 15\n",
    "rcParams['axes.titlesize'] = 20\n",
    "\n",
    "\n",
    "fig,ax = plt.subplots()\n",
    "ax.hist(table2['Per'].data, bins=30, histtype='step', lw=2)\n",
    "ax.set_ylabel('count')\n",
    "ax.set_xlabel('period [days]')\n",
    "ax.set_xlim(xmin = 0.22, xmax=0.85)\n",
    "\n",
    "#ax.set_title('483 RR Lyrae from Sesar+2010')\n",
    "plt.tight_layout()\n",
    "plt.savefig('../data_products/Fig_1_Sesar_2010_RRLyr.png')"
   ]
  },
  {
   "cell_type": "markdown",
   "metadata": {},
   "source": [
    "Each lightcurve file has multiple columns, and the metadata for these is in the Readme file."
   ]
  },
  {
   "cell_type": "markdown",
   "metadata": {},
   "source": [
    "At the moment RA, Dec information is in each lightcurve (first cols), whereas all other info is in table 2.  I want to add this info to table 2 to make a master table with the information I need (one row per RR Lyr)."
   ]
  },
  {
   "cell_type": "code",
   "execution_count": 19,
   "metadata": {
    "collapsed": false
   },
   "outputs": [],
   "source": [
    "# table 2 : 'Num', 'Type', 'Per', 'Au', 'umag', 'phiu', 'Tu', 'Ag', 'gmag',\n",
    "#       'phig', 'Tg', 'Ar', 'rmag', 'phir', 'Tr', 'Ai', 'imag', 'phii',\n",
    "#       'Ti', 'Az', 'zmag', 'phiz', 'Tz'\n",
    "\n",
    "\n",
    "# Grab the fit parameters...\n",
    "table2 = Table.read(DirIn+'table2_lc_fit_params.txt', format='ascii') \n",
    "\n",
    "# Grab the RR Lyr ID \n",
    "lc_names = table2['Num'].data.astype(str)\n",
    "\n",
    "# grab colnames and units for all RR Lyr LC lightcurves  from the readme file....\n",
    "readme = Table.read(DirIn + 'table1_lightcurves/' +'ReadMe', format='ascii')\n",
    "\n",
    "# initialize empty arrays to store that info \n",
    "ra = np.zeros_like(lc_names, dtype=float)\n",
    "dec = np.zeros_like(lc_names, dtype=float)\n",
    "# iterate in a loop over all lightcurves pulling the \n",
    "# ra, dec from the first row of each LC\n",
    "for i in range(len(lc_names)) : \n",
    "    \n",
    "    lc = Table.read(DirIn + 'table1_lightcurves/'+ lc_names[i]+'.dat', format='ascii')\n",
    "    \n",
    "    # Grab the colnames and units from the Readme file...\n",
    "    columns = lc.colnames\n",
    "\n",
    "    for j in range(len(columns)):\n",
    "        lc[columns[j]].name = readme.colnames[j]\n",
    "        lc[readme.colnames[j]].unit = readme[readme.colnames[j]].unit\n",
    "\n",
    "    ra[i] = lc['RAdeg'][0]\n",
    "    dec[i]  = lc['DEdeg'][0]\n",
    "\n",
    "r = Column(data=ra, name='RAdeg')\n",
    "d = Column(data=dec, name='DEdeg')\n",
    "ic = Column(np.arange(len(lc_names)), 'i')\n",
    "\n",
    "table2.add_columns([r,d,ic])\n",
    "\n",
    "# Now table2 has three additional columns that together give me all the info I need about all RR Lyr...\n",
    "# Choose only those columns that we need .\n",
    "master_table = table2[['i','RAdeg','DEdeg','Num', 'Type', 'Per', 'gmag']]\n",
    "\n",
    "\n"
   ]
  },
  {
   "cell_type": "code",
   "execution_count": 11,
   "metadata": {
    "collapsed": false
   },
   "outputs": [
    {
     "name": "stdout",
     "output_type": "stream",
     "text": [
      "RR Lyrae types in our sample : \n",
      "['ab' 'c']\n"
     ]
    }
   ],
   "source": [
    "print('RR Lyrae types in our sample : ')\n",
    "print(np.unique(master_table['Type'].data))\n",
    "\n"
   ]
  },
  {
   "cell_type": "markdown",
   "metadata": {},
   "source": [
    "To test things out, I focus on one lightcurve :"
   ]
  },
  {
   "cell_type": "code",
   "execution_count": 12,
   "metadata": {
    "collapsed": false
   },
   "outputs": [
    {
     "name": "stdout",
     "output_type": "stream",
     "text": [
      "We picked RR Lyrae ID=4099 , type ab, with a period of 0.6418 days\n"
     ]
    }
   ],
   "source": [
    "# Pick an RR Lyr, print it's mag,  type, and plot the lightcurve \n",
    "\n",
    "i = 0\n",
    "lc = Table.read(address1+lc_names[i]+'.dat', format='ascii')\n",
    "\n",
    "# Rename the columns and units for this lightcurve ...\n",
    "columns = lc.colnames\n",
    "\n",
    "for j in range(len(columns)):\n",
    "    lc[columns[j]].name = readme.colnames[j]\n",
    "    lc[readme.colnames[j]].unit = readme[readme.colnames[j]].unit\n",
    "\n",
    "# grab period and type for that particular RR Lyr...\n",
    "ID = master_table['Num'][i]\n",
    "period =master_table['Per'][i]  # in days \n",
    "rr_type = master_table['Type'][i] # string \n",
    "print('We picked RR Lyrae ID=%d , type %s, with a period of %.4f days'%(ID,rr_type, period))"
   ]
  },
  {
   "cell_type": "markdown",
   "metadata": {},
   "source": [
    "Plot raw lightcurve and period - folded lightcurve : 1)  use Branimir's period 2) do Lomb-Scargle to find period"
   ]
  },
  {
   "cell_type": "code",
   "execution_count": 13,
   "metadata": {
    "collapsed": false
   },
   "outputs": [
    {
     "data": {
      "image/png": "[encoded data removed]",
      "text/plain": [
       "<matplotlib.figure.Figure at 0x11c92e518>"
      ]
     },
     "metadata": {},
     "output_type": "display_data"
    }
   ],
   "source": [
    "\n",
    "\n",
    "def plot_data(source_mjds, source_mags, source_magerrs, ax = None, band=''): # COMPLETE THIS LINE\n",
    "    ax.errorbar(source_mjds, source_mags, source_magerrs, # COMPLETE THIS LINE\n",
    "        fmt = '_', capsize=0)\n",
    "    ax.set_xlabel('Date (MJD)')\n",
    "    ax.set_ylabel(band+' Magnitude')\n",
    "    ax.set_title('Raw data')\n",
    "    xticks = ax.get_xticks()\n",
    "    ax.set_xticks(xticks[::2])\n",
    "    plt.gca().invert_yaxis()\n",
    "    \n",
    "%matplotlib inline \n",
    "\n",
    "band = 'r'\n",
    "mask =  lc[band+'mag'] > 0   # remove all rows missing data... \n",
    "mjds = lc[band+'mjd'][mask]\n",
    "mags = lc[band+'mag'][mask]\n",
    "magerrs = lc[band+'magErr'][mask]\n",
    "fig,ax = plt.subplots()\n",
    "plot_data(mjds,mags, magerrs,ax,band)"
   ]
  },
  {
   "cell_type": "markdown",
   "metadata": {},
   "source": [
    "I'll phase this raw lightcurve on Branimir's period to see how well it fares"
   ]
  },
  {
   "cell_type": "code",
   "execution_count": 14,
   "metadata": {
    "collapsed": false
   },
   "outputs": [],
   "source": [
    "# define function to phase lightcurves\n",
    "def phase(time, period, t0 = None):\n",
    "    \"\"\" Given an input array of times and a period, return the corresponding phase.\"\"\"\n",
    "    if t0 is None:\n",
    "        t0 = time[0]\n",
    "        phase = ((time - t0) % period)/period\n",
    "    return phase # COMPLETE\n",
    "\n",
    "# define function to plot phased lc\n",
    "def plot_phased_lc(mjds, mags, magerrs, period, t0=None, ax = None, band='', nperiods = 1):\n",
    "    phases = phase(mjds, period, t0) \n",
    "    \n",
    "    # added functionality to repeat the period more than once if needed.... \n",
    "    if nperiods > 1 : \n",
    "        for i in range(1,nperiods):\n",
    "            phases =  np.append(phases, phases+i)\n",
    "            mags = np.append(mags, mags)\n",
    "            magerrs  = np.append(magerrs, magerrs)\n",
    "        \n",
    "    ax.scatter(phases,mags, lw=0, s=10)\n",
    "    ax.errorbar(phases, mags, magerrs, ls='None') #fmt = '_', capsize=0\n",
    "    ax.set_xlabel('Phase')\n",
    "    ax.set_ylabel(band+' Magnitude')\n",
    "    plt.gca().invert_yaxis()\n",
    "    \n",
    "# run function to plot phased lc\n",
    "#fig,ax = plt.subplots()\n",
    "#plot_phased_lc(mjds, mags, magerrs, period, None, ax, band, 1)\n",
    "#ax.set_title('RR Lyr '+str(ID))\n"
   ]
  },
  {
   "cell_type": "markdown",
   "metadata": {
    "collapsed": false
   },
   "source": [
    "Plot a bootstrapped periodogram for that lightcurve..."
   ]
  },
  {
   "cell_type": "code",
   "execution_count": 15,
   "metadata": {
    "collapsed": false
   },
   "outputs": [
    {
     "name": "stdout",
     "output_type": "stream",
     "text": [
      "Best period: 0.39088601156768193 days\n"
     ]
    },
    {
     "data": {
      "image/png": "[encoded data removed]",
      "text/plain": [
       "<matplotlib.figure.Figure at 0x11f0a39b0>"
      ]
     },
     "metadata": {},
     "output_type": "display_data"
    }
   ],
   "source": [
    "\n",
    "\n",
    "# provided alternate frequency function\n",
    "# I call omega angular frequency, and 'frequency' the other one...\n",
    "#  freq = 1  / Period   ,   omega =  2 pi  /  Period  ,   \n",
    "# omega = 2 pi * freq  \n",
    "\n",
    "def alt_omega_grid(Pmin, Pmax, n_bins = 5000):\n",
    "    \"\"\"Generate an angular frequency grid between Pmin and Pmax (assumed to be in days)\"\"\"\n",
    "    omega_max = 2*np.pi / Pmin\n",
    "    omega_min = 2*np.pi / Pmax\n",
    "    return np.linspace(omega_min, omega_max, n_bins)\n",
    "\n",
    "\n",
    "# Cheating : since we know that these are RR Lyrae,  \n",
    "# search on a grid between smallest and largest \n",
    "# possible period... \n",
    "all_periods = table2['Per'].data\n",
    "omegas = alt_omega_grid(min(all_periods),max(all_periods), 5000)  \n",
    "\n",
    "#omegas = freq.frequency_grid(mjds) \n",
    "P_LS = lomb_scargle(t=mjds,y=mags, dy=magerrs, omega=omegas)\n",
    "plt.plot(omegas, P_LS)\n",
    "plt.xlabel('$\\omega$')\n",
    "plt.ylabel('$P_{LS}$')\n",
    "#plt.plot(frequency, P_LS)\n",
    "\n",
    "\n",
    "# provided: define function to find best period\n",
    "def LS_peak_to_period(omegas, P_LS):\n",
    "    \"\"\"find the highest peak in the LS periodogram and return the corresponding period.\"\"\"\n",
    "    max_omega = omegas[np.argmax(P_LS)]\n",
    "    return 2*np.pi/max_omega\n",
    "\n",
    "\n",
    "D = lomb_scargle_bootstrap(t=mjds, y=mags, dy=magerrs, omega=omegas, N_bootstraps=500) # Bootstrapped LS \n",
    "sig99, sig95 = np.percentile(D,99) , np.percentile(D,95) \n",
    "\n",
    "plt.plot([omegas[0],omegas[-1]], sig99*np.ones(2),'--')\n",
    "plt.plot([omegas[0],omegas[-1]], sig95*np.ones(2),'--')\n",
    "\n",
    "# run function to find best period\n",
    "best_period = LS_peak_to_period(omegas, P_LS)\n",
    "print(\"Best period: {} days\".format(best_period))"
   ]
  },
  {
   "cell_type": "markdown",
   "metadata": {},
   "source": [
    "Fold the lightcurve on that period..."
   ]
  },
  {
   "cell_type": "code",
   "execution_count": 16,
   "metadata": {
    "collapsed": false
   },
   "outputs": [
    {
     "data": {
      "image/png": "[encoded data removed]",
      "text/plain": [
       "<matplotlib.figure.Figure at 0x11c991dd8>"
      ]
     },
     "metadata": {},
     "output_type": "display_data"
    }
   ],
   "source": [
    "fig,ax = plt.subplots()\n",
    "plot_phased_lc(mjds, mags, magerrs, best_period, None, ax, band)"
   ]
  },
  {
   "cell_type": "markdown",
   "metadata": {},
   "source": [
    "Wrap all these functions so that I can take a lightcurve, plot its raw lightcurve, fold on the true period (from Table 2), compute periodogram, and fold on the best-fit period.  I use AstroML Lomb-Scargle periodogram implementation, setting as the minimum period the shortest period amongst RR Lyr from Branimir's sample -10%, and similarly with the longest period: + 10%.  This educated guess allows us to get close to the true frequency. By default,  both AstroPy and AstroML do not span the frequencies high enough (short periodicities). "
   ]
  },
  {
   "cell_type": "code",
   "execution_count": 7,
   "metadata": {
    "collapsed": false
   },
   "outputs": [],
   "source": [
    "def plot_rr_lyr( i = 0, band='g' , table2 = table2, save_plot=False, source='Sesar'):\n",
    "    \n",
    "    # directory with RR Lyr lightcurves \n",
    "    DirIn = '../catalogs/RRLyr_S82_Sesar_2010/'\n",
    "    address1 = DirIn + 'table1_lightcurves/'\n",
    "    lc_names = table2['Num'].data.astype(str)\n",
    "    \n",
    "    # grab Branimir's period and type for that particular RR Lyr...\n",
    "    true_period = table2['Per'][i]  # in days \n",
    "    rr_type = table2['Type'][i] # string \n",
    "    ID = table2['Num'][i] # int\n",
    "    \n",
    "    omega_true = 2*np.pi / true_period\n",
    "    print('We picked RR Lyrae ID=%d , type %s, with a period of %.6f days'%(ID,rr_type, true_period))\n",
    "    print('True omega = %.4f'%omega_true)\n",
    "\n",
    "    if source == 'Sesar':\n",
    "    \n",
    "        # Pick an RR Lyr, print it's mag,  type, and plot the lightcurve \n",
    "        lc = Table.read(address1+lc_names[i]+'.dat', format='ascii')\n",
    "\n",
    "        # grab colnames and units for all RR Lyr LC lightcurves  from the readme file....\n",
    "        readme = Table.read(address1+'ReadMe', format='ascii')\n",
    "\n",
    "        # Rename the columns and units for this lightcurve ...\n",
    "        columns = lc.colnames\n",
    "\n",
    "        for j in range(len(columns)):\n",
    "            lc[columns[j]].name = readme.colnames[j]\n",
    "            lc[readme.colnames[j]].unit = readme[readme.colnames[j]].unit\n",
    "\n",
    "        # grab the lightcurve data ... \n",
    "        mask =  lc[band+'mag'] > 0   # remove all rows missing data... \n",
    "        mjds = lc[band+'mjd'][mask]\n",
    "        mags = lc[band+'mag'][mask]\n",
    "        magerrs = lc[band+'magErr'][mask]\n",
    " \n",
    "    \n",
    "    if source =='PDAC' : \n",
    "        print('We are using PDAC-downloaded lightcurves')\n",
    "        # Pick an RR Lyr\n",
    "        address = '../raw_data/RRLyr_S82_PDAC/'\n",
    "        PDAC_lcs = os.listdir(address)\n",
    "        PDAC_IDs = np.array([str.rsplit(x,'_')[0] for x in PDAC_lcs]).astype(int)  \n",
    "        PDAC_i = np.array([str.rsplit(x,'_')[1] for x in PDAC_lcs]).astype(int)\n",
    "        \n",
    "        if i not in PDAC_i : \n",
    "            print('Sorry, we do not have lightcurve i=%d, ID=%d from PDAC yet'%(i,ID ))\n",
    "        else : \n",
    "            lc = Table.read(address+lc_names[i]+'_'+str(i)+'_'+band+'.txt', format='ascii')\n",
    "            if  lc.mask is not None :\n",
    "                # remove all missing rows... \n",
    "                # if they were masked... \n",
    "                lc_clean = lc[~lc['g'].mask]  \n",
    "            else:\n",
    "                lc_clean = lc\n",
    "            # grab the lightcurve data ...\n",
    "            mjds = np.array(lc_clean['exposure_time_mid'])\n",
    "            mags = np.array(lc_clean[band])\n",
    "            magerrs = np.array(lc_clean[band+'Err'])\n",
    "    elif source not in ['PDAC','Sesar'] : \n",
    "        print('Error : ')\n",
    "        print('Source must be either PDAC or Sesar ! ')\n",
    "        return \n",
    "    # Make plot space\n",
    "    fig,axs = plt.subplots(2,2,figsize=(14,8))\n",
    "    ax = np.ravel(axs)\n",
    "        \n",
    "    # plot the raw lightcurve...\n",
    "    plot_data(mjds,mags, magerrs, ax[0], band)\n",
    "    xticks = ax[0].get_xticks()\n",
    "    ax[0].set_xticks(xticks[1::2])\n",
    "    \n",
    "    # plot phased lightcurve using  Branimir's period \n",
    "    plot_phased_lc(mjds, mags, magerrs, true_period, None, ax[1], band, 2)\n",
    "\n",
    "    # Creative guess : since we know that these are RR Lyrae,  \n",
    "    # search on a grid between  the smallest and largest \n",
    "    # possible period... \n",
    "    all_periods = table2['Per'].data\n",
    "    omegas = alt_omega_grid(0.9 * min(all_periods),1.1*max(all_periods), 5000)  \n",
    "\n",
    "    #omegas = freq.frequency_grid(mjds) \n",
    "    P_LS = lomb_scargle(t=mjds,y=mags, dy=magerrs, omega=omegas)\n",
    "    \n",
    "    # plot the periodogram\n",
    "    ax[2].plot(omegas, P_LS)\n",
    "    ax[2].set_xlabel('$\\omega$')\n",
    "    ax[2].set_ylabel('$P_{LS}$')\n",
    "    \n",
    "    # run bootstrapped resamples to get significance....\n",
    "    D = lomb_scargle_bootstrap(t=mjds, y=mags, dy=magerrs, omega=omegas, N_bootstraps=100) # Bootstrapped LS \n",
    "    sig99, sig95 = np.percentile(D,99) , np.percentile(D,95) \n",
    "\n",
    "    ax[2].plot([omegas[0],omegas[-1]], sig99*np.ones(2),'--')\n",
    "    ax[2].plot([omegas[0],omegas[-1]], sig95*np.ones(2),'--')\n",
    "    # plt.arrow(x,y,dx,dy)\n",
    "    #ax[2].arrow(omega_true, 0.2, 0, -0.1, head_width=0.5, head_length=0.1, fc='red', ec='red') \n",
    "    \n",
    "    # run function to find best period\n",
    "    omega_best = omegas[np.argmax(P_LS)]\n",
    "    best_period =  2*np.pi/omega_best\n",
    "    print(\"Best period: %.6f days\"%(best_period))\n",
    "    print(\"Best omega %.4f\"%omega_best)\n",
    "    omega_true = 2*np.pi / true_period\n",
    "    print(\"Ratio of omega_true to omega_fit_LS = %f\"%(omega_true / omega_best))\n",
    "    ax[2].axvline(omega_best, ymax=0.5, ls='--', lw=3, color='orange', label=r'$\\omega_{fit}$')\n",
    "    ax[2].axvline(omega_true, ymax=0.5, ls='-.', lw=3, color='magenta', label=r'$\\omega_{true}$')\n",
    "    \n",
    "    ax[2].legend(fontsize=15)\n",
    "    \n",
    "    # plot phased lightcurve phased using  the LS-best fit period\n",
    "    plot_phased_lc(mjds, mags, magerrs, best_period, None, ax[3], band,2)\n",
    "    \n",
    "    fig.subplots_adjust(hspace=0.3, wspace=0.3)\n",
    "    \n",
    "    if save_plot  :\n",
    "        fname = '../data_products/Fig_2_RRLyr_LS_periodogram_ID_'+str(ID)+'_'+band+source+'.png'\n",
    "        plt.savefig(fname)\n",
    "        print('Figure saved to %s'%fname)\n",
    "        \n"
   ]
  },
  {
   "cell_type": "code",
   "execution_count": 25,
   "metadata": {
    "collapsed": false
   },
   "outputs": [
    {
     "name": "stdout",
     "output_type": "stream",
     "text": [
      "10 loops, best of 3: 26.6 ms per loop\n"
     ]
    }
   ],
   "source": [
    "# TIME IT !!!!\n",
    "\n",
    "%timeit lomb_scargle(t=mjds,y=mags, dy=magerrs, omega=omegas)\n"
   ]
  },
  {
   "cell_type": "markdown",
   "metadata": {},
   "source": [
    "Since with that one lightcurve I see that the periods are not identical, let's test that for all 483 lightcurves in Branimir's sample :"
   ]
  },
  {
   "cell_type": "markdown",
   "metadata": {},
   "source": [
    "[ takes about 10 secs on the mac to run.  For each lightcurve, I run the periodogram on 5000 frequencies spaced from \n",
    "    \n",
    "    0.9 * (smallest_period_in_table_2)  -   1.1 * (longest_period_in_table_2)\n",
    "]"
   ]
  },
  {
   "cell_type": "code",
   "execution_count": 20,
   "metadata": {
    "collapsed": false
   },
   "outputs": [],
   "source": [
    "# check : for how many RR Lyr my  best-fit period is different from Branimir's by more than 10%...\n",
    "\n",
    "# directory with RR Lyr lightcurves \n",
    "DirIn = '../catalogs/RRLyr_S82_Sesar_2010/'\n",
    "address1 = DirIn + 'table1_lightcurves/'\n",
    "lc_names = table2['Num'].data.astype(str)\n",
    "\n",
    "# grab colnames and units for all RR Lyr LC lightcurves  from the readme file....\n",
    "readme = Table.read(address1+'ReadMe', format='ascii')\n",
    "\n",
    "ratios = np.ones_like(lc_names, dtype=float)\n",
    "fit_period  = np.ones_like(lc_names, dtype=float)\n",
    "\n",
    "for i in range(len(lc_names)):  # \n",
    "    \n",
    "    # Pick an RR Lyr, print it's mag,  type, and plot the lightcurve \n",
    "    lc = Table.read(address1+lc_names[i]+'.dat', format='ascii')\n",
    "\n",
    "    # Rename the columns and units for this lightcurve ...\n",
    "    columns = lc.colnames\n",
    "\n",
    "    for j in range(len(columns)):\n",
    "        lc[columns[j]].name = readme.colnames[j]\n",
    "        lc[readme.colnames[j]].unit = readme[readme.colnames[j]].unit\n",
    "\n",
    "    # grab Branimir's period and type for that particular RR Lyr...\n",
    "    true_period = table2['Per'][i]  # in days \n",
    "    rr_type = table2['Type'][i] # string \n",
    "    ID = table2['Num'][i] # int\n",
    "    \n",
    "    omega_true = 2*np.pi / true_period\n",
    "    #print('We picked RR Lyrae ID=%d , type %s, with a period of %.4f days'%(ID,rr_type, period))\n",
    "    #print('True omega = %.4f'%omega_true)\n",
    "    \n",
    "    # Creative guess : since we know that these are RR Lyrae,  \n",
    "    # search on a grid between  the smallest and largest \n",
    "    # possible period... \n",
    "    all_periods = table2['Per'].data\n",
    "    omegas = alt_omega_grid(0.9 * min(all_periods),1.1*max(all_periods), 5000)  \n",
    "\n",
    "    #omegas = freq.frequency_grid(mjds) \n",
    "    \n",
    "    mask = lc[band+'mag'] > 0   # remove all rows missing data...  (the -99.99 rows...)\n",
    "    mjds = lc[band+'mjd'][mask]\n",
    "    mags = lc[band+'mag'][mask]\n",
    "    magerrs = lc[band+'magErr'][mask]\n",
    "    \n",
    "    P_LS = lomb_scargle(t=mjds,y=mags, dy=magerrs, omega=omegas)\n",
    "   \n",
    "    # run function to find best period\n",
    "    omega_best = omegas[np.argmax(P_LS)]\n",
    "    best_period =  2*np.pi/omega_best\n",
    "    fit_period[i] = best_period\n",
    "    \n",
    "    #print(\"Best period: {} days\".format(best_period))\n",
    "    #print(\"Best omega %.4f\"%omega_best)\n",
    "    ratio = omega_true / omega_best\n",
    "    #print('Omega_true / Omega_fit = %f'%ratio)\n",
    "    ratios[i] = ratio\n",
    "\n",
    "# Add a column with these results to master table...\n",
    "\n",
    "#r = Column(data=ratios, name='ratio1')\n",
    "p = Column(data=fit_period, name='PerLS_SDSS')\n",
    "master_table.add_column(p)\n",
    "\n"
   ]
  },
  {
   "cell_type": "code",
   "execution_count": 21,
   "metadata": {
    "collapsed": true
   },
   "outputs": [],
   "source": [
    "# Save the master table...\n",
    "DirIn = '../catalogs/RRLyr_S82_Sesar_2010/'\n",
    "master_table.write(DirIn+'master_table_1-2_combined.txt', format='ascii', overwrite='True')\n"
   ]
  },
  {
   "cell_type": "code",
   "execution_count": 27,
   "metadata": {
    "collapsed": false
   },
   "outputs": [
    {
     "data": {
      "text/plain": [
       "<matplotlib.legend.Legend at 0x11fce94e0>"
      ]
     },
     "execution_count": 27,
     "metadata": {},
     "output_type": "execute_result"
    },
    {
     "data": {
      "image/png": "[encoded data removed]",
      "text/plain": [
       "<matplotlib.figure.Figure at 0x11fce9be0>"
      ]
     },
     "metadata": {},
     "output_type": "display_data"
    }
   ],
   "source": [
    "n=30\n",
    "m = master_table['Type'] =='c'\n",
    "plt.hist(master_table[m]['ratio1'], bins=n, histtype='step', color='g', normed=0, label='c')\n",
    "m = master_table['Type'] =='ab'\n",
    "plt.hist(master_table[m]['ratio1'], bins=n, histtype='step', color='r', normed=0, label='ab')\n",
    "plt.legend()\n"
   ]
  },
  {
   "cell_type": "code",
   "execution_count": 28,
   "metadata": {
    "collapsed": false,
    "scrolled": false
   },
   "outputs": [
    {
     "data": {
      "image/png": "[encoded data removed]",
      "text/plain": [
       "<matplotlib.figure.Figure at 0x11c8bfd30>"
      ]
     },
     "metadata": {},
     "output_type": "display_data"
    }
   ],
   "source": [
    "# Plot ratio of my calculated omega,  vs  omega from Branimir's table...\n",
    "\n",
    "fig,ax = plt.subplots(1,1,figsize=(8,4))\n",
    "\n",
    "# Using numpy over ax.hist  helps let the center of \n",
    "# the rectangle stay over the bin center, \n",
    "# rather than the bin edge...\n",
    "\n",
    "hist, bin_edges = np.histogram(ratios, bins=np.linspace(0.3,2.1,22\n",
    "                                                       ), density=False)\n",
    "bin_centres = (bin_edges[:-1] + bin_edges[1:])/2\n",
    "hist[0] = 0\n",
    "ax.plot(bin_centres, hist, ls = 'steps', lw=2, color = 'blue')\n",
    "#ax.hist(ratios, bins=40, histtype='step', lw=2)\n",
    "\n",
    "ax.set_xlabel(r'$ \\omega_{true} / \\omega_{LS}$')\n",
    "ax.set_ylabel(r'$N$')\n",
    "ax.set_xlim(0.3,2.0)\n",
    "plt.tight_layout()\n",
    "fname = '../data_products/Fig_3_RRLyr_omega_ratio.png'\n",
    "plt.savefig(fname)"
   ]
  },
  {
   "cell_type": "markdown",
   "metadata": {},
   "source": [
    "Get the demographics:  how many RR Lyrae is in each group... I call  ratio the $\\omega_{true}/ \\omega_{LS}$\n"
   ]
  },
  {
   "cell_type": "code",
   "execution_count": 29,
   "metadata": {
    "collapsed": false
   },
   "outputs": [
    {
     "name": "stdout",
     "output_type": "stream",
     "text": [
      "There are 334 RR Lyrae with ratio < 0.9\n",
      "There are 182 RR Lyrae with |ratio-1.0|<0.1\n",
      "There are 149 RR Lyrae with ratio > 1.1\n"
     ]
    }
   ],
   "source": [
    "print('There are %d RR Lyrae with ratio < 0.9'%np.sum(ratios<1))\n",
    "print('There are %d RR Lyrae with |ratio-1.0|<0.1'%np.sum(np.abs(ratios-1)<0.1))\n",
    "print('There are %d RR Lyrae with ratio > 1.1'%np.sum(ratios>1))"
   ]
  },
  {
   "cell_type": "markdown",
   "metadata": {},
   "source": [
    "Choose one RR Lyr in the 'left' group, and one in the 'right' group (i=1 plotted above already falls in the 'middle' group.)"
   ]
  },
  {
   "cell_type": "code",
   "execution_count": 30,
   "metadata": {
    "collapsed": false
   },
   "outputs": [
    {
     "data": {
      "text/plain": [
       "array([  0,   8,  14,  18,  19,  23,  37,  40,  46,  48,  56,  58,  63,\n",
       "        64,  71,  72,  73,  75,  78,  80,  88,  94, 101, 104, 107, 122,\n",
       "       126, 147, 148, 154, 155, 159, 165, 171, 187, 191, 194, 212, 220,\n",
       "       228, 230, 231, 233, 234, 249, 253, 255, 256, 262, 264, 275, 281,\n",
       "       305, 309, 314, 322, 323, 324, 332, 343, 349, 350, 353, 360, 378,\n",
       "       383, 384, 391, 393, 394, 395, 396, 397, 405, 412, 413, 424, 427,\n",
       "       430, 435, 437, 438, 440, 444, 445, 446, 455, 463, 466, 467, 473, 478])"
      ]
     },
     "execution_count": 30,
     "metadata": {},
     "output_type": "execute_result"
    }
   ],
   "source": [
    "# left group... \n",
    "master_table['i'][ratios<0.6].data"
   ]
  },
  {
   "cell_type": "code",
   "execution_count": 31,
   "metadata": {
    "collapsed": false
   },
   "outputs": [
    {
     "data": {
      "text/plain": [
       "0.43759246501556948"
      ]
     },
     "execution_count": 31,
     "metadata": {},
     "output_type": "execute_result"
    }
   ],
   "source": [
    "ratios[0]"
   ]
  },
  {
   "cell_type": "code",
   "execution_count": 49,
   "metadata": {
    "collapsed": false
   },
   "outputs": [
    {
     "name": "stdout",
     "output_type": "stream",
     "text": [
      "We picked RR Lyrae ID=470994 , type c, with a period of 0.346794 days\n",
      "True omega = 18.1179\n",
      "We are using PDAC-downloaded lightcurves\n",
      "Best period: 0.531667 days\n",
      "Best omega 11.8179\n",
      "Ratio of omega_true to omega_fit_LS = 1.533093\n",
      "Figure saved to ../data_products/Fig_2_RRLyr_LS_periodogram_ID_470994_gPDAC.png\n"
     ]
    },
    {
     "data": {
      "image/png": "[encoded data removed]",
      "text/plain": [
       "<matplotlib.figure.Figure at 0x11fe08828>"
      ]
     },
     "metadata": {},
     "output_type": "display_data"
    }
   ],
   "source": [
    "plot_rr_lyr(i=59, band='g', save_plot=True, source='PDAC')\n",
    "\n"
   ]
  },
  {
   "cell_type": "code",
   "execution_count": 34,
   "metadata": {
    "collapsed": false
   },
   "outputs": [
    {
     "data": {
      "text/plain": [
       "array([ 34,  43,  44,  59,  74,  89,  97, 133, 138, 141, 144, 177, 182,\n",
       "       207, 209, 216, 217, 223, 242, 244, 258, 276, 280, 284, 346, 357,\n",
       "       359, 370, 372, 375, 392, 411, 418, 426, 450, 454, 457, 458, 462,\n",
       "       468, 482])"
      ]
     },
     "execution_count": 34,
     "metadata": {},
     "output_type": "execute_result"
    }
   ],
   "source": [
    "# right group... \n",
    "master_table['i'][ratios>1.5].data"
   ]
  },
  {
   "cell_type": "code",
   "execution_count": 35,
   "metadata": {
    "collapsed": false
   },
   "outputs": [
    {
     "data": {
      "text/plain": [
       "1.5330928328797033"
      ]
     },
     "execution_count": 35,
     "metadata": {},
     "output_type": "execute_result"
    }
   ],
   "source": [
    "ratios[59]"
   ]
  },
  {
   "cell_type": "code",
   "execution_count": 36,
   "metadata": {
    "collapsed": false
   },
   "outputs": [
    {
     "name": "stdout",
     "output_type": "stream",
     "text": [
      "We picked RR Lyrae ID=470994 , type c, with a period of 0.346794 days\n",
      "True omega = 18.1179\n",
      "Best period: 0.531667 days\n",
      "Best omega 11.8179\n",
      "Ratio of omega_true to omega_fit_LS = 1.533093\n",
      "Figure saved to ../data_products/Fig_2_RRLyr_LS_periodogram_ID_470994_gSesar.png\n"
     ]
    },
    {
     "data": {
      "image/png": "[encoded data removed]",
      "text/plain": [
       "<matplotlib.figure.Figure at 0x11fd556d8>"
      ]
     },
     "metadata": {},
     "output_type": "display_data"
    }
   ],
   "source": [
    "plot_rr_lyr(i=59, band='g', save_plot=True)"
   ]
  },
  {
   "cell_type": "markdown",
   "metadata": {},
   "source": [
    "## Select a few objects, grab data from PDAC, see what results we get..."
   ]
  },
  {
   "cell_type": "code",
   "execution_count": 249,
   "metadata": {
    "collapsed": false
   },
   "outputs": [
    {
     "data": {
      "text/html": [
       "&lt;Table length=5&gt;\n",
       "<table id=\"table4893902104\" class=\"table-striped table-bordered table-condensed\">\n",
       "<thead><tr><th>i</th><th>RAdeg</th><th>DEdeg</th><th>Num</th><th>Type</th><th>Per</th><th>gmag</th></tr></thead>\n",
       "<thead><tr><th></th><th></th><th></th><th></th><th></th><th>d</th><th>mag</th></tr></thead>\n",
       "<thead><tr><th>int64</th><th>float64</th><th>float64</th><th>int64</th><th>str2</th><th>float64</th><th>float64</th></tr></thead>\n",
       "<tr><td>0</td><td>0.935679</td><td>1.115859</td><td>4099</td><td>ab</td><td>0.641754351271</td><td>16.6637400636</td></tr>\n",
       "<tr><td>1</td><td>0.283437</td><td>1.178522</td><td>13350</td><td>ab</td><td>0.547987422171</td><td>16.9886134861</td></tr>\n",
       "<tr><td>2</td><td>3.254658</td><td>-0.584066</td><td>15927</td><td>ab</td><td>0.612262983773</td><td>17.6534916127</td></tr>\n",
       "<tr><td>3</td><td>3.244369</td><td>0.218891</td><td>20406</td><td>ab</td><td>0.631853138777</td><td>15.2059062035</td></tr>\n",
       "<tr><td>4</td><td>4.315354</td><td>1.054582</td><td>21992</td><td>ab</td><td>0.625880355362</td><td>14.3769955855</td></tr>\n",
       "</table>"
      ],
      "text/plain": [
       "<Table length=5>\n",
       "  i    RAdeg     DEdeg    Num  Type      Per            gmag    \n",
       "                                          d             mag     \n",
       "int64 float64   float64  int64 str2    float64        float64   \n",
       "----- -------- --------- ----- ---- -------------- -------------\n",
       "    0 0.935679  1.115859  4099   ab 0.641754351271 16.6637400636\n",
       "    1 0.283437  1.178522 13350   ab 0.547987422171 16.9886134861\n",
       "    2 3.254658 -0.584066 15927   ab 0.612262983773 17.6534916127\n",
       "    3 3.244369  0.218891 20406   ab 0.631853138777 15.2059062035\n",
       "    4 4.315354  1.054582 21992   ab 0.625880355362 14.3769955855"
      ]
     },
     "execution_count": 249,
     "metadata": {},
     "output_type": "execute_result"
    }
   ],
   "source": [
    "master_table[:5]"
   ]
  },
  {
   "cell_type": "markdown",
   "metadata": {},
   "source": []
  },
  {
   "cell_type": "markdown",
   "metadata": {},
   "source": [
    "## Downloading the RR Lyr data from PDAC "
   ]
  },
  {
   "cell_type": "markdown",
   "metadata": {},
   "source": [
    "Very counter-intuitive (why \"separate rows in the table result from the measurements in each band” ?  ) . I am guessing based on the example SQL queries from https://confluence.lsstcorp.org/display/DM/PDAC+sample+queries+and+test+cases#PDACsamplequeriesandtestcases-Forreturningtheflux  rather than anything else, what the columns in Catalogs --> Deep Forced Source mean.  And from \n",
    "\n",
    "\n",
    "    SELECT\n",
    "        objectId,\n",
    "        id,\n",
    "        fsrc.exposure_id,\n",
    "        fsrc.exposure_time_mid,\n",
    "        exp.run,\n",
    "        scisql_dnToFlux(fsrc.flux_psf, exp.fluxMag0) AS tsv_flux,\n",
    "        scisql_dnToFluxSigma(fsrc.flux_psf, fsrc.flux_psf_err, exp.fluxMag0, exp.fluxMag0Sigma) AS tsv_fluxErr\n",
    "    FROM\n",
    "        RunDeepForcedSource AS fsrc,\n",
    "        Science_Ccd_Exposure AS exp\n",
    "    WHERE\n",
    "            exp.scienceCcdExposureId = fsrc.exposure_id\n",
    "        AND fsrc.exposure_filter_id = 1\n",
    "        AND NOT (fsrc.flagPixEdge     | fsrc.flagPixSaturAny |\n",
    "                 fsrc.flagPixSaturCen | fsrc.flagBadApFlux |\n",
    "                 fsrc.flagBadPsfFlux)\n",
    "        AND objectId = 3448068867358968\n",
    "    ORDER BY\n",
    "        exposure_time_mid\n",
    "\n",
    "    \n",
    "which they use to return the flux (\"Computing a calibrated flux requires correcting the observed flux for the photometric zero point.  This requires a join between the RunDeepForcedSource table, for the information about the individual observations, and the Science_Ccd_Exposure table (for a per-visit-image photometric zero point)\".)  , I guess that for RunDeepForcedSource, \n",
    "\n",
    "          exposure_id, exposure_time_mid,  flux_psf,  flux_psf_err   \n",
    "\n",
    "are columns of interest, and that we also need to grab from the exposure table (Science_Ccd_Exposure)\n",
    "      scienceCcdExposureId, run, fluxMag0, fluxMag0Sigma\n",
    "    \n",
    "If we use shorthand notation  \n",
    "\n",
    "      RunDeepForcedSource   == fsrc\n",
    "      Science_Ccd_Exposure ==  exp\n",
    "    \n",
    "then  \n",
    "\n",
    "    fsrc.exposure_id  <==>  exp.scienceCcdExposureId\n",
    "    \n",
    "They choose g-band by restricting  \n",
    "    \n",
    "    fsrc.exposure_filter_id = 1\n",
    "    \n"
   ]
  },
  {
   "cell_type": "markdown",
   "metadata": {},
   "source": [
    "To reproduce the above, but without executing \n",
    "\n",
    "    curl -d 'query=SELECT objectId, id, fsrc.exposure_id, fsrc.exposure_time_mid, exp.run, scisql_dnToFlux(fsrc.flux_psf,exp.fluxMag0) AS tsv_flux, scisql_dnToFluxSigma(fsrc.flux_psf, fsrc.flux_psf_err, exp.fluxMag0, exp.fluxMag0Sigma) AS tsv_fluxErr FROM RunDeepForcedSource AS fsrc, Science_Ccd_Exposure AS exp WHERE exp.scienceCcdExposureId = fsrc.exposure_id AND fsrc.exposure_filter_id=1 AND objectId=3448068867358968 ORDER BY exposure_time_mid' http://lsst-qserv-dax01.ncsa.illinois.edu:5000/db/v0/tap/sync\n",
    "   \n",
    "(by the way, when I execute that I have no idea in what format is my data returned....Is it an IPAC table ? Doesn't look like it ... ) \n",
    "\n",
    "\n",
    "Using the interface very easily becomes cumbersome.  To get calibrated flux, I need to : \n",
    "\n",
    "1) download from Catalog --> Deep Forced Source,  query  with 23.201735,1.029917,  radius 2 arcsec for cone search,   grabbing the above (there is no single id that would be held constant for the same source...)  Even for this narrow cone, I get objectId 2674023418832533  and 2674023418827266 . If I decrease the cone to the smallest allowed value (1 arcsec), I still get the same  two objectId's . \n",
    "\n",
    "Need to also grab  \n",
    "    (fsrc.flagPixEdge     | fsrc.flagPixSaturAny |  fsrc.flagPixSaturCen | fsrc.flagBadApFlux |\n",
    "     fsrc.flagBadPsfFlux)\n",
    "and remove all rows where this is nonzero. \n",
    "\n",
    "\n",
    "Save also the  cols : \n",
    "    \n",
    "    id, objectId,  exposure_filter_id , exposure_id, exposure_time_mid,  flux_psf,  flux_psf_err, \n",
    "    \n",
    "( I would also grab coord_ra  , coord_dec , to show that indeed this is one , and not two, objects...  The SQL query seems to rely on the fact that different objectIds correspond to different objects, but here I get that it is one and the same object....) \n",
    "\n",
    "2) download from Images --> Science CCD Exposure, querying against 23.201735,1.029917  ,  and keeping \n",
    "\n",
    "    run, fluxMag0, fluxMag0Sigma, scienceCcdExposureId\n",
    "    \n",
    "3) Join the two tables on \n",
    "    \n",
    "    fsrc.exposure_id  <==>  exp.scienceCcdExposureId\n",
    "    \n",
    "4) Calculate calibrated flux, fluxErr  using  flux_psf  , flux_psf_err, fluxMag0, fluxMag0Sigma - how is it done ? Tey use some built-in functions \n",
    "\n",
    "    scisql_dnToFlux()  scisql_dnToFluxSigma()\n",
    "    \n",
    "    \n",
    "But I would have to code it from the scratch...."
   ]
  },
  {
   "cell_type": "markdown",
   "metadata": {},
   "source": [
    "much info on the S82 tables is available here:   https://dev.lsstcorp.org/trac/wiki/DC/Winter2013 \n",
    "\n",
    "I looked and looked for these two scisql  functions.... I found github pages that seem to be related to its development : https://github.com/smonkewitz/scisql  https://github.com/lsst/scisql  "
   ]
  },
  {
   "cell_type": "markdown",
   "metadata": {},
   "source": [
    "In essence : very laborious... "
   ]
  },
  {
   "cell_type": "markdown",
   "metadata": {},
   "source": [
    "## Use SQL queries to get the data, and then analyze here: \n",
    "\n"
   ]
  },
  {
   "cell_type": "code",
   "execution_count": 257,
   "metadata": {
    "collapsed": false
   },
   "outputs": [
    {
     "data": {
      "text/html": [
       "&lt;Table length=1&gt;\n",
       "<table id=\"table4921328976\" class=\"table-striped table-bordered table-condensed\">\n",
       "<thead><tr><th>i</th><th>RAdeg</th><th>DEdeg</th><th>Num</th><th>Type</th><th>Per</th><th>gmag</th></tr></thead>\n",
       "<thead><tr><th></th><th></th><th></th><th></th><th></th><th>d</th><th>mag</th></tr></thead>\n",
       "<thead><tr><th>int64</th><th>float64</th><th>float64</th><th>int64</th><th>str2</th><th>float64</th><th>float64</th></tr></thead>\n",
       "<tr><td>112</td><td>23.201735</td><td>1.029917</td><td>1013184</td><td>ab</td><td>0.614318300907</td><td>16.6837837725</td></tr>\n",
       "</table>"
      ],
      "text/plain": [
       "<Table length=1>\n",
       "  i     RAdeg    DEdeg     Num   Type      Per            gmag    \n",
       "                                            d             mag     \n",
       "int64  float64  float64   int64  str2    float64        float64   \n",
       "----- --------- -------- ------- ---- -------------- -------------\n",
       "  112 23.201735 1.029917 1013184   ab 0.614318300907 16.6837837725"
      ]
     },
     "execution_count": 257,
     "metadata": {},
     "output_type": "execute_result"
    }
   ],
   "source": [
    "row = master_table['Num'] == 1013184\n",
    "master_table[row]"
   ]
  },
  {
   "cell_type": "markdown",
   "metadata": {},
   "source": [
    "i=112, RR Lyr ID=1013184, type= ab, period = 0.614318, RA, dec = 23.201735,1.029917, gmag=16.683784"
   ]
  },
  {
   "cell_type": "markdown",
   "metadata": {},
   "source": [
    "### 1) Query RunDeepForcedSource against RA,DEC : find objectIds in the circle "
   ]
  },
  {
   "cell_type": "markdown",
   "metadata": {},
   "source": [
    "1) Query the RunDeepForcedSource to find out what are objectIds within a tiny circle centered on the desired RA, dec  : ( I SELECT objectId  only ,  to make it easier to search the output JSON file for unique values...(\n",
    "  \n",
    "  a) using qserv functions : \n",
    "    \n",
    "    \n",
    "     curl -o catalogCone.json \\\n",
    "                -d 'query=SELECT+objectId+FROM+RunDeepForcedSource+WHERE+qserv_areaspec_circle(23.201735,1.029917,0.00055);' \\\n",
    "                http://lsst-qserv-dax01.ncsa.illinois.edu:5000/db/v0/tap/sync\n",
    "    \n",
    "  \n",
    "   \n",
    "    above, the center RA is 23.201735,  center dec 1.029917 , and the search radius is 2 / 3600 = 0.00055 degrees,\n",
    "    and catalogCone.json  is the json file produced by the query \n",
    "    \n",
    "    \n",
    "    \n",
    "  ( same can be done using scisql functions :\n",
    "   \n",
    "     curl -o catalogCone.json \\\n",
    "                -d     'query=SELECT+objectId+FROM+RunDeepForcedSource+WHERE+scisql_s2PtInCircle(coord_ra,coord_decl,23.201735,1.029917,0.00055)=1;' \\\n",
    "                http://lsst-qserv-dax01.ncsa.illinois.edu:5000/db/v0/tap/sync\n",
    "  )"
   ]
  },
  {
   "cell_type": "markdown",
   "metadata": {},
   "source": [
    "Read the JSON file : \n",
    "    \n",
    "\n",
    "    "
   ]
  },
  {
   "cell_type": "code",
   "execution_count": 534,
   "metadata": {
    "collapsed": false
   },
   "outputs": [],
   "source": [
    "# solution from \n",
    "# https://dzone.com/articles/python-reading-json-file \n",
    "\n",
    "\n",
    "json_file = '../raw_data/catalogCone.json'\n",
    "tab = json.loads(open(json_file).read())\n"
   ]
  },
  {
   "cell_type": "code",
   "execution_count": 535,
   "metadata": {
    "collapsed": false
   },
   "outputs": [
    {
     "data": {
      "text/plain": [
       "dict_keys(['data', 'metadata'])"
      ]
     },
     "execution_count": 535,
     "metadata": {},
     "output_type": "execute_result"
    }
   ],
   "source": [
    "tab['result']['table'].keys()"
   ]
  },
  {
   "cell_type": "code",
   "execution_count": 536,
   "metadata": {
    "collapsed": false
   },
   "outputs": [
    {
     "name": "stdout",
     "output_type": "stream",
     "text": [
      "objectId\n"
     ]
    }
   ],
   "source": [
    "meta = tab['result']['table']['metadata']['elements']\n",
    "\n",
    "for i in range(len(meta)):\n",
    "    print(meta[i]['name'])"
   ]
  },
  {
   "cell_type": "code",
   "execution_count": 538,
   "metadata": {
    "collapsed": false
   },
   "outputs": [
    {
     "data": {
      "text/plain": [
       "array([2674023418827266, 2674023418832533])"
      ]
     },
     "execution_count": 538,
     "metadata": {},
     "output_type": "execute_result"
    }
   ],
   "source": [
    "# find what are the unique objectId's  within this cone search \n",
    "# ravel flattens all the data, since I queried for objectId only... \n",
    "np.unique(np.ravel(tab['result']['table']['data']))"
   ]
  },
  {
   "cell_type": "markdown",
   "metadata": {},
   "source": [
    "### 2) Query RunDeepForcedSource  and Science_Ccd_Exposure given objectIds,  to get calibrated magnitudes"
   ]
  },
  {
   "cell_type": "markdown",
   "metadata": {},
   "source": [
    "2) Query with these objectIds against the RunDeepForcedSource  and Science_Ccd_Exposure   tables,  to get \n",
    "calibrated magnitudes : \n",
    "\n",
    "    SELECT\n",
    "        objectId,\n",
    "        id,\n",
    "        fsrc.exposure_id,\n",
    "        fsrc.exposure_time_mid,\n",
    "        exp.run,\n",
    "        scisql_dnToAbMag(fsrc.flux_psf, exp.fluxMag0) AS g,\n",
    "        scisql_dnToAbMagSigma(fsrc.flux_psf, fsrc.flux_psf_err, exp.fluxMag0, exp.fluxMag0Sigma) AS gErr\n",
    "    FROM\n",
    "        RunDeepForcedSource AS fsrc,\n",
    "        Science_Ccd_Exposure AS exp\n",
    "    WHERE\n",
    "            exp.scienceCcdExposureId = fsrc.exposure_id\n",
    "        AND fsrc.exposure_filter_id = 1\n",
    "        AND NOT (fsrc.flagPixEdge     | fsrc.flagPixSaturAny |\n",
    "                 fsrc.flagPixSaturCen | fsrc.flagBadApFlux |\n",
    "                 fsrc.flagBadPsfFlux)\n",
    "        AND objectId IN (2674023418827266,2674023418832533)\n",
    "    ORDER BY\n",
    "        exposure_time_mid\n"
   ]
  },
  {
   "cell_type": "markdown",
   "metadata": {},
   "source": [
    "To the first line of curl  expression, I add -o catalogCone.json  , before -d,   to output to a file : "
   ]
  },
  {
   "cell_type": "code",
   "execution_count": null,
   "metadata": {
    "collapsed": true
   },
   "outputs": [],
   "source": []
  },
  {
   "cell_type": "markdown",
   "metadata": {},
   "source": [
    "    curl -o catalogForced.json -d 'query=SELECT objectId, id, fsrc.exposure_id, fsrc.exposure_time_mid, exp.run, scisql_dnToAbMag(fsrc.flux_psf,exp.fluxMag0) AS g, scisql_dnToAbMagSigma(fsrc.flux_psf, fsrc.flux_psf_err, exp.fluxMag0, exp.fluxMag0Sigma) AS gErr FROM RunDeepForcedSource AS fsrc, Science_Ccd_Exposure AS exp WHERE exp.scienceCcdExposureId = fsrc.exposure_id AND fsrc.exposure_filter_id=1 AND objectId IN (2674023418827266, 2674023418832533) ORDER BY exposure_time_mid' http://lsst-qserv-dax01.ncsa.illinois.edu:5000/db/v0/tap/sync"
   ]
  },
  {
   "cell_type": "markdown",
   "metadata": {},
   "source": [
    "Read the output : "
   ]
  },
  {
   "cell_type": "code",
   "execution_count": 539,
   "metadata": {
    "collapsed": true
   },
   "outputs": [],
   "source": [
    "json_file= '../raw_data/catalogForced.json'\n",
    "tab = json.loads(open(json_file).read())\n",
    "\n",
    "print(tab['result']['table'].keys())\n",
    "print(tab['result']['table']['metadata']['elements'])\n",
    "\n",
    "meta = tab['result']['table']['metadata']['elements']\n",
    "data = tab['result']['table']['data']\n",
    "dataT = np.transpose(data)\n",
    "\n",
    "\n",
    "\n",
    "t = Table()\n",
    "\n",
    "# iterate over columns...\n",
    "for i in range(len(dataT)):\n",
    "    t.add_column(Column(dataT[i], name=meta[i]['name']), index=0)"
   ]
  },
  {
   "cell_type": "code",
   "execution_count": 546,
   "metadata": {
    "collapsed": false
   },
   "outputs": [
    {
     "data": {
      "text/html": [
       "&lt;Column name=&apos;objectId&apos; dtype=&apos;int64&apos; length=2&gt;\n",
       "<table>\n",
       "<tr><td>2674023418827266</td></tr>\n",
       "<tr><td>2674023418832533</td></tr>\n",
       "</table>"
      ],
      "text/plain": [
       "<Column name='objectId' dtype='int64' length=2>\n",
       "2674023418827266\n",
       "2674023418832533"
      ]
     },
     "execution_count": 546,
     "metadata": {},
     "output_type": "execute_result"
    }
   ],
   "source": [
    "# pull only those epochs where we have an existing measurement \n",
    "\n",
    "mask = np.isfinite(t['g'].data.astype(float))\n",
    "\n",
    "# show that indeed all info is stored correctly, and indeed we have been able to grab photometry \n",
    "# for the same object, but with two different objectId's..\n",
    "np.unique(t[mask]['objectId'].astype(int))"
   ]
  },
  {
   "cell_type": "code",
   "execution_count": 547,
   "metadata": {
    "collapsed": false
   },
   "outputs": [
    {
     "data": {
      "text/html": [
       "&lt;Table length=5&gt;\n",
       "<table id=\"table4813165064\" class=\"table-striped table-bordered table-condensed\">\n",
       "<thead><tr><th>gErr</th><th>g</th><th>run</th><th>exposure_time_mid</th><th>exposure_id</th><th>id</th><th>objectId</th></tr></thead>\n",
       "<thead><tr><th>float64</th><th>float64</th><th>float64</th><th>float64</th><th>float64</th><th>float64</th><th>float64</th></tr></thead>\n",
       "<tr><td>0.0180446796993</td><td>17.0486095197</td><td>1755.0</td><td>51819.4209479</td><td>1755160531.0</td><td>1.17786829373e+17</td><td>2.67402341883e+15</td></tr>\n",
       "<tr><td>0.0180446317532</td><td>17.0483672826</td><td>1755.0</td><td>51819.4209479</td><td>1755160531.0</td><td>1.17786829373e+17</td><td>2.67402341883e+15</td></tr>\n",
       "<tr><td>0.0171980667495</td><td>17.5825166235</td><td>2886.0</td><td>52288.0801157</td><td>2886160064.0</td><td>1.93686923217e+17</td><td>2.67402341883e+15</td></tr>\n",
       "<tr><td>0.017198059783</td><td>17.582496621</td><td>2886.0</td><td>52288.0801157</td><td>2886160064.0</td><td>1.93686923217e+17</td><td>2.67402341883e+15</td></tr>\n",
       "<tr><td>0.0349384939406</td><td>17.2265218177</td><td>3325.0</td><td>52522.3823283</td><td>3325160263.0</td><td>2.23147727868e+17</td><td>2.67402341883e+15</td></tr>\n",
       "</table>"
      ],
      "text/plain": [
       "<Table length=5>\n",
       "      gErr            g         run   ...         id             objectId    \n",
       "    float64        float64    float64 ...      float64           float64     \n",
       "--------------- ------------- ------- ... ----------------- -----------------\n",
       "0.0180446796993 17.0486095197  1755.0 ... 1.17786829373e+17 2.67402341883e+15\n",
       "0.0180446317532 17.0483672826  1755.0 ... 1.17786829373e+17 2.67402341883e+15\n",
       "0.0171980667495 17.5825166235  2886.0 ... 1.93686923217e+17 2.67402341883e+15\n",
       " 0.017198059783  17.582496621  2886.0 ... 1.93686923217e+17 2.67402341883e+15\n",
       "0.0349384939406 17.2265218177  3325.0 ... 2.23147727868e+17 2.67402341883e+15"
      ]
     },
     "execution_count": 547,
     "metadata": {},
     "output_type": "execute_result"
    }
   ],
   "source": [
    "t[:5]"
   ]
  },
  {
   "cell_type": "markdown",
   "metadata": {},
   "source": [
    "Plot raw g-band data from PDAC  for RR Lyr ID = 1013184 : "
   ]
  },
  {
   "cell_type": "code",
   "execution_count": 548,
   "metadata": {
    "collapsed": false
   },
   "outputs": [
    {
     "data": {
      "image/png": "[encoded data removed]",
      "text/plain": [
       "<matplotlib.figure.Figure at 0x11ee317b8>"
      ]
     },
     "metadata": {},
     "output_type": "display_data"
    }
   ],
   "source": [
    "\n",
    "fig,ax = plt.subplots()\n",
    "plot_data(t['exposure_time_mid'], t['g'], t['gErr'], ax)\n"
   ]
  },
  {
   "cell_type": "markdown",
   "metadata": {},
   "source": [
    "#### Fold the PDAC g-band data on the period from Sesar+2010 : "
   ]
  },
  {
   "cell_type": "code",
   "execution_count": 549,
   "metadata": {
    "collapsed": false
   },
   "outputs": [
    {
     "data": {
      "image/png": "[encoded data removed]",
      "text/plain": [
       "<matplotlib.figure.Figure at 0x11ef1ca58>"
      ]
     },
     "metadata": {},
     "output_type": "display_data"
    }
   ],
   "source": [
    "\n",
    "fig,ax = plt.subplots()\n",
    "plot_phased_lc(t['exposure_time_mid'], t['g'], t['gErr'], 0.614318, t0=None, ax = ax, band='')"
   ]
  },
  {
   "cell_type": "markdown",
   "metadata": {},
   "source": [
    "#### Plot the Sesar+2010 S82 data : raw and folded "
   ]
  },
  {
   "cell_type": "code",
   "execution_count": 531,
   "metadata": {
    "collapsed": false
   },
   "outputs": [
    {
     "name": "stdout",
     "output_type": "stream",
     "text": [
      "We picked RR Lyrae ID=1013184 , type ab, with a period of 0.614318 days\n",
      "True omega = 10.2279\n",
      "Best period: 0.614323034801143 days\n",
      "Best omega 10.2278\n"
     ]
    },
    {
     "data": {
      "image/png": "[encoded data removed]",
      "text/plain": [
       "<matplotlib.figure.Figure at 0x11fd69b70>"
      ]
     },
     "metadata": {},
     "output_type": "display_data"
    }
   ],
   "source": [
    "plot_rr_lyr(i=0, band='g')"
   ]
  },
  {
   "cell_type": "markdown",
   "metadata": {},
   "source": [
    "### Compare against NASA Exoplanet Archive "
   ]
  },
  {
   "cell_type": "markdown",
   "metadata": {},
   "source": [
    "To use the Exoplanet Archive , I need a clean  mjd,mag,magerr lightcurve with no bad data.  Thus I take a few lightcurves from Branimir's  sample, and split them into separate files, each having one band, removing the bad data (-99.99 rows).\n",
    "\n"
   ]
  },
  {
   "cell_type": "code",
   "execution_count": 50,
   "metadata": {
    "collapsed": false
   },
   "outputs": [
    {
     "name": "stdout",
     "output_type": "stream",
     "text": [
      "\n",
      "For RR Lyr ID=470994, type= c, period = 0.346794, RA, dec = -12.903479,0.190685, gmag=18.993095\n",
      "       For ID=470994, in u band we removed 1 bad rows\n",
      "       For ID=470994, in g band we removed 2 bad rows\n",
      "       For ID=470994, in r band we removed 2 bad rows\n",
      "       For ID=470994, in i band we removed 2 bad rows\n",
      "       For ID=470994, in z band we removed 1 bad rows\n",
      "Cleared lightcurves, split into bands, removing \"-99.99 points\", saved to ../raw_data/RRLyr_S82_Sesar_2010_LC/\n"
     ]
    }
   ],
   "source": [
    "\n",
    "\n",
    "\n",
    "# Read in a particular RR Lyr...\n",
    "lc_names = table2['Num'].data.astype(str)\n",
    "\n",
    "for i in [59] : \n",
    "\n",
    "    lc = Table.read(address1+lc_names[i]+'.dat', format='ascii')\n",
    "\n",
    "    # Grab the colnames and units from the \n",
    "    # Readme file...\n",
    "    columns = lc.colnames\n",
    "\n",
    "    for j in range(len(columns)):\n",
    "        lc[columns[j]].name = readme.colnames[j]\n",
    "        lc[readme.colnames[j]].unit = readme[readme.colnames[j]].unit\n",
    "\n",
    "    # Display some info about this particular RR Lyr ...\n",
    "    print('\\nFor RR Lyr ID=%d, type= %s, period = %f, RA, dec = %f,%f, gmag=%f'%(master_table[i]['Num'],\n",
    "                                                                             master_table[i]['Type'],\n",
    "                                                                             master_table[i]['Per'],\n",
    "                                                                             master_table[i]['RAdeg'], \n",
    "                                                                             master_table[i]['DEdeg'],\n",
    "                                                                             master_table[i]['gmag']))\n",
    "    # Save the lightcurve in a given band 'cleared' on the -99  measurements( which indicate a lack of measurement...)\n",
    "    # name:  RRLyrID_band.dat\n",
    "    for band in 'ugriz':\n",
    "        good_rows = lc[band+'mag'].data != -99.99\n",
    "        print('       For ID=%d, in %s band we removed %d bad rows'%(master_table[i]['Num'],band,np.sum(~good_rows)))\n",
    "        mjd = lc[band+'mjd'][good_rows]\n",
    "        mag = lc[band+'mag'][good_rows]\n",
    "        magerr = lc[band+'magErr'][good_rows]\n",
    "\n",
    "        data = np.column_stack((mjd,mag,magerr))\n",
    "        DirOut = '../raw_data/RRLyr_S82_Sesar_2010_LC/'\n",
    "        fname = str(lc_names[i])+'_'+band+'.txt'\n",
    "        # formatting keeps the original accuracy of MJD, and photometry \n",
    "        np.savetxt(DirOut+fname, data, fmt='%10.6f %10.3f %10.3f')\n",
    "\n",
    "print('Cleared lightcurves, split into bands, removing \"-99.99 points\", saved to %s' % DirOut)"
   ]
  },
  {
   "cell_type": "markdown",
   "metadata": {},
   "source": [
    "Focus on the object that I got from PDAC : "
   ]
  },
  {
   "cell_type": "markdown",
   "metadata": {
    "collapsed": true
   },
   "source": [
    "Do the same object with Exoplanet Archive... ( I set min period=0.254146, max period =0.907497 [days]). I upload the cleaned g-magnitude lightcurve : \n",
    "\n",
    "    '../raw_data/RRLyr_S82_Sesar_2010_LC/1013184_g.txt' "
   ]
  },
  {
   "cell_type": "markdown",
   "metadata": {
    "collapsed": true
   },
   "source": [
    "email of Feb 17, 2017, from Zeljko : \n",
    "    \n",
    "  \"when you run periodogram for a few stars, could you please also\n",
    "try this service and compare to your independent results:\n",
    "http://exoplanetarchive.ipac.caltech.edu/cgi-bin/Pgram/nph-pgram\n",
    "\n",
    "In addition to comparing periods (or the whole periodograms), it’d\n",
    "be great to have a statement about the compute speed.\n",
    "\n",
    "   Z.\"\""
   ]
  },
  {
   "cell_type": "markdown",
   "metadata": {},
   "source": [
    "In Exoplanet Archive, I use these as the lower / upper bounds on periods to search   (same as when I am using AstroML periodogram...)"
   ]
  },
  {
   "cell_type": "code",
   "execution_count": 146,
   "metadata": {
    "collapsed": false
   },
   "outputs": [
    {
     "name": "stdout",
     "output_type": "stream",
     "text": [
      "min period=0.228731, max period =0.998246 [days]\n"
     ]
    }
   ],
   "source": [
    "print('min period=%f, max period =%f [days]'%(0.9*min(all_periods), 1.1*max(all_periods)))\n",
    "\n"
   ]
  },
  {
   "cell_type": "markdown",
   "metadata": {
    "collapsed": true
   },
   "source": [
    "    --> uploading tiniest file takes ~10 secs\n",
    "    --> entering min and max periods,  choosing 'Lomb Scargle' and 'Fixed Frequency', I get step size of 0.0001678 \n",
    "    --> calculating takes ~15 secs "
   ]
  },
  {
   "cell_type": "markdown",
   "metadata": {
    "collapsed": true
   },
   "source": [
    "Best Period (Rank1) : 0.614320  ( I saved the periodogram file in ../data_products/Exoplanet...) \n",
    "    \n",
    "        \\\n",
    "    \\ Periodogram Table of Peaks File\n",
    "    \\\n",
    "    \\ Input File=1013184_g.txt\n",
    "    \\ Time Column=col1\n",
    "    \\ Data Column=col2\n",
    "    \\ Algorithm=ls\n",
    "    \\ Min Period=0.254146\n",
    "    \\ Max Period=0.907497\n",
    "    \\ Step Method=fixedf\n",
    "    \\ Fixed Step Size=0.000168\n",
    "    \\ Number of Peaks=50\n",
    "    \\ Peak Significant Threshold=1.000000\n",
    "    \\ NSamplesForStat=16883\n",
    "    \\\n",
    "    |Peak |Period              |Power               |Frequency           |SDE                 |\n",
    "    |int  |double              |double              |double              |double              |\n",
    "     1     0.6143195866         19.7613657201        1.6278172173         19.7613657201     \n",
    "\n",
    "<img src=\"figures/1013184_g_periodogram.png\" width=500>"
   ]
  },
  {
   "cell_type": "markdown",
   "metadata": {},
   "source": [
    "Compare the number of steps:  \n",
    "    \n",
    "    for these bounding periods, I get fixed step size of 0.0001226 , which is calculated from http://exoplanetarchive.ipac.caltech.edu/docs/pgram/pgram_parameters.html#period_step , giving 6126 steps (if I understand how they do it correctly) . \n",
    "    \n",
    "    For object ID-13350 , "
   ]
  },
  {
   "cell_type": "code",
   "execution_count": 86,
   "metadata": {
    "collapsed": false
   },
   "outputs": [
    {
     "name": "stdout",
     "output_type": "stream",
     "text": [
      "Best period from Exoplanet archive for this RR Lyra is 0.641750  days \n"
     ]
    }
   ],
   "source": [
    "# Check the results....\n",
    "\n",
    "DirIn = '../data_products/ExoplanetArchive_RRLyr_Periodograms/'\n",
    "power = Table.read(DirIn + '4099_g.tbl', format='ipac')\n",
    "print('Best period from Exoplanet archive for this RR Lyra is %.6f  days '%power['Period'][np.argmax(power['Power'])])"
   ]
  },
  {
   "cell_type": "markdown",
   "metadata": {},
   "source": [
    "## Do the same for another RA, dec ... \n"
   ]
  },
  {
   "cell_type": "markdown",
   "metadata": {},
   "source": [
    "i=1, RR Lyr ID=1019544, type= ab, period = 0.622447, RA, dec = -23.690417,-0.104992, gmag=15.410343"
   ]
  },
  {
   "cell_type": "markdown",
   "metadata": {},
   "source": [
    "... and make it automatic! "
   ]
  },
  {
   "cell_type": "markdown",
   "metadata": {},
   "source": [
    "Pipeline : \n",
    "    * query RunDeepForcedSource Table in cone search qserv_areaspec_circle(ra,dec, search_radius_degrees)\n",
    "    * identify unique objectId in this circle\n",
    "    * query RunDeepForcedSource and Science_Ccd_Exposure  to get AB magnitudes"
   ]
  },
  {
   "cell_type": "markdown",
   "metadata": {},
   "source": [
    "### First, do for one object : "
   ]
  },
  {
   "cell_type": "code",
   "execution_count": 258,
   "metadata": {
    "collapsed": false
   },
   "outputs": [
    {
     "data": {
      "text/html": [
       "&lt;Row index=0&gt;\n",
       "<table id=\"table4893900872\">\n",
       "<thead><tr><th>i</th><th>RAdeg</th><th>DEdeg</th><th>Num</th><th>Type</th><th>Per</th><th>gmag</th></tr></thead>\n",
       "<thead><tr><th></th><th></th><th></th><th></th><th></th><th>d</th><th>mag</th></tr></thead>\n",
       "<thead><tr><th>int64</th><th>float64</th><th>float64</th><th>int64</th><th>str2</th><th>float64</th><th>float64</th></tr></thead>\n",
       "<tr><td>0</td><td>0.935679</td><td>1.115859</td><td>4099</td><td>ab</td><td>0.641754351271</td><td>16.6637400636</td></tr>\n",
       "</table>"
      ],
      "text/plain": [
       "<Row index=0>\n",
       "  i    RAdeg    DEdeg    Num  Type      Per            gmag    \n",
       "                                         d             mag     \n",
       "int64 float64  float64  int64 str2    float64        float64   \n",
       "----- -------- -------- ----- ---- -------------- -------------\n",
       "    0 0.935679 1.115859  4099   ab 0.641754351271 16.6637400636"
      ]
     },
     "execution_count": 258,
     "metadata": {},
     "output_type": "execute_result"
    }
   ],
   "source": [
    "import subprocess\n",
    "#https://pymotw.com/3/subprocess/\n",
    "# http://stackoverflow.com/questions/3729366/custom-standard-input-for-python-subprocess\n",
    "\n",
    "master_table[0]"
   ]
  },
  {
   "cell_type": "code",
   "execution_count": 239,
   "metadata": {
    "collapsed": false
   },
   "outputs": [
    {
     "data": {
      "text/plain": [
       "0.0005555555555555556"
      ]
     },
     "execution_count": 239,
     "metadata": {},
     "output_type": "execute_result"
    }
   ],
   "source": [
    "2/3600.0"
   ]
  },
  {
   "cell_type": "code",
   "execution_count": 259,
   "metadata": {
    "collapsed": false
   },
   "outputs": [],
   "source": [
    "i=0\n",
    "ra_deg = str(master_table[i]['RAdeg'])\n",
    "dec_deg = str(master_table[i]['DEdeg'])\n",
    "search_radius_deg = str(2/3600.0)[:9]\n",
    "\n",
    "# query against that object... \n",
    "cmd = \"curl -o ../raw_data/PDAC_cone_search_results/catalogCone\"+str(i)+\".json \\\n",
    "                -d 'query=SELECT+objectId+FROM+RunDeepForcedSource+WHERE+qserv_areaspec_circle(\"\\\n",
    "                +ra_deg+\",\"+dec_deg+\",\"+search_radius_deg+\");' \\\n",
    "                http://lsst-qserv-dax01.ncsa.illinois.edu:5000/db/v0/tap/sync\"\n",
    "completed = subprocess.run(cmd, shell=True, stdout=subprocess.PIPE)"
   ]
  },
  {
   "cell_type": "code",
   "execution_count": null,
   "metadata": {
    "collapsed": true
   },
   "outputs": [],
   "source": [
    "curl -o catalogCone1.json -d 'query=SELECT+objectId+FROM+RunDeepForcedSource+WHERE+\\\n",
    "                qserv_areaspec_circle(0.935679,1.115859,0.00055555);' \\\n",
    "                http://lsst-qserv-dax01.ncsa.illinois.edu:5000/db/v0/tap/sync"
   ]
  },
  {
   "cell_type": "code",
   "execution_count": 260,
   "metadata": {
    "collapsed": false
   },
   "outputs": [
    {
     "name": "stdout",
     "output_type": "stream",
     "text": [
      "In this query, we recover objectId :  \n",
      "(3562429887808969, 3562429887812663)\n"
     ]
    }
   ],
   "source": [
    "# find unique IDs\n",
    "json_file = '../raw_data/PDAC_cone_search_results/catalogCone'+str(i)+'.json'\n",
    "tab = json.loads(open(json_file).read())\n",
    "objectIds = tuple(np.unique(np.ravel(tab['result']['table']['data'])))\n",
    "print('In this query, we recover objectId :  ')\n",
    "print(objectIds)\n",
    "ids = str(objectIds)"
   ]
  },
  {
   "cell_type": "code",
   "execution_count": 261,
   "metadata": {
    "collapsed": true
   },
   "outputs": [],
   "source": [
    "# query against these ids \n",
    "cmd = \" curl -o ../raw_data/PDAC_forced_phot_results/catalogForced\"+str(i)+\".json -d 'query=\\\n",
    "        SELECT \\\n",
    "            objectId, id, fsrc.exposure_id, fsrc.exposure_time_mid, exp.run, \\\n",
    "            scisql_dnToAbMag(fsrc.flux_psf,exp.fluxMag0) AS g, \\\n",
    "            scisql_dnToAbMagSigma(fsrc.flux_psf, fsrc.flux_psf_err, exp.fluxMag0, exp.fluxMag0Sigma) AS gErr \\\n",
    "        FROM \\\n",
    "            RunDeepForcedSource AS fsrc, \\\n",
    "            Science_Ccd_Exposure AS exp \\\n",
    "        WHERE \\\n",
    "            exp.scienceCcdExposureId = fsrc.exposure_id \\\n",
    "            AND fsrc.exposure_filter_id=1 \\\n",
    "            AND objectId IN \"+ids+\" \\\n",
    "        ORDER BY exposure_time_mid' http://lsst-qserv-dax01.ncsa.illinois.edu:5000/db/v0/tap/sync\"\n",
    "completed = subprocess.run(cmd, shell=True)\n",
    "\n",
    "# NOTE  : exposure_filter_id  is where we choose which filter to use \n",
    "# u = 0\n",
    "# g = 1 \n",
    "# r = 2\n",
    "# i = 3\n",
    "# z = 4"
   ]
  },
  {
   "cell_type": "code",
   "execution_count": 263,
   "metadata": {
    "collapsed": false
   },
   "outputs": [],
   "source": [
    "json_file= '../raw_data/PDAC_forced_phot_results/catalogForced'+str(i)+'.json'\n",
    "tab = json.loads(open(json_file).read())\n",
    "\n",
    "#print(tab['result']['table'].keys())\n",
    "#print(tab['result']['table']['metadata']['elements'])\n",
    "\n",
    "meta = tab['result']['table']['metadata']['elements']\n",
    "data = tab['result']['table']['data']\n",
    "dataT = np.transpose(data)\n",
    "\n",
    "t = Table()\n",
    "\n",
    "# iterate over columns...\n",
    "for i in range(len(dataT)):\n",
    "    t.add_column(Column(dataT[i], name=meta[i]['name']), index=0)\n",
    "    \n",
    "# Save that as a txt file...\n",
    "fname = '../raw_data/RRLyr_S82_PDAC/'+str(master_table['Num'][i])+'_'+str(i)+'_g.txt'\n",
    "t.write(fname, format='ascii', overwrite='True')"
   ]
  },
  {
   "cell_type": "markdown",
   "metadata": {},
   "source": [
    "### Second, wrap and do for all objects..."
   ]
  },
  {
   "cell_type": "code",
   "execution_count": 71,
   "metadata": {
    "collapsed": false
   },
   "outputs": [
    {
     "name": "stdout",
     "output_type": "stream",
     "text": [
      "\n",
      "Querying for i=298, i.e. RR Lyr ID= 2630747\n",
      "ra = -43.423468, dec = -1.025525\n",
      "In this query, we recover objectId :  \n",
      "()\n",
      "Skipping this query - no objects found within 2 arcsec! \n",
      "\n",
      "Querying for i=299, i.e. RR Lyr ID= 2639854\n",
      "ra = -40.804567, dec = 1.220945\n",
      "In this query, we recover objectId :  \n",
      "()\n",
      "Skipping this query - no objects found within 2 arcsec! \n",
      "\n",
      "Querying for i=301, i.e. RR Lyr ID= 2659801\n",
      "ra = -44.538176, dec = 0.156384\n",
      "In this query, we recover objectId :  \n",
      "()\n",
      "Skipping this query - no objects found within 2 arcsec! \n",
      "\n",
      "Querying for i=302, i.e. RR Lyr ID= 2666464\n",
      "ra = -43.936787, dec = -0.88905\n",
      "In this query, we recover objectId :  \n",
      "()\n",
      "Skipping this query - no objects found within 2 arcsec! \n",
      "\n",
      "Querying for i=303, i.e. RR Lyr ID= 2671427\n",
      "ra = -42.922251, dec = -0.305363\n",
      "In this query, we recover objectId :  \n",
      "()\n",
      "Skipping this query - no objects found within 2 arcsec! \n",
      "\n",
      "Querying for i=304, i.e. RR Lyr ID= 2672828\n",
      "ra = -42.149605, dec = -0.437433\n",
      "In this query, we recover objectId :  \n",
      "()\n",
      "Skipping this query - no objects found within 2 arcsec! \n",
      "\n",
      "Querying for i=305, i.e. RR Lyr ID= 2677849\n",
      "ra = -44.079287, dec = 1.110933\n",
      "In this query, we recover objectId :  \n",
      "()\n",
      "Skipping this query - no objects found within 2 arcsec! \n",
      "\n",
      "Querying for i=306, i.e. RR Lyr ID= 2682034\n",
      "ra = -42.360345, dec = -1.248499\n",
      "In this query, we recover objectId :  \n",
      "()\n",
      "Skipping this query - no objects found within 2 arcsec! \n",
      "\n",
      "Querying for i=307, i.e. RR Lyr ID= 2684274\n",
      "ra = -41.501446, dec = -0.78973\n",
      "In this query, we recover objectId :  \n",
      "()\n",
      "Skipping this query - no objects found within 2 arcsec! \n",
      "\n",
      "Querying for i=308, i.e. RR Lyr ID= 2686670\n",
      "ra = -44.750438, dec = 0.66521\n",
      "In this query, we recover objectId :  \n",
      "()\n",
      "Skipping this query - no objects found within 2 arcsec! \n",
      "\n",
      "Querying for i=309, i.e. RR Lyr ID= 2699885\n",
      "ra = -44.077897, dec = -0.481585\n",
      "In this query, we recover objectId :  \n",
      "()\n",
      "Skipping this query - no objects found within 2 arcsec! \n",
      "\n",
      "Querying for i=310, i.e. RR Lyr ID= 2701721\n",
      "ra = -41.041663, dec = 0.324836\n",
      "In this query, we recover objectId :  \n",
      "()\n",
      "Skipping this query - no objects found within 2 arcsec! \n",
      "\n",
      "Querying for i=311, i.e. RR Lyr ID= 2708658\n",
      "ra = -42.046954, dec = 0.678923\n",
      "In this query, we recover objectId :  \n",
      "()\n",
      "Skipping this query - no objects found within 2 arcsec! \n",
      "\n",
      "Querying for i=312, i.e. RR Lyr ID= 2710828\n",
      "ra = -41.542876, dec = 0.262699\n",
      "In this query, we recover objectId :  \n",
      "()\n",
      "Skipping this query - no objects found within 2 arcsec! \n",
      "\n",
      "Querying for i=313, i.e. RR Lyr ID= 2716396\n",
      "ra = -43.667123, dec = 1.124856\n",
      "In this query, we recover objectId :  \n",
      "()\n",
      "Skipping this query - no objects found within 2 arcsec! \n",
      "\n",
      "Querying for i=314, i.e. RR Lyr ID= 2746161\n",
      "ra = -42.2715, dec = -0.158161\n",
      "In this query, we recover objectId :  \n",
      "()\n",
      "Skipping this query - no objects found within 2 arcsec! \n",
      "\n",
      "Querying for i=315, i.e. RR Lyr ID= 2746520\n",
      "ra = -42.062925, dec = 1.171228\n",
      "In this query, we recover objectId :  \n",
      "()\n",
      "Skipping this query - no objects found within 2 arcsec! \n",
      "\n",
      "Querying for i=316, i.e. RR Lyr ID= 2751495\n",
      "ra = -44.025771, dec = 0.147931\n",
      "In this query, we recover objectId :  \n",
      "()\n",
      "Skipping this query - no objects found within 2 arcsec! \n",
      "\n",
      "Querying for i=317, i.e. RR Lyr ID= 2754458\n",
      "ra = -43.521513, dec = 0.25881\n",
      "In this query, we recover objectId :  \n",
      "()\n",
      "Skipping this query - no objects found within 2 arcsec! \n",
      "\n",
      "Querying for i=318, i.e. RR Lyr ID= 2767122\n",
      "ra = -42.874442, dec = -0.231531\n",
      "In this query, we recover objectId :  \n",
      "()\n",
      "Skipping this query - no objects found within 2 arcsec! \n",
      "\n",
      "Querying for i=319, i.e. RR Lyr ID= 2777873\n",
      "ra = -44.413387, dec = 0.822511\n",
      "In this query, we recover objectId :  \n",
      "()\n",
      "Skipping this query - no objects found within 2 arcsec! \n",
      "\n",
      "Querying for i=320, i.e. RR Lyr ID= 2779194\n",
      "ra = -42.364373, dec = 0.917911\n",
      "In this query, we recover objectId :  \n",
      "()\n",
      "Skipping this query - no objects found within 2 arcsec! \n",
      "\n",
      "Querying for i=321, i.e. RR Lyr ID= 2792532\n",
      "ra = -43.247457, dec = -0.664532\n",
      "In this query, we recover objectId :  \n",
      "()\n",
      "Skipping this query - no objects found within 2 arcsec! \n",
      "\n",
      "Querying for i=322, i.e. RR Lyr ID= 2794912\n",
      "ra = -42.005815, dec = -0.224215\n",
      "In this query, we recover objectId :  \n",
      "()\n",
      "Skipping this query - no objects found within 2 arcsec! \n",
      "\n",
      "Querying for i=323, i.e. RR Lyr ID= 2796512\n",
      "ra = -44.963766, dec = 0.450549\n",
      "In this query, we recover objectId :  \n",
      "()\n",
      "Skipping this query - no objects found within 2 arcsec! \n",
      "\n",
      "Querying for i=324, i.e. RR Lyr ID= 2798633\n",
      "ra = -41.834603, dec = 0.916271\n",
      "In this query, we recover objectId :  \n",
      "()\n",
      "Skipping this query - no objects found within 2 arcsec! \n",
      "\n",
      "Querying for i=325, i.e. RR Lyr ID= 2862649\n",
      "ra = -41.847593, dec = -1.225218\n",
      "In this query, we recover objectId :  \n",
      "()\n",
      "Skipping this query - no objects found within 2 arcsec! \n",
      "\n",
      "Querying for i=326, i.e. RR Lyr ID= 2863787\n",
      "ra = -44.72503, dec = 0.558603\n",
      "In this query, we recover objectId :  \n",
      "()\n",
      "Skipping this query - no objects found within 2 arcsec! \n",
      "\n",
      "Querying for i=327, i.e. RR Lyr ID= 2876780\n",
      "ra = -42.588387, dec = -1.104973\n",
      "In this query, we recover objectId :  \n",
      "()\n",
      "Skipping this query - no objects found within 2 arcsec! \n",
      "\n",
      "Querying for i=328, i.e. RR Lyr ID= 2881014\n",
      "ra = -42.570235, dec = 0.410407\n",
      "In this query, we recover objectId :  \n",
      "()\n",
      "Skipping this query - no objects found within 2 arcsec! \n",
      "\n",
      "Querying for i=329, i.e. RR Lyr ID= 2881977\n",
      "ra = -40.523743, dec = -0.282185\n",
      "In this query, we recover objectId :  \n",
      "()\n",
      "Skipping this query - no objects found within 2 arcsec! \n",
      "\n",
      "Querying for i=330, i.e. RR Lyr ID= 2883224\n",
      "ra = -44.493998, dec = -0.915126\n",
      "In this query, we recover objectId :  \n",
      "()\n",
      "Skipping this query - no objects found within 2 arcsec! \n",
      "\n",
      "Querying for i=331, i.e. RR Lyr ID= 2895452\n",
      "ra = -43.286094, dec = -0.809361\n",
      "In this query, we recover objectId :  \n",
      "()\n",
      "Skipping this query - no objects found within 2 arcsec! \n",
      "\n",
      "Querying for i=332, i.e. RR Lyr ID= 2897953\n",
      "ra = -44.749463, dec = -1.084878\n",
      "In this query, we recover objectId :  \n",
      "()\n",
      "Skipping this query - no objects found within 2 arcsec! \n",
      "\n",
      "Querying for i=333, i.e. RR Lyr ID= 2898698\n",
      "ra = -44.90891, dec = 0.749792\n",
      "In this query, we recover objectId :  \n",
      "()\n",
      "Skipping this query - no objects found within 2 arcsec! \n",
      "\n",
      "Querying for i=334, i.e. RR Lyr ID= 2900402\n",
      "ra = -40.766535, dec = -1.24202\n",
      "In this query, we recover objectId :  \n",
      "()\n",
      "Skipping this query - no objects found within 2 arcsec! \n",
      "\n",
      "Querying for i=335, i.e. RR Lyr ID= 2903664\n",
      "ra = -43.014396, dec = 0.02632\n",
      "In this query, we recover objectId :  \n",
      "()\n",
      "Skipping this query - no objects found within 2 arcsec! \n",
      "\n",
      "Querying for i=336, i.e. RR Lyr ID= 2914119\n",
      "ra = -41.552139, dec = -0.270726\n",
      "In this query, we recover objectId :  \n",
      "()\n",
      "Skipping this query - no objects found within 2 arcsec! \n",
      "\n",
      "Querying for i=337, i.e. RR Lyr ID= 2945973\n",
      "ra = -40.599498, dec = 0.195453\n",
      "In this query, we recover objectId :  \n",
      "()\n",
      "Skipping this query - no objects found within 2 arcsec! \n",
      "\n",
      "Querying for i=338, i.e. RR Lyr ID= 2961934\n",
      "ra = -40.388172, dec = 0.508669\n",
      "In this query, we recover objectId :  \n",
      "()\n",
      "Skipping this query - no objects found within 2 arcsec! \n",
      "\n",
      "Querying for i=339, i.e. RR Lyr ID= 2984427\n",
      "ra = -42.157993, dec = -0.66116\n",
      "In this query, we recover objectId :  \n",
      "()\n",
      "Skipping this query - no objects found within 2 arcsec! \n",
      "\n",
      "Querying for i=340, i.e. RR Lyr ID= 2993715\n",
      "ra = -44.823662, dec = -0.023282\n",
      "In this query, we recover objectId :  \n",
      "()\n",
      "Skipping this query - no objects found within 2 arcsec! \n",
      "\n",
      "Querying for i=341, i.e. RR Lyr ID= 2993853\n",
      "ra = -43.434062, dec = -1.246953\n",
      "In this query, we recover objectId :  \n",
      "()\n",
      "Skipping this query - no objects found within 2 arcsec! \n",
      "\n",
      "Querying for i=342, i.e. RR Lyr ID= 3008757\n",
      "ra = -44.762271, dec = 0.285531\n",
      "In this query, we recover objectId :  \n",
      "()\n",
      "Skipping this query - no objects found within 2 arcsec! \n",
      "\n",
      "Querying for i=343, i.e. RR Lyr ID= 3009615\n",
      "ra = -43.920512, dec = -0.486572\n",
      "In this query, we recover objectId :  \n",
      "()\n",
      "Skipping this query - no objects found within 2 arcsec! \n",
      "\n",
      "Querying for i=344, i.e. RR Lyr ID= 3016107\n",
      "ra = -41.210686, dec = 0.511734\n",
      "In this query, we recover objectId :  \n",
      "()\n",
      "Skipping this query - no objects found within 2 arcsec! \n",
      "\n",
      "Querying for i=345, i.e. RR Lyr ID= 3019986\n",
      "ra = -43.189969, dec = 0.285176\n",
      "In this query, we recover objectId :  \n",
      "()\n",
      "Skipping this query - no objects found within 2 arcsec! \n",
      "\n",
      "Querying for i=352, i.e. RR Lyr ID= 3186655\n",
      "ra = -49.821567, dec = -0.621566\n",
      "In this query, we recover objectId :  \n",
      "()\n",
      "Skipping this query - no objects found within 2 arcsec! \n",
      "\n",
      "Querying for i=353, i.e. RR Lyr ID= 3196666\n",
      "ra = -49.688349, dec = -0.872544\n",
      "In this query, we recover objectId :  \n",
      "()\n",
      "Skipping this query - no objects found within 2 arcsec! \n",
      "\n",
      "Querying for i=354, i.e. RR Lyr ID= 3196965\n",
      "ra = -46.451366, dec = -0.541114\n",
      "In this query, we recover objectId :  \n",
      "()\n",
      "Skipping this query - no objects found within 2 arcsec! \n",
      "\n",
      "Querying for i=355, i.e. RR Lyr ID= 3200791\n",
      "ra = -45.019812, dec = -0.71219\n",
      "In this query, we recover objectId :  \n",
      "()\n",
      "Skipping this query - no objects found within 2 arcsec! \n",
      "\n",
      "Querying for i=356, i.e. RR Lyr ID= 3214909\n",
      "ra = -46.661129, dec = -0.347108\n",
      "In this query, we recover objectId :  \n",
      "()\n",
      "Skipping this query - no objects found within 2 arcsec! \n",
      "\n",
      "Querying for i=357, i.e. RR Lyr ID= 3230076\n",
      "ra = -47.515423, dec = -1.18368\n",
      "In this query, we recover objectId :  \n",
      "()\n",
      "Skipping this query - no objects found within 2 arcsec! \n",
      "\n",
      "Querying for i=358, i.e. RR Lyr ID= 3239998\n",
      "ra = -48.472804, dec = -0.133933\n",
      "In this query, we recover objectId :  \n",
      "()\n",
      "Skipping this query - no objects found within 2 arcsec! \n",
      "\n",
      "Querying for i=359, i.e. RR Lyr ID= 3247039\n",
      "ra = -47.434681, dec = -0.147687\n",
      "In this query, we recover objectId :  \n",
      "()\n",
      "Skipping this query - no objects found within 2 arcsec! \n",
      "\n",
      "Querying for i=360, i.e. RR Lyr ID= 3248231\n",
      "ra = -48.288744, dec = -0.898836\n",
      "In this query, we recover objectId :  \n",
      "()\n",
      "Skipping this query - no objects found within 2 arcsec! \n",
      "\n",
      "Querying for i=361, i.e. RR Lyr ID= 3253504\n",
      "ra = -47.861016, dec = -1.088689\n",
      "In this query, we recover objectId :  \n",
      "()\n",
      "Skipping this query - no objects found within 2 arcsec! \n",
      "\n",
      "Querying for i=362, i.e. RR Lyr ID= 3261172\n",
      "ra = -47.49612, dec = -0.706559\n",
      "In this query, we recover objectId :  \n",
      "()\n",
      "Skipping this query - no objects found within 2 arcsec! \n",
      "\n",
      "Querying for i=363, i.e. RR Lyr ID= 3267381\n",
      "ra = -45.282184, dec = -0.926652\n",
      "In this query, we recover objectId :  \n",
      "()\n",
      "Skipping this query - no objects found within 2 arcsec! \n",
      "\n",
      "Querying for i=364, i.e. RR Lyr ID= 3273519\n",
      "ra = -47.872866, dec = -0.073813\n",
      "In this query, we recover objectId :  \n",
      "()\n",
      "Skipping this query - no objects found within 2 arcsec! \n",
      "\n",
      "Querying for i=365, i.e. RR Lyr ID= 3292721\n",
      "ra = -47.251967, dec = -0.20767\n",
      "In this query, we recover objectId :  \n",
      "()\n",
      "Skipping this query - no objects found within 2 arcsec! \n",
      "\n",
      "Querying for i=366, i.e. RR Lyr ID= 3300027\n",
      "ra = -49.300787, dec = 0.064511\n",
      "In this query, we recover objectId :  \n",
      "()\n",
      "Skipping this query - no objects found within 2 arcsec! \n",
      "\n",
      "Querying for i=367, i.e. RR Lyr ID= 3306761\n",
      "ra = -49.866433, dec = -0.827108\n",
      "In this query, we recover objectId :  \n",
      "()\n",
      "Skipping this query - no objects found within 2 arcsec! \n",
      "\n",
      "Querying for i=368, i.e. RR Lyr ID= 3307501\n",
      "ra = -47.93796, dec = 0.118014\n",
      "In this query, we recover objectId :  \n",
      "()\n",
      "Skipping this query - no objects found within 2 arcsec! \n",
      "\n",
      "Querying for i=369, i.e. RR Lyr ID= 3307752\n",
      "ra = -45.237294, dec = 0.877676\n",
      "In this query, we recover objectId :  \n",
      "()\n",
      "Skipping this query - no objects found within 2 arcsec! \n",
      "\n",
      "Querying for i=370, i.e. RR Lyr ID= 3308790\n",
      "ra = -48.787919, dec = 0.188865\n",
      "In this query, we recover objectId :  \n",
      "()\n",
      "Skipping this query - no objects found within 2 arcsec! \n",
      "\n",
      "Querying for i=371, i.e. RR Lyr ID= 3315131\n",
      "ra = -47.492224, dec = 1.213916\n",
      "In this query, we recover objectId :  \n",
      "()\n",
      "Skipping this query - no objects found within 2 arcsec! \n",
      "\n",
      "Querying for i=372, i.e. RR Lyr ID= 3348773\n",
      "ra = -46.492478, dec = -1.232545\n",
      "In this query, we recover objectId :  \n",
      "()\n",
      "Skipping this query - no objects found within 2 arcsec! \n",
      "\n",
      "Querying for i=373, i.e. RR Lyr ID= 3351232\n",
      "ra = -48.502993, dec = -1.001551\n",
      "In this query, we recover objectId :  \n",
      "()\n",
      "Skipping this query - no objects found within 2 arcsec! \n",
      "\n",
      "Querying for i=374, i.e. RR Lyr ID= 3353516\n",
      "ra = -47.668709, dec = -1.201065\n",
      "In this query, we recover objectId :  \n",
      "()\n",
      "Skipping this query - no objects found within 2 arcsec! \n",
      "\n",
      "Querying for i=375, i.e. RR Lyr ID= 3358190\n",
      "ra = -47.871984, dec = 0.445469\n",
      "In this query, we recover objectId :  \n",
      "()\n",
      "Skipping this query - no objects found within 2 arcsec! \n",
      "\n",
      "Querying for i=376, i.e. RR Lyr ID= 3369848\n",
      "ra = -48.453472, dec = -0.042592\n",
      "In this query, we recover objectId :  \n",
      "()\n",
      "Skipping this query - no objects found within 2 arcsec! \n",
      "\n",
      "Querying for i=377, i.e. RR Lyr ID= 3391166\n",
      "ra = -47.666346, dec = -1.078659\n",
      "In this query, we recover objectId :  \n",
      "()\n",
      "Skipping this query - no objects found within 2 arcsec! \n",
      "\n",
      "Querying for i=378, i.e. RR Lyr ID= 3391742\n",
      "ra = -47.467818, dec = -0.283222\n",
      "In this query, we recover objectId :  \n",
      "()\n",
      "Skipping this query - no objects found within 2 arcsec! \n",
      "\n",
      "Querying for i=379, i.e. RR Lyr ID= 3394424\n",
      "ra = -49.753177, dec = -0.40254\n",
      "In this query, we recover objectId :  \n",
      "()\n",
      "Skipping this query - no objects found within 2 arcsec! \n",
      "\n",
      "Querying for i=380, i.e. RR Lyr ID= 3397977\n",
      "ra = -49.898757, dec = -1.164076\n",
      "In this query, we recover objectId :  \n",
      "()\n",
      "Skipping this query - no objects found within 2 arcsec! \n",
      "\n",
      "Querying for i=381, i.e. RR Lyr ID= 3407814\n",
      "ra = -49.905174, dec = 0.55786\n",
      "In this query, we recover objectId :  \n",
      "()\n",
      "Skipping this query - no objects found within 2 arcsec! \n",
      "\n",
      "Querying for i=382, i.e. RR Lyr ID= 3420019\n",
      "ra = -47.28244, dec = -1.15311\n",
      "In this query, we recover objectId :  \n",
      "()\n",
      "Skipping this query - no objects found within 2 arcsec! \n",
      "\n",
      "Querying for i=383, i.e. RR Lyr ID= 3424087\n",
      "ra = -45.380079, dec = 0.353214\n",
      "In this query, we recover objectId :  \n",
      "()\n",
      "Skipping this query - no objects found within 2 arcsec! \n",
      "\n",
      "Querying for i=384, i.e. RR Lyr ID= 3443455\n",
      "ra = -46.823975, dec = -1.164781\n",
      "In this query, we recover objectId :  \n",
      "()\n",
      "Skipping this query - no objects found within 2 arcsec! \n",
      "\n",
      "Querying for i=385, i.e. RR Lyr ID= 3454148\n",
      "ra = -48.47356, dec = 0.288026\n",
      "In this query, we recover objectId :  \n",
      "()\n",
      "Skipping this query - no objects found within 2 arcsec! \n",
      "\n",
      "Querying for i=386, i.e. RR Lyr ID= 3455861\n",
      "ra = -45.61294, dec = 0.197916\n",
      "In this query, we recover objectId :  \n",
      "()\n",
      "Skipping this query - no objects found within 2 arcsec! \n",
      "\n",
      "Querying for i=387, i.e. RR Lyr ID= 3460994\n",
      "ra = -46.307938, dec = 0.298778\n",
      "In this query, we recover objectId :  \n",
      "()\n",
      "Skipping this query - no objects found within 2 arcsec! \n",
      "\n",
      "Querying for i=388, i.e. RR Lyr ID= 3477138\n",
      "ra = -46.044893, dec = -0.879303\n",
      "In this query, we recover objectId :  \n",
      "()\n",
      "Skipping this query - no objects found within 2 arcsec! \n",
      "\n",
      "Querying for i=389, i.e. RR Lyr ID= 3478713\n",
      "ra = -45.503539, dec = -0.209231\n",
      "In this query, we recover objectId :  \n",
      "()\n",
      "Skipping this query - no objects found within 2 arcsec! \n",
      "\n",
      "Querying for i=390, i.e. RR Lyr ID= 3487796\n",
      "ra = -49.258431, dec = 1.171233\n",
      "In this query, we recover objectId :  \n",
      "()\n",
      "Skipping this query - no objects found within 2 arcsec! \n",
      "\n",
      "Querying for i=391, i.e. RR Lyr ID= 3488054\n",
      "ra = -47.015853, dec = 0.52569\n",
      "In this query, we recover objectId :  \n",
      "()\n",
      "Skipping this query - no objects found within 2 arcsec! \n",
      "\n",
      "Querying for i=392, i.e. RR Lyr ID= 3490598\n",
      "ra = -48.872925, dec = -0.654605\n",
      "In this query, we recover objectId :  \n",
      "()\n",
      "Skipping this query - no objects found within 2 arcsec! \n",
      "\n",
      "Querying for i=393, i.e. RR Lyr ID= 3493224\n",
      "ra = -46.912188, dec = 0.133651\n",
      "In this query, we recover objectId :  \n",
      "()\n",
      "Skipping this query - no objects found within 2 arcsec! \n",
      "\n",
      "Querying for i=394, i.e. RR Lyr ID= 3539169\n",
      "ra = -47.681235, dec = -0.966754\n",
      "In this query, we recover objectId :  \n",
      "()\n",
      "Skipping this query - no objects found within 2 arcsec! \n",
      "\n",
      "Querying for i=395, i.e. RR Lyr ID= 3551215\n",
      "ra = -46.822036, dec = 0.775166\n",
      "In this query, we recover objectId :  \n",
      "()\n",
      "Skipping this query - no objects found within 2 arcsec! \n",
      "\n",
      "Querying for i=396, i.e. RR Lyr ID= 3554117\n",
      "ra = -48.184991, dec = 0.5587\n",
      "In this query, we recover objectId :  \n",
      "()\n",
      "Skipping this query - no objects found within 2 arcsec! \n",
      "\n",
      "Querying for i=397, i.e. RR Lyr ID= 3559921\n",
      "ra = -46.825749, dec = 1.175815\n",
      "In this query, we recover objectId :  \n",
      "()\n",
      "Skipping this query - no objects found within 2 arcsec! \n",
      "\n",
      "Querying for i=398, i.e. RR Lyr ID= 3561934\n",
      "ra = -47.933782, dec = -0.983813\n",
      "In this query, we recover objectId :  \n",
      "()\n",
      "Skipping this query - no objects found within 2 arcsec! \n",
      "\n",
      "Querying for i=399, i.e. RR Lyr ID= 3565718\n",
      "ra = -45.832627, dec = 1.045583\n",
      "In this query, we recover objectId :  \n",
      "()\n",
      "Skipping this query - no objects found within 2 arcsec! \n",
      "\n",
      "Querying for i=400, i.e. RR Lyr ID= 3569935\n",
      "ra = -45.567372, dec = -0.74719\n",
      "In this query, we recover objectId :  \n",
      "()\n",
      "Skipping this query - no objects found within 2 arcsec! \n",
      "\n",
      "Querying for i=401, i.e. RR Lyr ID= 3585856\n",
      "ra = -46.360217, dec = -0.344902\n",
      "In this query, we recover objectId :  \n",
      "()\n",
      "Skipping this query - no objects found within 2 arcsec! \n",
      "\n",
      "Querying for i=402, i.e. RR Lyr ID= 3595357\n",
      "ra = -47.818249, dec = -0.255164\n",
      "In this query, we recover objectId :  \n",
      "()\n",
      "Skipping this query - no objects found within 2 arcsec! \n",
      "\n",
      "Querying for i=403, i.e. RR Lyr ID= 3607310\n",
      "ra = -48.431359, dec = -0.384179\n",
      "In this query, we recover objectId :  \n",
      "()\n",
      "Skipping this query - no objects found within 2 arcsec! \n",
      "\n",
      "Querying for i=404, i.e. RR Lyr ID= 3644954\n",
      "ra = -47.619031, dec = -0.239839\n",
      "In this query, we recover objectId :  \n",
      "()\n",
      "Skipping this query - no objects found within 2 arcsec! \n",
      "\n",
      "Querying for i=405, i.e. RR Lyr ID= 3650178\n",
      "ra = -46.161404, dec = -1.179677\n",
      "In this query, we recover objectId :  \n",
      "()\n",
      "Skipping this query - no objects found within 2 arcsec! \n",
      "\n",
      "Querying for i=406, i.e. RR Lyr ID= 3671840\n",
      "ra = -49.243763, dec = 0.334344\n",
      "In this query, we recover objectId :  \n",
      "()\n",
      "Skipping this query - no objects found within 2 arcsec! \n",
      "\n",
      "Querying for i=407, i.e. RR Lyr ID= 3673468\n",
      "ra = -48.548438, dec = -1.029138\n",
      "In this query, we recover objectId :  \n",
      "()\n",
      "Skipping this query - no objects found within 2 arcsec! \n",
      "\n",
      "Querying for i=408, i.e. RR Lyr ID= 3681103\n",
      "ra = -49.829445, dec = 0.890412\n",
      "In this query, we recover objectId :  \n",
      "()\n",
      "Skipping this query - no objects found within 2 arcsec! \n",
      "\n",
      "Querying for i=409, i.e. RR Lyr ID= 3681504\n",
      "ra = -48.396466, dec = 1.198554\n",
      "In this query, we recover objectId :  \n",
      "()\n",
      "Skipping this query - no objects found within 2 arcsec! \n",
      "\n",
      "Querying for i=410, i.e. RR Lyr ID= 3694338\n",
      "ra = -48.768217, dec = -0.302322\n",
      "In this query, we recover objectId :  \n",
      "()\n",
      "Skipping this query - no objects found within 2 arcsec! \n",
      "\n",
      "Querying for i=411, i.e. RR Lyr ID= 3717246\n",
      "ra = -48.125659, dec = 0.565566\n",
      "In this query, we recover objectId :  \n",
      "()\n",
      "Skipping this query - no objects found within 2 arcsec! \n",
      "\n",
      "Querying for i=450, i.e. RR Lyr ID= 4152720\n",
      "ra = -51.013208, dec = -0.704303\n",
      "In this query, we recover objectId :  \n",
      "()\n",
      "Skipping this query - no objects found within 2 arcsec! \n",
      "\n",
      "Querying for i=451, i.e. RR Lyr ID= 4301093\n",
      "ra = -51.922871, dec = 1.081498\n",
      "In this query, we recover objectId :  \n",
      "()\n",
      "Skipping this query - no objects found within 2 arcsec! \n",
      "\n",
      "Querying for i=452, i.e. RR Lyr ID= 4320005\n",
      "ra = -50.940004, dec = -0.505205\n",
      "In this query, we recover objectId :  \n",
      "()\n",
      "Skipping this query - no objects found within 2 arcsec! \n",
      "\n",
      "Querying for i=453, i.e. RR Lyr ID= 4344245\n",
      "ra = -50.934823, dec = 0.46873\n",
      "In this query, we recover objectId :  \n",
      "()\n",
      "Skipping this query - no objects found within 2 arcsec! \n",
      "\n",
      "Querying for i=454, i.e. RR Lyr ID= 4383295\n",
      "ra = -50.156468, dec = -1.062808\n",
      "In this query, we recover objectId :  \n",
      "()\n",
      "Skipping this query - no objects found within 2 arcsec! \n",
      "\n",
      "Querying for i=455, i.e. RR Lyr ID= 4397821\n",
      "ra = -51.072135, dec = -0.779033\n",
      "In this query, we recover objectId :  \n",
      "()\n",
      "Skipping this query - no objects found within 2 arcsec! \n",
      "\n",
      "Querying for i=456, i.e. RR Lyr ID= 4409020\n",
      "ra = -51.926434, dec = 0.006657\n",
      "In this query, we recover objectId :  \n",
      "()\n",
      "Skipping this query - no objects found within 2 arcsec! \n",
      "\n",
      "Querying for i=457, i.e. RR Lyr ID= 4430769\n",
      "ra = -50.625107, dec = -1.1593\n",
      "In this query, we recover objectId :  \n",
      "()\n",
      "Skipping this query - no objects found within 2 arcsec! \n",
      "\n",
      "Querying for i=458, i.e. RR Lyr ID= 4442518\n",
      "ra = -50.283734, dec = 0.245321\n",
      "In this query, we recover objectId :  \n",
      "()\n",
      "Skipping this query - no objects found within 2 arcsec! \n",
      "\n",
      "Querying for i=459, i.e. RR Lyr ID= 4455741\n",
      "ra = -50.103767, dec = -0.884631\n",
      "In this query, we recover objectId :  \n",
      "()\n",
      "Skipping this query - no objects found within 2 arcsec! \n",
      "\n",
      "Querying for i=460, i.e. RR Lyr ID= 4514429\n",
      "ra = -50.004781, dec = -1.120693\n",
      "In this query, we recover objectId :  \n",
      "()\n",
      "Skipping this query - no objects found within 2 arcsec! \n",
      "\n",
      "Querying for i=461, i.e. RR Lyr ID= 4583407\n",
      "ra = -51.296687, dec = 0.949806\n",
      "In this query, we recover objectId :  \n",
      "()\n",
      "Skipping this query - no objects found within 2 arcsec! \n",
      "\n",
      "Querying for i=462, i.e. RR Lyr ID= 4614863\n",
      "ra = -51.520451, dec = -1.171806\n",
      "In this query, we recover objectId :  \n",
      "()\n",
      "Skipping this query - no objects found within 2 arcsec! \n",
      "\n",
      "Querying for i=463, i.e. RR Lyr ID= 4699038\n",
      "ra = -50.324594, dec = 0.965726\n",
      "In this query, we recover objectId :  \n",
      "()\n",
      "Skipping this query - no objects found within 2 arcsec! \n",
      "\n",
      "Querying for i=464, i.e. RR Lyr ID= 4699278\n",
      "ra = -51.989975, dec = -0.289068\n",
      "In this query, we recover objectId :  \n",
      "()\n",
      "Skipping this query - no objects found within 2 arcsec! \n",
      "\n",
      "Querying for i=465, i.e. RR Lyr ID= 4831704\n",
      "ra = -51.452842, dec = -0.807256\n",
      "In this query, we recover objectId :  \n",
      "()\n",
      "Skipping this query - no objects found within 2 arcsec! \n",
      "\n",
      "Querying for i=466, i.e. RR Lyr ID= 4839757\n",
      "ra = -51.251076, dec = -0.311357\n",
      "In this query, we recover objectId :  \n",
      "()\n",
      "Skipping this query - no objects found within 2 arcsec! \n",
      "\n",
      "Querying for i=467, i.e. RR Lyr ID= 4843792\n",
      "ra = -50.603065, dec = 0.241621\n",
      "In this query, we recover objectId :  \n",
      "()\n",
      "Skipping this query - no objects found within 2 arcsec! \n",
      "\n",
      "Querying for i=468, i.e. RR Lyr ID= 4873252\n",
      "ra = -51.672576, dec = -0.60478\n",
      "In this query, we recover objectId :  \n",
      "()\n",
      "Skipping this query - no objects found within 2 arcsec! \n",
      "\n",
      "Querying for i=469, i.e. RR Lyr ID= 4898715\n",
      "ra = 59.242576, dec = 0.633837\n",
      "In this query, we recover objectId :  \n",
      "()\n",
      "Skipping this query - no objects found within 2 arcsec! \n",
      "\n",
      "Querying for i=470, i.e. RR Lyr ID= 4918277\n",
      "ra = 56.963075, dec = -0.291889\n",
      "In this query, we recover objectId :  \n",
      "()\n",
      "Skipping this query - no objects found within 2 arcsec! \n",
      "\n",
      "Querying for i=471, i.e. RR Lyr ID= 4920018\n",
      "ra = 55.58628, dec = -1.148713\n",
      "In this query, we recover objectId :  \n",
      "()\n",
      "Skipping this query - no objects found within 2 arcsec! \n",
      "\n",
      "Querying for i=472, i.e. RR Lyr ID= 4937322\n",
      "ra = 58.50208, dec = 0.352827\n",
      "In this query, we recover objectId :  \n",
      "()\n",
      "Skipping this query - no objects found within 2 arcsec! \n",
      "\n",
      "Querying for i=473, i.e. RR Lyr ID= 4947744\n",
      "ra = 55.666629, dec = -0.002756\n",
      "In this query, we recover objectId :  \n",
      "()\n",
      "Skipping this query - no objects found within 2 arcsec! \n",
      "\n",
      "Querying for i=474, i.e. RR Lyr ID= 4948742\n",
      "ra = 59.037319, dec = -0.08628\n",
      "In this query, we recover objectId :  \n",
      "()\n",
      "Skipping this query - no objects found within 2 arcsec! \n",
      "\n",
      "Querying for i=475, i.e. RR Lyr ID= 4950238\n",
      "ra = 57.125304, dec = 0.678444\n",
      "In this query, we recover objectId :  \n",
      "()\n",
      "Skipping this query - no objects found within 2 arcsec! \n",
      "\n",
      "Querying for i=476, i.e. RR Lyr ID= 4954954\n",
      "ra = 56.073852, dec = 0.626488\n",
      "In this query, we recover objectId :  \n",
      "()\n",
      "Skipping this query - no objects found within 2 arcsec! \n",
      "\n",
      "Querying for i=477, i.e. RR Lyr ID= 4956438\n",
      "ra = 58.036886, dec = 0.999678\n",
      "In this query, we recover objectId :  \n",
      "()\n",
      "Skipping this query - no objects found within 2 arcsec! \n",
      "\n",
      "Querying for i=478, i.e. RR Lyr ID= 4956681\n",
      "ra = 58.700931, dec = 1.22883\n",
      "In this query, we recover objectId :  \n",
      "()\n",
      "Skipping this query - no objects found within 2 arcsec! \n",
      "\n",
      "Querying for i=479, i.e. RR Lyr ID= 4983075\n",
      "ra = 57.156605, dec = 0.134676\n",
      "In this query, we recover objectId :  \n",
      "()\n",
      "Skipping this query - no objects found within 2 arcsec! \n",
      "\n",
      "Querying for i=480, i.e. RR Lyr ID= 4984662\n",
      "ra = 57.128875, dec = -0.389138\n",
      "In this query, we recover objectId :  \n",
      "()\n",
      "Skipping this query - no objects found within 2 arcsec! \n",
      "\n",
      "Querying for i=481, i.e. RR Lyr ID= 4992418\n",
      "ra = 57.151443, dec = 0.892965\n",
      "In this query, we recover objectId :  \n",
      "()\n",
      "Skipping this query - no objects found within 2 arcsec! \n",
      "\n",
      "Querying for i=482, i.e. RR Lyr ID= 5011634\n",
      "ra = 56.510537, dec = -0.561729\n",
      "In this query, we recover objectId :  \n",
      "()\n",
      "Skipping this query - no objects found within 2 arcsec! \n"
     ]
    }
   ],
   "source": [
    "import timeit\n",
    "import subprocess\n",
    "\n",
    "# to store which objectIds corresponded to which RR Lyr... \n",
    "objectIds_per_i = {}\n",
    "query_time_per_i = {}\n",
    "calc_time_per_i = {}\n",
    "\n",
    "for i in missing_RRLyr_in_PDAC:\n",
    "    arg_dict = {}\n",
    "    print('\\nQuerying for i=%d, i.e. RR Lyr ID= %s'%(i, lc_names[i]))\n",
    "    start1 = timeit.default_timer()\n",
    "    ra_deg = str(master_table[i]['RAdeg'])\n",
    "    dec_deg = str(master_table[i]['DEdeg'])\n",
    "    print('ra = %s, dec = %s'%(ra_deg, dec_deg))\n",
    "    search_radius_arcsec = 3\n",
    "    search_radius_deg = str(search_radius_arcsec/3600.0)[:9]\n",
    "\n",
    "    # query against that object... \n",
    "    cmd = \"curl -o ../raw_data/PDAC_cone_search_results/catalogCone\"+str(i)+\".json \\\n",
    "                    -d 'query=SELECT+objectId+FROM+RunDeepForcedSource+WHERE+qserv_areaspec_circle(\"\\\n",
    "                    +ra_deg+\",\"+dec_deg+\",\"+search_radius_deg+\");' \\\n",
    "                    http://lsst-qserv-dax01.ncsa.illinois.edu:5000/db/v0/tap/sync\"\n",
    "    completed1 = subprocess.run(cmd, shell=True, stdout=subprocess.PIPE)\n",
    "    # save the query, to be able to retrace precisely how a given dataset was retrieved\n",
    "    arg_dict['query_cone'] = [completed1.args]\n",
    "    \n",
    "    # find unique IDs\n",
    "    json_file = '../raw_data/PDAC_cone_search_results/catalogCone'+str(i)+'.json'\n",
    "    tab = json.loads(open(json_file).read())\n",
    "    objectIds = tuple(np.unique(np.ravel(tab['result']['table']['data'])))\n",
    "    print('In this query, we recover objectId :  ')\n",
    "    print(objectIds)\n",
    "    if len(objectIds) == 1 : \n",
    "        ids=  '('+str(objectIds[0])+')'\n",
    "    if len(objectIds) == 0 : \n",
    "        ids = None\n",
    "        print('Skipping this query - no objects found within %d arcsec! '%search_radius_arcsec)\n",
    "    elif len(objectIds) > 1 : \n",
    "        ids = str(objectIds)\n",
    "    objectIds_per_i[i] = ids \n",
    "    \n",
    "    if len(objectIds) > 0 :  # only query if there is something to query with ! \n",
    "        \n",
    "        # query PDAC against  ids found within 2 arcsec from our  input ra, dec ... \n",
    "        cmd = \" curl -o ../raw_data/PDAC_forced_phot_results/catalogForced\"+str(i)+\".json -d 'query=\\\n",
    "                SELECT \\\n",
    "                    objectId, id, fsrc.exposure_id, fsrc.exposure_time_mid, exp.run, \\\n",
    "                    scisql_dnToAbMag(fsrc.flux_psf,exp.fluxMag0) AS g, \\\n",
    "                    scisql_dnToAbMagSigma(fsrc.flux_psf, fsrc.flux_psf_err, exp.fluxMag0, exp.fluxMag0Sigma) AS gErr \\\n",
    "                FROM \\\n",
    "                    RunDeepForcedSource AS fsrc, \\\n",
    "                    Science_Ccd_Exposure AS exp \\\n",
    "                WHERE \\\n",
    "                    exp.scienceCcdExposureId = fsrc.exposure_id \\\n",
    "                    AND fsrc.exposure_filter_id=1 \\\n",
    "                    AND objectId IN \"+ids+\" \\\n",
    "                ORDER BY exposure_time_mid' http://lsst-qserv-dax01.ncsa.illinois.edu:5000/db/v0/tap/sync\"\n",
    "        completed2 = subprocess.run(cmd, shell=True)\n",
    "        arg_dict['query_phot'] = [completed2.args]\n",
    "        stop1 = timeit.default_timer()\n",
    "        \n",
    "        print('Querying took %f seconds'%(stop1-start1))\n",
    "        query_time_per_i[i] = stop1-start1\n",
    "        arg_dict['query_time'] = [stop1-start1]\n",
    "        \n",
    "        # NOTE  : exposure_filter_id  is where we choose which filter to use \n",
    "        # u = 0\n",
    "        # g = 1 \n",
    "        # r = 2\n",
    "        # i = 3\n",
    "        # z = 4\n",
    "        start2 = timeit.default_timer()\n",
    "        # Convert the output json file with g-band photometry to a text file...\n",
    "        json_file= '../raw_data/PDAC_forced_phot_results/catalogForced'+str(i)+'.json'\n",
    "        tab = json.loads(open(json_file).read())\n",
    "\n",
    "        #print(tab['result']['table'].keys())\n",
    "        #print(tab['result']['table']['metadata']['elements'])\n",
    "\n",
    "        meta = tab['result']['table']['metadata']['elements']\n",
    "        data = tab['result']['table']['data']\n",
    "        dataT = np.transpose(data)\n",
    "\n",
    "        # initialize a new AstroPy Table to store this S82 lightcurve from PDAC... \n",
    "        t = Table()\n",
    "\n",
    "        # iterate over columns to add them to the Table ...\n",
    "        for k in range(len(dataT)):\n",
    "            t.add_column(Column(dataT[k], name=meta[k]['name']), index=0)\n",
    "\n",
    "        # Save that as a txt file...\n",
    "        fname = '../raw_data/RRLyr_S82_PDAC/'+str(master_table['Num'][i])+'_'+str(i).zfill(3)+'_g.txt'\n",
    "        t.write(fname, format='ascii', overwrite='True')\n",
    "        stop2 = timeit.default_timer()\n",
    "        calc_time_per_i[i] = stop2-start2\n",
    "        arg_dict['calc_time'] = [stop2-start2]\n",
    "        \n",
    "    # save the query arguments ... (regardless of whether we did two or one queries ) \n",
    "    ascii.write(arg_dict, '../raw_data/PDAC_queries_arguments/r_3arc_query_arguments_'+str(i)+'.txt', \n",
    "                names=arg_dict.keys(), overwrite=True)\n"
   ]
  },
  {
   "cell_type": "code",
   "execution_count": 73,
   "metadata": {
    "collapsed": false
   },
   "outputs": [],
   "source": [
    "#objectIds_per_i"
   ]
  },
  {
   "cell_type": "markdown",
   "metadata": {},
   "source": [
    "####  What I need is to pull together all this information, and have in one table : \n",
    "    \n",
    "    [RR Lyr ID,  i  ,  RA, Dec,  matching IDS from PDAC,  query time, calc phot time, cone_file, query_file, args_file, lc_file]\n"
   ]
  },
  {
   "cell_type": "code",
   "execution_count": 23,
   "metadata": {
    "collapsed": true
   },
   "outputs": [],
   "source": [
    "# If want to just rerun that,  can read-in the master table (combining table1 ra,dec  with table2 from Sesar2010... )\n",
    "\n",
    "master_table= Table.read(DirIn+'master_table_1-2_combined.txt', format='ascii')"
   ]
  },
  {
   "cell_type": "code",
   "execution_count": 22,
   "metadata": {
    "collapsed": false
   },
   "outputs": [],
   "source": [
    "N_id =  np.zeros(len(lc_names), dtype=int)\n",
    "query_time = np.zeros(len(lc_names), dtype=float)\n",
    "calc_time = np.zeros(len(lc_names), dtype=float)\n",
    "\n",
    "for i in range(len(lc_names)):\n",
    "    # find unique IDs\n",
    "    # save the name of cone_file \n",
    "    json_file = '../raw_data/PDAC_cone_search_results/catalogCone'+str(i)+'.json'\n",
    "    tab = json.loads(open(json_file).read())\n",
    "    objectIds = tuple(np.unique(np.ravel(tab['result']['table']['data'])))\n",
    "    #print('In this query, we recover objectId :  ')\n",
    "    #print(objectIds)\n",
    "    N_id[i] = len(objectIds)\n",
    "    if len(objectIds) > 0:\n",
    "        args = Table.read('../raw_data/PDAC_queries_arguments/query_arguments_'+str(i)+'.txt', format='ascii')\n",
    "        query_time[i] = args['query_time']\n",
    "        calc_time[i] = args['calc_time']\n",
    "    else:\n",
    "        query_time[i] = None\n",
    "        calc_time[i] = None"
   ]
  },
  {
   "cell_type": "code",
   "execution_count": 26,
   "metadata": {
    "collapsed": false
   },
   "outputs": [],
   "source": [
    "a = Table(data=[np.arange(len(lc_names)), lc_names, N_id, query_time, calc_time], \n",
    "          names=['i', 'lc_name', 'N_id', 'query_time', 'calc_time'])"
   ]
  },
  {
   "cell_type": "code",
   "execution_count": 27,
   "metadata": {
    "collapsed": false
   },
   "outputs": [],
   "source": [
    "# Add this information to the master table...\n",
    "from astropy.table import hstack\n",
    "combined_table = hstack([master_table, a])  # common column is 'i'  \n"
   ]
  },
  {
   "cell_type": "code",
   "execution_count": 29,
   "metadata": {
    "collapsed": false
   },
   "outputs": [],
   "source": [
    "# save the combined table...\n",
    "DirIn = '../catalogs/RRLyr_S82_Sesar_2010/'\n",
    "combined_table.write(DirIn+'Sesar_tab_1-2_PDAC_queries.txt', format='ascii')"
   ]
  },
  {
   "cell_type": "code",
   "execution_count": 240,
   "metadata": {
    "collapsed": true
   },
   "outputs": [],
   "source": [
    "# Read in the combined table, plot the stats of plots : \n",
    "DirIn = '../catalogs/RRLyr_S82_Sesar_2010/'\n",
    "combined_table = Table.read(DirIn+'Sesar_tab_1-2_PDAC_queries.txt', format='ascii')"
   ]
  },
  {
   "cell_type": "code",
   "execution_count": 252,
   "metadata": {
    "collapsed": false
   },
   "outputs": [
    {
     "data": {
      "text/plain": [
       "array(['i_1', 'RAdeg', 'DEdeg', 'Num', 'Type', 'Per', 'gmag', 'PerLS_SDSS',\n",
       "       'i_2', 'lc_name', 'N_id', 'query_time', 'calc_time'], \n",
       "      dtype='<U10')"
      ]
     },
     "execution_count": 252,
     "metadata": {},
     "output_type": "execute_result"
    }
   ],
   "source": [
    "np.ravel(combined_table.colnames)"
   ]
  },
  {
   "cell_type": "code",
   "execution_count": 250,
   "metadata": {
    "collapsed": false
   },
   "outputs": [
    {
     "data": {
      "text/plain": [
       "14.831668867031112"
      ]
     },
     "execution_count": 250,
     "metadata": {},
     "output_type": "execute_result"
    },
    {
     "data": {
      "image/png": "[encoded data removed]",
      "text/plain": [
       "<matplotlib.figure.Figure at 0x1232c9550>"
      ]
     },
     "metadata": {},
     "output_type": "display_data"
    }
   ],
   "source": [
    "m = combined_table['N_id'] != 0 \n",
    "plt.hist(combined_table['query_time'][m], histtype='step', bins=30)\n",
    "np.median(combined_table['query_time'][m])"
   ]
  },
  {
   "cell_type": "code",
   "execution_count": 255,
   "metadata": {
    "collapsed": false
   },
   "outputs": [
    {
     "data": {
      "text/html": [
       "&lt;Column name=&apos;N_id&apos; dtype=&apos;int64&apos; length=5&gt;\n",
       "<table>\n",
       "<tr><td>1</td></tr>\n",
       "<tr><td>2</td></tr>\n",
       "<tr><td>3</td></tr>\n",
       "<tr><td>4</td></tr>\n",
       "<tr><td>6</td></tr>\n",
       "</table>"
      ],
      "text/plain": [
       "<Column name='N_id' dtype='int64' length=5>\n",
       "1\n",
       "2\n",
       "3\n",
       "4\n",
       "6"
      ]
     },
     "execution_count": 255,
     "metadata": {},
     "output_type": "execute_result"
    }
   ],
   "source": [
    "np.unique(combined_table['N_id'][m])"
   ]
  },
  {
   "cell_type": "code",
   "execution_count": 268,
   "metadata": {
    "collapsed": false
   },
   "outputs": [
    {
     "name": "stdout",
     "output_type": "stream",
     "text": [
      "[[  1  85]\n",
      " [  2 226]\n",
      " [  3  18]\n",
      " [  4  12]\n",
      " [  6   2]]\n"
     ]
    }
   ],
   "source": [
    "#http://stackoverflow.com/questions/10741346/numpy-most-efficient-frequency-counts-for-unique-values-in-an-array\n",
    "unique, counts = np.unique(combined_table[m]['N_id'],return_counts=True)\n",
    "print(np.asarray((unique, counts)).T)"
   ]
  },
  {
   "cell_type": "code",
   "execution_count": 267,
   "metadata": {
    "collapsed": false
   },
   "outputs": [
    {
     "data": {
      "text/plain": [
       "array([ 85, 226,  18,  12,   2])"
      ]
     },
     "execution_count": 267,
     "metadata": {},
     "output_type": "execute_result"
    }
   ],
   "source": [
    "counts"
   ]
  },
  {
   "cell_type": "code",
   "execution_count": 68,
   "metadata": {
    "collapsed": false
   },
   "outputs": [
    {
     "data": {
      "image/png": "[encoded data removed]",
      "text/plain": [
       "<matplotlib.figure.Figure at 0x11fe73d30>"
      ]
     },
     "metadata": {},
     "output_type": "display_data"
    }
   ],
   "source": [
    "from matplotlib import rcParams      \n",
    "rcParams['ytick.labelsize'] = 15\n",
    "rcParams['xtick.labelsize'] = 15\n",
    "rcParams['axes.labelsize'] = 20\n",
    "rcParams['axes.linewidth'] = 2\n",
    "rcParams['font.size'] = 15\n",
    "rcParams['axes.titlesize'] = 20\n",
    "\n",
    "\n",
    "\n",
    "# Plot the ra,dec of PDAC matches , \n",
    "\n",
    "# plot the ra,dec of missing from PDAC... \n",
    "\n",
    "fig,ax = plt.subplots(figsize=(10,6))\n",
    "m = combined_table['N_id'] == 0 \n",
    "ax.scatter(combined_table['RAdeg'][~m],combined_table['DEdeg'][~m], color='blue', alpha=0.5 , s=30, marker='o')\n",
    "ax.scatter(combined_table['RAdeg'][m],combined_table['DEdeg'][m], color='red', alpha=0.6, s=30, marker='x')\n",
    "ax.set_xlabel('RA [degrees]')\n",
    "ax.set_ylabel('DEC [degrees]')\n",
    "ax.set_xlim(xmax=65)\n",
    "plt.savefig('missing_and_recovered_RR_Lyr_PDAC.png')"
   ]
  },
  {
   "cell_type": "code",
   "execution_count": 69,
   "metadata": {
    "collapsed": false
   },
   "outputs": [
    {
     "data": {
      "text/plain": [
       "343"
      ]
     },
     "execution_count": 69,
     "metadata": {},
     "output_type": "execute_result"
    }
   ],
   "source": [
    "np.sum(~m)"
   ]
  },
  {
   "cell_type": "code",
   "execution_count": 44,
   "metadata": {
    "collapsed": false
   },
   "outputs": [
    {
     "data": {
      "text/plain": [
       "140"
      ]
     },
     "execution_count": 44,
     "metadata": {},
     "output_type": "execute_result"
    }
   ],
   "source": [
    "address = '../raw_data/RRLyr_S82_PDAC/'\n",
    "PDAC_lcs = os.listdir(address)\n",
    "PDAC_IDs = np.array([str.rsplit(x,'_')[0] for x in PDAC_lcs])  \n",
    "PDAC_i = np.array([str.rsplit(x,'_')[1] for x in PDAC_lcs]).astype(int)\n",
    "missing_RRLyr_in_PDAC = np.arange(483)[~np.in1d(np.arange(483), PDAC_i)]\n",
    "len(missing_RRLyr_in_PDAC)\n"
   ]
  },
  {
   "cell_type": "markdown",
   "metadata": {},
   "source": [
    "To summarize : we've queried against all RR Lyrae from Sesar+2010,  of 483 sources, 140 were not found with an SDSS S82 PDAC match within 2 arcsec... \n",
    "\n",
    "For these, expand the search radius to 3 arcsec , and query specifically these i : \n",
    "\n"
   ]
  },
  {
   "cell_type": "code",
   "execution_count": 45,
   "metadata": {
    "collapsed": false
   },
   "outputs": [
    {
     "data": {
      "text/plain": [
       "array([298, 299, 301, 302, 303, 304, 305, 306, 307, 308, 309, 310, 311,\n",
       "       312, 313, 314, 315, 316, 317, 318, 319, 320, 321, 322, 323, 324,\n",
       "       325, 326, 327, 328, 329, 330, 331, 332, 333, 334, 335, 336, 337,\n",
       "       338, 339, 340, 341, 342, 343, 344, 345, 352, 353, 354, 355, 356,\n",
       "       357, 358, 359, 360, 361, 362, 363, 364, 365, 366, 367, 368, 369,\n",
       "       370, 371, 372, 373, 374, 375, 376, 377, 378, 379, 380, 381, 382,\n",
       "       383, 384, 385, 386, 387, 388, 389, 390, 391, 392, 393, 394, 395,\n",
       "       396, 397, 398, 399, 400, 401, 402, 403, 404, 405, 406, 407, 408,\n",
       "       409, 410, 411, 450, 451, 452, 453, 454, 455, 456, 457, 458, 459,\n",
       "       460, 461, 462, 463, 464, 465, 466, 467, 468, 469, 470, 471, 472,\n",
       "       473, 474, 475, 476, 477, 478, 479, 480, 481, 482])"
      ]
     },
     "execution_count": 45,
     "metadata": {},
     "output_type": "execute_result"
    }
   ],
   "source": [
    "missing_RRLyr_in_PDAC"
   ]
  },
  {
   "cell_type": "markdown",
   "metadata": {},
   "source": [
    "## Calculate periodograms, and find best period for PDAC lightcurves "
   ]
  },
  {
   "cell_type": "code",
   "execution_count": 98,
   "metadata": {
    "collapsed": false
   },
   "outputs": [],
   "source": [
    "# Read-in the master table enhanced by the result of positional query ...\n",
    "DirIn = '../catalogs/RRLyr_S82_Sesar_2010/'\n",
    "combined_table = Table.read(DirIn+'Sesar_tab_1-2_PDAC_queries.txt', format='ascii')"
   ]
  },
  {
   "cell_type": "code",
   "execution_count": 658,
   "metadata": {
    "collapsed": false
   },
   "outputs": [],
   "source": [
    "PDAC_lcs = os.listdir(address)\n",
    "PDAC_IDs = np.array([str.rsplit(x,'_')[0] for x in PDAC_lcs])  \n",
    "PDAC_i = np.array([str.rsplit(x,'_')[1] for x in PDAC_lcs]).astype(int)\n",
    "\n"
   ]
  },
  {
   "cell_type": "code",
   "execution_count": 100,
   "metadata": {
    "collapsed": false
   },
   "outputs": [],
   "source": [
    "# Calculate the periodograms ... \n",
    "\n",
    "# directory with PDAC RR Lyr lightcurves \n",
    "address = '../raw_data/RRLyr_S82_PDAC/'\n",
    "\n",
    "lc_names = table2['Num'].data.astype(str)\n",
    "\n",
    "# store the results \n",
    "store = {}\n",
    "store['fit_period'] = np.zeros_like(lc_names, dtype=float)\n",
    "store['ratio'] = np.zeros_like(lc_names, dtype=float)  \n",
    "\n",
    "# at the moment, only g-band was obtained from PDAC, but can grab eg all filters next time.... \n",
    "# It just amounts to setting fsrc.exposure_filter_id =  0,1,2,3,4 ... \n",
    "# but I don't know if it can be done within a single SQL query....\n",
    "band = 'g'\n",
    "\n",
    "for i in PDAC_i :  # \n",
    "    \n",
    "    # Pick an RR Lyr\n",
    "    lc = Table.read(address+lc_names[i]+'_'+str(i)+'_'+band+'.txt', format='ascii')\n",
    "\n",
    "    # grab Branimir's period and type for that particular RR Lyr...\n",
    "    true_period = table2['Per'][i]  # in days \n",
    "    rr_type = table2['Type'][i] # string \n",
    "    ID = table2['Num'][i] # int\n",
    "    \n",
    "    omega_true = 2*np.pi / true_period\n",
    "    \n",
    "    # frequency grid... \n",
    "    all_periods = table2['Per'].data\n",
    "    omegas = alt_omega_grid(0.9 * min(all_periods),1.1*max(all_periods), 5000)  \n",
    "\n",
    "    mjds = lc['exposure_time_mid']\n",
    "    mags = lc[band]\n",
    "    magerrs = lc[band+'Err']\n",
    "    \n",
    "    P_LS = lomb_scargle(t=mjds,y=mags, dy=magerrs, omega=omegas)\n",
    "   \n",
    "    # run function to find best period\n",
    "    omega_best = omegas[np.argmax(P_LS)]\n",
    "    best_period =  2*np.pi/omega_best\n",
    "    store['fit_period'][i] = best_period\n",
    "    \n",
    "    #print(\"Best period: {} days\".format(best_period))\n",
    "    #print(\"Best omega %.4f\"%omega_best)\n",
    "    ratio = omega_true / omega_best\n",
    "    #print('Omega_true / Omega_fit = %f'%ratio)\n",
    "    store['ratio'][i] = ratio\n",
    "\n",
    "\n"
   ]
  },
  {
   "cell_type": "code",
   "execution_count": 101,
   "metadata": {
    "collapsed": false
   },
   "outputs": [],
   "source": [
    "# add these to the combined table \n",
    "\n",
    "# note  : where we didn't have any objects from PDAC \n",
    "# i..e N_id = 0,  \n",
    "# then the ratio2 = 0, and fit_period = 0,  i.e are missing \n",
    "r = Column(data=store['ratio'], name='ratio2')\n",
    "f = Column(data=store['fit_period'],name='PerLS_PDAC')\n",
    "l = Column(data=lc_names, name='lc')\n",
    "combined_table.add_columns([r,f,l])"
   ]
  },
  {
   "cell_type": "code",
   "execution_count": 102,
   "metadata": {
    "collapsed": true
   },
   "outputs": [],
   "source": [
    "# Save that really big table : \n",
    "\n",
    "combined_table.write(DirIn+'Sesar_tab_1-2_PDAC_queries_LS.txt', format='ascii', overwrite=True)"
   ]
  },
  {
   "cell_type": "code",
   "execution_count": 114,
   "metadata": {
    "collapsed": false
   },
   "outputs": [
    {
     "data": {
      "text/plain": [
       "(array([ 232.,   57.,   48.,    3.,    1.,    1.,    0.,    0.,    0.,    1.]),\n",
       " array([ 0.23422589,  0.58290178,  0.93157767,  1.28025356,  1.62892945,\n",
       "         1.97760534,  2.32628123,  2.67495712,  3.02363301,  3.3723089 ,\n",
       "         3.72098479]),\n",
       " <a list of 10 Patch objects>)"
      ]
     },
     "execution_count": 114,
     "metadata": {},
     "output_type": "execute_result"
    },
    {
     "data": {
      "image/png": "[encoded data removed]",
      "text/plain": [
       "<matplotlib.figure.Figure at 0x119215b70>"
      ]
     },
     "metadata": {},
     "output_type": "display_data"
    }
   ],
   "source": [
    "# consider only those rows for which we have PDAC LCs...\n",
    "missing_stars = combined_table['N_id'] == 0 \n",
    "plt.hist(combined_table[~missing_stars]['PerLS_SDSS']/combined_table[~missing_stars]['PerLS_PDAC'])"
   ]
  },
  {
   "cell_type": "code",
   "execution_count": 115,
   "metadata": {
    "collapsed": false
   },
   "outputs": [
    {
     "data": {
      "text/plain": [
       "<matplotlib.collections.PathCollection at 0x1192a1978>"
      ]
     },
     "execution_count": 115,
     "metadata": {},
     "output_type": "execute_result"
    },
    {
     "data": {
      "image/png": "[encoded data removed]",
      "text/plain": [
       "<matplotlib.figure.Figure at 0x115756860>"
      ]
     },
     "metadata": {},
     "output_type": "display_data"
    }
   ],
   "source": [
    "plt.scatter(combined_table[~missing_stars]['PerLS_SDSS'], combined_table[~missing_stars]['PerLS_PDAC'])"
   ]
  },
  {
   "cell_type": "code",
   "execution_count": 777,
   "metadata": {
    "collapsed": false
   },
   "outputs": [
    {
     "data": {
      "text/html": [
       "&lt;Row index=1&gt;\n",
       "<table id=\"table4886454624\">\n",
       "<thead><tr><th>i_1</th><th>RAdeg</th><th>DEdeg</th><th>Num</th><th>Type</th><th>Per</th><th>gmag</th><th>ratio1</th><th>PerLS_SDSS</th><th>i_2</th><th>lc_name</th><th>N_id</th><th>query_time</th><th>calc_time</th><th>ratio2</th><th>PerLS_PDAC</th><th>lc</th></tr></thead>\n",
       "<thead><tr><th></th><th></th><th></th><th></th><th></th><th>d</th><th>mag</th><th></th><th></th><th></th><th></th><th></th><th></th><th></th><th></th><th></th><th></th></tr></thead>\n",
       "<thead><tr><th>int64</th><th>float64</th><th>float64</th><th>int64</th><th>str2</th><th>float64</th><th>float64</th><th>float64</th><th>float64</th><th>int64</th><th>str21</th><th>int64</th><th>float64</th><th>float64</th><th>float64</th><th>float64</th><th>str21</th></tr></thead>\n",
       "<tr><td>1</td><td>0.283437</td><td>1.178522</td><td>13350</td><td>ab</td><td>0.547987422171</td><td>16.9886134861</td><td>0.998491037558</td><td>0.547160529732</td><td>1</td><td>13350</td><td>1</td><td>7.44625828811</td><td>0.00839142501354</td><td>1.82165913319</td><td>0.998246292473</td><td>13350</td></tr>\n",
       "</table>"
      ],
      "text/plain": [
       "<Row index=1>\n",
       " i_1   RAdeg    DEdeg    Num  Type      Per            gmag         ratio1       PerLS_SDSS    i_2  lc_name  N_id   query_time     calc_time         ratio2      PerLS_PDAC     lc \n",
       "                                         d             mag                                                                                                                         \n",
       "int64 float64  float64  int64 str2    float64        float64       float64        float64     int64  str21  int64    float64        float64         float64       float64     str21\n",
       "----- -------- -------- ----- ---- -------------- ------------- -------------- -------------- ----- ------- ----- ------------- ---------------- ------------- -------------- -----\n",
       "    1 0.283437 1.178522 13350   ab 0.547987422171 16.9886134861 0.998491037558 0.547160529732     1   13350     1 7.44625828811 0.00839142501354 1.82165913319 0.998246292473 13350"
      ]
     },
     "execution_count": 777,
     "metadata": {},
     "output_type": "execute_result"
    }
   ],
   "source": [
    "# Check if the lightcurves themselves are the same.... \n",
    "\n",
    "\n"
   ]
  },
  {
   "cell_type": "code",
   "execution_count": null,
   "metadata": {
    "collapsed": true
   },
   "outputs": [],
   "source": [
    "# Completely confusing... \n",
    "\n",
    "# Per LS_PDAC for ID=13350 should be 0.5479.... \n",
    "# how come it isn't ? \n",
    "\n",
    "# what's going on  ?\n"
   ]
  },
  {
   "cell_type": "code",
   "execution_count": 769,
   "metadata": {
    "collapsed": false
   },
   "outputs": [
    {
     "name": "stdout",
     "output_type": "stream",
     "text": [
      "We picked RR Lyrae ID=13350 , type ab, with a period of 0.547987 days\n",
      "True omega = 11.4659\n",
      "We are using PDAC-downloaded lightcurves\n",
      "Best period: 0.547969 days\n",
      "Best omega 11.4663\n",
      "Ratio of omega_true to omega_fit_LS = 0.999967\n"
     ]
    },
    {
     "data": {
      "image/png": "[encoded data removed]",
      "text/plain": [
       "<matplotlib.figure.Figure at 0x123c0ea90>"
      ]
     },
     "metadata": {},
     "output_type": "display_data"
    }
   ],
   "source": [
    "plot_rr_lyr(i=1, band='g', source='PDAC')"
   ]
  },
  {
   "cell_type": "code",
   "execution_count": null,
   "metadata": {
    "collapsed": true
   },
   "outputs": [],
   "source": []
  },
  {
   "cell_type": "code",
   "execution_count": null,
   "metadata": {
    "collapsed": true
   },
   "outputs": [],
   "source": []
  },
  {
   "cell_type": "code",
   "execution_count": null,
   "metadata": {
    "collapsed": true
   },
   "outputs": [],
   "source": []
  },
  {
   "cell_type": "code",
   "execution_count": 661,
   "metadata": {
    "collapsed": false
   },
   "outputs": [
    {
     "data": {
      "image/png": "[encoded data removed]",
      "text/plain": [
       "<matplotlib.figure.Figure at 0x11f939048>"
      ]
     },
     "metadata": {},
     "output_type": "display_data"
    }
   ],
   "source": [
    "# Plot ratio of my calculated omega,  vs  omega from Branimir's table...\n",
    "\n",
    "fig,ax = plt.subplots(1,1,figsize=(8,4))\n",
    "\n",
    "# Using numpy over ax.hist  helps let the center of \n",
    "# the rectangle stay over the bin center, \n",
    "# rather than the bin edge...\n",
    "\n",
    "ratios = store['ratio'][store['ratio'] != 0]\n",
    "\n",
    "hist, bin_edges = np.histogram(ratios, bins=np.linspace(0.3,2.1,22\n",
    "                                                       ), density=False)\n",
    "bin_centres = (bin_edges[:-1] + bin_edges[1:])/2\n",
    "hist[0] = 0\n",
    "ax.plot(bin_centres, hist, ls = 'steps', lw=2, color = 'blue')\n",
    "#ax.hist(ratios, bins=40, histtype='step', lw=2)\n",
    "\n",
    "ax.set_xlabel(r'$ \\omega_{true} / \\omega_{LS}$')\n",
    "ax.set_ylabel(r'$N$')\n",
    "ax.set_xlim(0.3,2.0)\n",
    "plt.tight_layout()\n",
    "fname = '../data_products/Fig_4_RRLyr_omega_ratio_PDAC.png'\n",
    "plt.savefig(fname)"
   ]
  },
  {
   "cell_type": "code",
   "execution_count": 529,
   "metadata": {
    "collapsed": false
   },
   "outputs": [
    {
     "name": "stdout",
     "output_type": "stream",
     "text": [
      "We picked RR Lyrae ID=13350 , type ab, with a period of 0.547987 days\n",
      "True omega = 11.4659\n",
      "Best period: 0.547969 days\n",
      "Best omega 11.4663\n"
     ]
    },
    {
     "data": {
      "image/png": "[encoded data removed]",
      "text/plain": [
       "<matplotlib.figure.Figure at 0x125583ef0>"
      ]
     },
     "metadata": {},
     "output_type": "display_data"
    }
   ],
   "source": [
    "# Compare individual objects ... \n",
    "# Try i=1 : ID 13350\n",
    "plot_rr_lyr(i=1, band='g', source='PDAC')\n"
   ]
  },
  {
   "cell_type": "code",
   "execution_count": 120,
   "metadata": {
    "collapsed": false
   },
   "outputs": [
    {
     "data": {
      "text/plain": [
       "0.6826708268330732"
      ]
     },
     "execution_count": 120,
     "metadata": {},
     "output_type": "execute_result"
    }
   ],
   "source": [
    "0.437592 / 0.547161"
   ]
  },
  {
   "cell_type": "code",
   "execution_count": 122,
   "metadata": {
    "collapsed": false
   },
   "outputs": [
    {
     "name": "stdout",
     "output_type": "stream",
     "text": [
      "We picked RR Lyrae ID=13350 , type ab, with a period of 0.547987 days\n",
      "True omega = 11.4659\n",
      "We are using PDAC-downloaded lightcurves\n",
      "Best period: 0.547969 days\n",
      "Best omega 11.4663\n",
      "Ratio of omega_true to omega_fit_LS = 0.999967\n",
      "Figure saved to ../data_products/Fig_2_RRLyr_LS_periodogram_ID_13350_gPDAC.png\n"
     ]
    },
    {
     "data": {
      "image/png": "[encoded data removed]",
      "text/plain": [
       "<matplotlib.figure.Figure at 0x1219f4fd0>"
      ]
     },
     "metadata": {},
     "output_type": "display_data"
    }
   ],
   "source": [
    "plot_rr_lyr(i=1, band='g', save_plot='True', source='PDAC')"
   ]
  },
  {
   "cell_type": "code",
   "execution_count": 96,
   "metadata": {
    "collapsed": false
   },
   "outputs": [
    {
     "data": {
      "text/html": [
       "&lt;Table length=483&gt;\n",
       "<table id=\"table4775203784\" class=\"table-striped table-bordered table-condensed\">\n",
       "<thead><tr><th>i_1</th><th>RAdeg</th><th>DEdeg</th><th>Num</th><th>Type</th><th>Per</th><th>gmag</th><th>PerLS_SDSS</th><th>i_2</th><th>lc_name</th><th>N_id</th><th>query_time</th><th>calc_time</th></tr></thead>\n",
       "<thead><tr><th>int64</th><th>float64</th><th>float64</th><th>int64</th><th>str2</th><th>float64</th><th>float64</th><th>float64</th><th>int64</th><th>str21</th><th>int64</th><th>float64</th><th>float64</th></tr></thead>\n",
       "<tr><td>0</td><td>0.935679</td><td>1.115859</td><td>4099</td><td>ab</td><td>0.641754351271</td><td>16.6637400636</td><td>0.280826868507</td><td>0</td><td>4099</td><td>2</td><td>18.325868672</td><td>0.0115074128844</td></tr>\n",
       "<tr><td>1</td><td>0.283437</td><td>1.178522</td><td>13350</td><td>ab</td><td>0.547987422171</td><td>16.9886134861</td><td>0.547160529732</td><td>1</td><td>13350</td><td>1</td><td>7.44625828811</td><td>0.00839142501354</td></tr>\n",
       "<tr><td>2</td><td>3.254658</td><td>-0.584066</td><td>15927</td><td>ab</td><td>0.612262983773</td><td>17.6534916127</td><td>0.379758496104</td><td>2</td><td>15927</td><td>2</td><td>14.962918102</td><td>0.00949958199635</td></tr>\n",
       "<tr><td>3</td><td>3.244369</td><td>0.218891</td><td>20406</td><td>ab</td><td>0.631853138777</td><td>15.2059062035</td><td>0.386789396927</td><td>3</td><td>20406</td><td>2</td><td>16.3140791918</td><td>0.0109092448838</td></tr>\n",
       "<tr><td>4</td><td>4.315354</td><td>1.054582</td><td>21992</td><td>ab</td><td>0.625880355362</td><td>14.3769955855</td><td>0.62589008044</td><td>4</td><td>21992</td><td>2</td><td>13.1394871711</td><td>0.0114062961657</td></tr>\n",
       "<tr><td>5</td><td>3.173891</td><td>-0.46073</td><td>27887</td><td>c</td><td>0.31149403602</td><td>16.5548732263</td><td>0.311493145901</td><td>5</td><td>27887</td><td>2</td><td>18.52131422</td><td>0.00939282588661</td></tr>\n",
       "<tr><td>6</td><td>2.426843</td><td>-0.562932</td><td>46988</td><td>ab</td><td>0.572961748738</td><td>14.5444818616</td><td>0.57294499232</td><td>6</td><td>46988</td><td>1</td><td>14.6441505901</td><td>0.00843523791991</td></tr>\n",
       "<tr><td>7</td><td>2.150327</td><td>0.659596</td><td>74260</td><td>ab</td><td>0.612522626959</td><td>18.5375976282</td><td>0.379855747706</td><td>7</td><td>74260</td><td>2</td><td>13.27734195</td><td>0.00974029698409</td></tr>\n",
       "<tr><td>8</td><td>0.361418</td><td>-0.22898</td><td>75433</td><td>ab</td><td>0.555702765029</td><td>14.04019319</td><td>0.263001040396</td><td>8</td><td>75433</td><td>2</td><td>15.7911823969</td><td>0.0128124989569</td></tr>\n",
       "<tr><td>9</td><td>2.837662</td><td>0.170581</td><td>75486</td><td>ab</td><td>0.562574562809</td><td>16.0565104457</td><td>0.360032732555</td><td>9</td><td>75486</td><td>2</td><td>17.4061177298</td><td>0.00938627799042</td></tr>\n",
       "<tr><td>...</td><td>...</td><td>...</td><td>...</td><td>...</td><td>...</td><td>...</td><td>...</td><td>...</td><td>...</td><td>...</td><td>...</td><td>...</td></tr>\n",
       "<tr><td>473</td><td>55.666629</td><td>-0.002756</td><td>4947744</td><td>ab</td><td>0.611822155451</td><td>17.6437706012</td><td>0.274944758936</td><td>473</td><td>4947744</td><td>0</td><td>nan</td><td>nan</td></tr>\n",
       "<tr><td>474</td><td>59.037319</td><td>-0.08628</td><td>4948742</td><td>c</td><td>0.359679937456</td><td>14.7037235412</td><td>0.359683517403</td><td>474</td><td>4948742</td><td>0</td><td>nan</td><td>nan</td></tr>\n",
       "<tr><td>475</td><td>57.125304</td><td>0.678444</td><td>4950238</td><td>ab</td><td>0.614429845684</td><td>18.0692873851</td><td>0.614481538362</td><td>475</td><td>4950238</td><td>0</td><td>nan</td><td>nan</td></tr>\n",
       "<tr><td>476</td><td>56.073852</td><td>0.626488</td><td>4954954</td><td>ab</td><td>0.553683239879</td><td>13.6678200568</td><td>0.553696454527</td><td>476</td><td>4954954</td><td>0</td><td>nan</td><td>nan</td></tr>\n",
       "<tr><td>477</td><td>58.036886</td><td>0.999678</td><td>4956438</td><td>ab</td><td>0.608054165715</td><td>14.9842761914</td><td>0.377727654091</td><td>477</td><td>4956438</td><td>0</td><td>nan</td><td>nan</td></tr>\n",
       "<tr><td>478</td><td>58.700931</td><td>1.22883</td><td>4956681</td><td>ab</td><td>0.499544271999</td><td>17.812918311</td><td>0.249717952376</td><td>478</td><td>4956681</td><td>0</td><td>nan</td><td>nan</td></tr>\n",
       "<tr><td>479</td><td>57.156605</td><td>0.134676</td><td>4983075</td><td>ab</td><td>0.646699776606</td><td>17.7705195748</td><td>0.392313633709</td><td>479</td><td>4983075</td><td>0</td><td>nan</td><td>nan</td></tr>\n",
       "<tr><td>480</td><td>57.128875</td><td>-0.389138</td><td>4984662</td><td>ab</td><td>0.636862677328</td><td>18.3569048442</td><td>0.636908764087</td><td>480</td><td>4984662</td><td>0</td><td>nan</td><td>nan</td></tr>\n",
       "<tr><td>481</td><td>57.151443</td><td>0.892965</td><td>4992418</td><td>ab</td><td>0.580370636475</td><td>17.6153344688</td><td>0.580342437602</td><td>481</td><td>4992418</td><td>0</td><td>nan</td><td>nan</td></tr>\n",
       "<tr><td>482</td><td>56.510537</td><td>-0.561729</td><td>5011634</td><td>c</td><td>0.357840485746</td><td>17.8670899577</td><td>0.557232580508</td><td>482</td><td>5011634</td><td>0</td><td>nan</td><td>nan</td></tr>\n",
       "</table>"
      ],
      "text/plain": [
       "<Table length=483>\n",
       " i_1    RAdeg     DEdeg     Num   ...  N_id   query_time     calc_time    \n",
       "int64  float64   float64   int64  ... int64    float64        float64     \n",
       "----- --------- --------- ------- ... ----- ------------- ----------------\n",
       "    0  0.935679  1.115859    4099 ...     2  18.325868672  0.0115074128844\n",
       "    1  0.283437  1.178522   13350 ...     1 7.44625828811 0.00839142501354\n",
       "    2  3.254658 -0.584066   15927 ...     2  14.962918102 0.00949958199635\n",
       "    3  3.244369  0.218891   20406 ...     2 16.3140791918  0.0109092448838\n",
       "    4  4.315354  1.054582   21992 ...     2 13.1394871711  0.0114062961657\n",
       "    5  3.173891  -0.46073   27887 ...     2   18.52131422 0.00939282588661\n",
       "    6  2.426843 -0.562932   46988 ...     1 14.6441505901 0.00843523791991\n",
       "    7  2.150327  0.659596   74260 ...     2   13.27734195 0.00974029698409\n",
       "    8  0.361418  -0.22898   75433 ...     2 15.7911823969  0.0128124989569\n",
       "    9  2.837662  0.170581   75486 ...     2 17.4061177298 0.00938627799042\n",
       "  ...       ...       ...     ... ...   ...           ...              ...\n",
       "  473 55.666629 -0.002756 4947744 ...     0           nan              nan\n",
       "  474 59.037319  -0.08628 4948742 ...     0           nan              nan\n",
       "  475 57.125304  0.678444 4950238 ...     0           nan              nan\n",
       "  476 56.073852  0.626488 4954954 ...     0           nan              nan\n",
       "  477 58.036886  0.999678 4956438 ...     0           nan              nan\n",
       "  478 58.700931   1.22883 4956681 ...     0           nan              nan\n",
       "  479 57.156605  0.134676 4983075 ...     0           nan              nan\n",
       "  480 57.128875 -0.389138 4984662 ...     0           nan              nan\n",
       "  481 57.151443  0.892965 4992418 ...     0           nan              nan\n",
       "  482 56.510537 -0.561729 5011634 ...     0           nan              nan"
      ]
     },
     "execution_count": 96,
     "metadata": {},
     "output_type": "execute_result"
    }
   ],
   "source": [
    "combined_table"
   ]
  },
  {
   "cell_type": "code",
   "execution_count": 165,
   "metadata": {
    "collapsed": true
   },
   "outputs": [],
   "source": [
    "# Compare RR Lyr LC from SDSS vs PDAC ...\n",
    "\n",
    "# note :  those LCs that I already split into g-band are \n",
    "\n",
    "\n",
    "\n",
    "def compare_rr_lyr( i = 0, band='g' , table2 = table2, save_plot=False):\n",
    "    \n",
    "    # directory with RR Lyr lightcurves \n",
    "    DirIn = '../catalogs/RRLyr_S82_Sesar_2010/'\n",
    "    address1 = DirIn + 'table1_lightcurves/'\n",
    "    lc_names = table2['Num'].data.astype(str)\n",
    "    \n",
    "    # grab Branimir's period and type for that particular RR Lyr...\n",
    "    true_period = table2['Per'][i]  # in days \n",
    "    rr_type = table2['Type'][i] # string \n",
    "    ID = table2['Num'][i] # int\n",
    "    \n",
    "    omega_true = 2*np.pi / true_period\n",
    "    print('We picked RR Lyrae ID=%d , type %s, with a period of %.6f days'%(ID,rr_type, true_period))\n",
    "    print('True omega = %.4f'%omega_true)\n",
    "\n",
    "    \n",
    "    # SESAR \n",
    "    #\n",
    "    # Pick an RR Lyr, print it's mag,  type, and plot the lightcurve \n",
    "    lc = Table.read(address1+lc_names[i]+'.dat', format='ascii')\n",
    "\n",
    "    # grab colnames and units for all RR Lyr LC lightcurves  from the readme file....\n",
    "    readme = Table.read(address1+'ReadMe', format='ascii')\n",
    "\n",
    "    # Rename the columns and units for this lightcurve ...\n",
    "    columns = lc.colnames\n",
    "\n",
    "    for j in range(len(columns)):\n",
    "        lc[columns[j]].name = readme.colnames[j]\n",
    "        lc[readme.colnames[j]].unit = readme[readme.colnames[j]].unit\n",
    "\n",
    "    # grab the lightcurve data ... \n",
    "    mask =  lc[band+'mag'] > 0   # remove all rows missing data... \n",
    "    mjds1 = lc[band+'mjd'][mask]\n",
    "    mags1= lc[band+'mag'][mask]\n",
    "    magerrs1 = lc[band+'magErr'][mask]\n",
    " \n",
    "    # PDAC \n",
    "    \n",
    "    print('We are also using PDAC-downloaded lightcurves')\n",
    "    # Pick an RR Lyr\n",
    "    address = '../raw_data/RRLyr_S82_PDAC/'\n",
    "    PDAC_lcs = os.listdir(address)\n",
    "    PDAC_IDs = np.array([str.rsplit(x,'_')[0] for x in PDAC_lcs]).astype(int)  \n",
    "    PDAC_i = np.array([str.rsplit(x,'_')[1] for x in PDAC_lcs]).astype(int)\n",
    "\n",
    "    if i not in PDAC_i : \n",
    "        print('Sorry, we do not have lightcurve i=%d, ID=%d from PDAC yet'%(i,ID ))\n",
    "    else : \n",
    "        lc = Table.read(address+lc_names[i]+'_'+str(i)+'_'+band+'.txt', format='ascii')\n",
    "        if  lc.mask is not None :\n",
    "            # remove all missing rows... \n",
    "            # if they were masked... \n",
    "            lc_clean = lc[~lc['g'].mask]  \n",
    "        else:\n",
    "            lc_clean = lc\n",
    "        # grab the lightcurve data ...\n",
    "        mjds2 = np.array(lc_clean['exposure_time_mid'])\n",
    "        mags2 = np.array(lc_clean[band])\n",
    "        magerrs2 = np.array(lc_clean[band+'Err'])\n",
    "\n",
    "    # Make plot space\n",
    "    fig,ax = plt.subplots(1,1,figsize=(8,4))\n",
    " \n",
    "    #ax = np.ravel(axs)\n",
    "    # plot the raw lightcurves\n",
    "    \n",
    "    ax.errorbar(mjds1,mags1, magerrs1, # COMPLETE THIS LINE\n",
    "        fmt = '_', capsize=0, label='Sesar SDSS', lw=1, color='red', alpha=0.8)\n",
    "    ax.errorbar(mjds2,mags2, magerrs2, # COMPLETE THIS LINE\n",
    "        fmt = '_', capsize=0, label='PDAC SDSS', lw=1, alpha=0.8)\n",
    "    ax.set_xlabel('Date (MJD)')\n",
    "    ax.set_ylabel(band+' Magnitude')\n",
    "    ax.set_title('Raw data')\n",
    "    xticks = ax.get_xticks()\n",
    "    ax.set_xticks(xticks[:])\n",
    "    plt.gca().invert_yaxis()\n",
    "    # plot residuals ... \n",
    "    \n",
    "    #ax[1].scatter(mjds1-mjds2,  mags1-mags2)\n",
    "    \n",
    "    print(len(mjds1))\n",
    "    print(len(mjds2))\n",
    "    #plt.legend(loc='best')\n",
    "    plt.tight_layout()\n",
    "    plt.savefig('../data_products/Sesar_vs_PDAC_lc_'+str(ID)+'.png')"
   ]
  },
  {
   "cell_type": "code",
   "execution_count": 166,
   "metadata": {
    "collapsed": false
   },
   "outputs": [
    {
     "name": "stdout",
     "output_type": "stream",
     "text": [
      "We picked RR Lyrae ID=4099 , type ab, with a period of 0.641754 days\n",
      "True omega = 9.7906\n",
      "We are also using PDAC-downloaded lightcurves\n",
      "59\n",
      "162\n"
     ]
    },
    {
     "data": {
      "image/png": "[encoded data removed]",
      "text/plain": [
       "<matplotlib.figure.Figure at 0x1213ae160>"
      ]
     },
     "metadata": {},
     "output_type": "display_data"
    }
   ],
   "source": [
    "compare_rr_lyr()"
   ]
  },
  {
   "cell_type": "code",
   "execution_count": 173,
   "metadata": {
    "collapsed": false
   },
   "outputs": [],
   "source": [
    "SDSS_and_PDAC_rows = combined_table['N_id'] !=0\n",
    "table = combined_table[SDSS_and_PDAC_rows]"
   ]
  },
  {
   "cell_type": "code",
   "execution_count": 177,
   "metadata": {
    "collapsed": false
   },
   "outputs": [
    {
     "data": {
      "text/html": [
       "&lt;Table length=10&gt;\n",
       "<table id=\"table4813488256\" class=\"table-striped table-bordered table-condensed\">\n",
       "<thead><tr><th>i_1</th><th>RAdeg</th><th>DEdeg</th><th>Num</th><th>Type</th><th>Per</th><th>gmag</th><th>PerLS_SDSS</th><th>i_2</th><th>lc_name</th><th>N_id</th><th>query_time</th><th>calc_time</th><th>ratio2</th><th>PerLS_PDAC</th><th>lc</th></tr></thead>\n",
       "<thead><tr><th>int64</th><th>float64</th><th>float64</th><th>int64</th><th>str2</th><th>float64</th><th>float64</th><th>float64</th><th>int64</th><th>int64</th><th>int64</th><th>float64</th><th>float64</th><th>float64</th><th>float64</th><th>str21</th></tr></thead>\n",
       "<tr><td>0</td><td>0.935679</td><td>1.115859</td><td>4099</td><td>ab</td><td>0.641754351271</td><td>16.6637400636</td><td>0.280826868507</td><td>0</td><td>4099</td><td>2</td><td>18.325868672</td><td>0.0115074128844</td><td>0.437592465016</td><td>0.280826868507</td><td>4099</td></tr>\n",
       "<tr><td>1</td><td>0.283437</td><td>1.178522</td><td>13350</td><td>ab</td><td>0.547987422171</td><td>16.9886134861</td><td>0.547160529732</td><td>1</td><td>13350</td><td>1</td><td>7.44625828811</td><td>0.00839142501354</td><td>1.82165913319</td><td>0.998246292473</td><td>13350</td></tr>\n",
       "<tr><td>2</td><td>3.254658</td><td>-0.584066</td><td>15927</td><td>ab</td><td>0.612262983773</td><td>17.6534916127</td><td>0.379758496104</td><td>2</td><td>15927</td><td>2</td><td>14.962918102</td><td>0.00949958199635</td><td>1.63042078148</td><td>0.998246292473</td><td>15927</td></tr>\n",
       "<tr><td>3</td><td>3.244369</td><td>0.218891</td><td>20406</td><td>ab</td><td>0.631853138777</td><td>15.2059062035</td><td>0.386789396927</td><td>3</td><td>20406</td><td>2</td><td>16.3140791918</td><td>0.0109092448838</td><td>1.57987075035</td><td>0.998246292473</td><td>20406</td></tr>\n",
       "<tr><td>4</td><td>4.315354</td><td>1.054582</td><td>21992</td><td>ab</td><td>0.625880355362</td><td>14.3769955855</td><td>0.62589008044</td><td>4</td><td>21992</td><td>2</td><td>13.1394871711</td><td>0.0114062961657</td><td>1.59494747506</td><td>0.998246292473</td><td>21992</td></tr>\n",
       "<tr><td>5</td><td>3.173891</td><td>-0.46073</td><td>27887</td><td>c</td><td>0.31149403602</td><td>16.5548732263</td><td>0.311493145901</td><td>5</td><td>27887</td><td>2</td><td>18.52131422</td><td>0.00939282588661</td><td>3.20470435077</td><td>0.998246292473</td><td>27887</td></tr>\n",
       "<tr><td>6</td><td>2.426843</td><td>-0.562932</td><td>46988</td><td>ab</td><td>0.572961748738</td><td>14.5444818616</td><td>0.57294499232</td><td>6</td><td>46988</td><td>1</td><td>14.6441505901</td><td>0.00843523791991</td><td>1.74225643278</td><td>0.998246292473</td><td>46988</td></tr>\n",
       "<tr><td>7</td><td>2.150327</td><td>0.659596</td><td>74260</td><td>ab</td><td>0.612522626959</td><td>18.5375976282</td><td>0.379855747706</td><td>7</td><td>74260</td><td>2</td><td>13.27734195</td><td>0.00974029698409</td><td>1.62972965983</td><td>0.998246292473</td><td>74260</td></tr>\n",
       "<tr><td>8</td><td>0.361418</td><td>-0.22898</td><td>75433</td><td>ab</td><td>0.555702765029</td><td>14.04019319</td><td>0.263001040396</td><td>8</td><td>75433</td><td>2</td><td>15.7911823969</td><td>0.0128124989569</td><td>1.49210377971</td><td>0.829166196095</td><td>75433</td></tr>\n",
       "<tr><td>9</td><td>2.837662</td><td>0.170581</td><td>75486</td><td>ab</td><td>0.562574562809</td><td>16.0565104457</td><td>0.360032732555</td><td>9</td><td>75486</td><td>2</td><td>17.4061177298</td><td>0.00938627799042</td><td>1.77442486466</td><td>0.998246292473</td><td>75486</td></tr>\n",
       "</table>"
      ],
      "text/plain": [
       "<Table length=10>\n",
       " i_1   RAdeg     DEdeg    Num  ...     ratio2       PerLS_PDAC     lc \n",
       "int64 float64   float64  int64 ...    float64        float64     str21\n",
       "----- -------- --------- ----- ... -------------- -------------- -----\n",
       "    0 0.935679  1.115859  4099 ... 0.437592465016 0.280826868507  4099\n",
       "    1 0.283437  1.178522 13350 ...  1.82165913319 0.998246292473 13350\n",
       "    2 3.254658 -0.584066 15927 ...  1.63042078148 0.998246292473 15927\n",
       "    3 3.244369  0.218891 20406 ...  1.57987075035 0.998246292473 20406\n",
       "    4 4.315354  1.054582 21992 ...  1.59494747506 0.998246292473 21992\n",
       "    5 3.173891  -0.46073 27887 ...  3.20470435077 0.998246292473 27887\n",
       "    6 2.426843 -0.562932 46988 ...  1.74225643278 0.998246292473 46988\n",
       "    7 2.150327  0.659596 74260 ...  1.62972965983 0.998246292473 74260\n",
       "    8 0.361418  -0.22898 75433 ...  1.49210377971 0.829166196095 75433\n",
       "    9 2.837662  0.170581 75486 ...  1.77442486466 0.998246292473 75486"
      ]
     },
     "execution_count": 177,
     "metadata": {},
     "output_type": "execute_result"
    }
   ],
   "source": [
    "table[:10]"
   ]
  },
  {
   "cell_type": "code",
   "execution_count": 198,
   "metadata": {
    "collapsed": false
   },
   "outputs": [],
   "source": [
    "# compare statistically all SDSS vs PDAC lightcurves for SAME objects\n",
    "\n",
    "stats = {}\n",
    "stats['ID'] = np.zeros_like(table['Num'], dtype=int)\n",
    "stats['band'] = np.zeros_like(table['Num'], dtype=str)\n",
    "stats['sesar_N_pts'] = np.zeros_like(table['Num'], dtype=int)\n",
    "stats['sesar_MedianMag'] = np.zeros_like(table['Num'], dtype=float)\n",
    "stats['sesar_wMeanMag']= np.zeros_like(table['Num'], dtype=float)\n",
    "stats['sesar_MeanMag']= np.zeros_like(table['Num'], dtype=float)\n",
    "#stats['MeanMagErr'] \n",
    "stats['sesar_chi2dof']= np.zeros_like(table['Num'], dtype=float)\n",
    "\n",
    "stats['PDAC_N_pts'] = np.zeros_like(table['Num'], dtype=int)\n",
    "stats['PDAC_MedianMag'] = np.zeros_like(table['Num'], dtype=float)\n",
    "stats['PDAC_wMeanMag']= np.zeros_like(table['Num'], dtype=float)\n",
    "stats['PDAC_MeanMag']= np.zeros_like(table['Num'], dtype=float)\n",
    "#stats['MeanMagErr'] \n",
    "stats['PDAC_chi2dof']= np.zeros_like(table['Num'], dtype=float)\n",
    "\n",
    "def calcWeightedMean(y,yerr):\n",
    "    ''' Calculate the weighted mean '''\n",
    "    N = len(y)\n",
    "    if N == 1 : \n",
    "        return float(y)    \n",
    "    elif N == 0 : \n",
    "        return np.nan\n",
    "    else: \n",
    "        # weights = 1 / (yerr ** 2.0)  \n",
    "        # wMean = np.sum(weights * flux) / np.sum(weights)\n",
    "        return float(np.add.reduce(y / (yerr * yerr)) / np.add.reduce((1/yerr)*(1/yerr)))\n",
    "\n",
    "\n",
    "\n",
    "band = 'g'\n",
    "for i in range(len(table)) : \n",
    "    # grab Branimir's period and type for that particular RR Lyr...\n",
    "    true_period = table['Per'][i]  # in days \n",
    "    rr_type = table['Type'][i] # string \n",
    "    ID = str(table['Num'][i]) # string\n",
    "    stats['ID'][i] = table['Num'][i]\n",
    "    stats['band'][i] = band\n",
    "\n",
    "    # directory with RR Lyr lightcurves \n",
    "    DirIn = '../catalogs/RRLyr_S82_Sesar_2010/'\n",
    "    \n",
    "    # SESAR \n",
    "    #\n",
    "    # Pick an RR Lyr, print it's mag,  type, and plot the lightcurve \n",
    "\n",
    "    lc = Table.read(DirIn + 'table1_lightcurves/'+ID+'.dat', format='ascii')\n",
    "\n",
    "    # grab colnames and units for all RR Lyr LC lightcurves  from the readme file....\n",
    "    readme = Table.read(DirIn + 'table1_lightcurves/'+'ReadMe', format='ascii')\n",
    "\n",
    "    # Rename the columns and units for this lightcurve ...\n",
    "    columns = lc.colnames\n",
    "\n",
    "    for j in range(len(columns)):\n",
    "        lc[columns[j]].name = readme.colnames[j]\n",
    "        lc[readme.colnames[j]].unit = readme[readme.colnames[j]].unit\n",
    "\n",
    "    # grab the lightcurve data ... \n",
    "    mask =  lc[band+'mag'] > 0   # remove all rows missing data... \n",
    "    mjds1 = lc[band+'mjd'][mask]\n",
    "    mags1= lc[band+'mag'][mask]\n",
    "    magerrs1 = lc[band+'magErr'][mask]\n",
    "    \n",
    "    stats['sesar_N_pts'][i] = len(mjds1)\n",
    "    stats['sesar_MedianMag'][i] = np.median(mags1)\n",
    "    wMean1 = calcWeightedMean(mags1, magerrs1)\n",
    "    stats['sesar_wMeanMag'][i] = wMean1\n",
    "    stats['sesar_MeanMag'][i] = np.mean(mags1)\n",
    "    stats['sesar_chi2dof'][i] = (1 / (len(mjds1)-1.0)) * np.sum(((mags1- wMean1)/magerrs1)**2)\n",
    "    \n",
    "    # PDAC \n",
    "    # Pick an RR Lyr\n",
    "    address = '../raw_data/RRLyr_S82_PDAC/'\n",
    "    lc = Table.read(address+ID+'_'+str(table['i_1'][i])+'_'+band+'.txt', format='ascii')\n",
    "    if  lc.mask is not None :\n",
    "        # remove all missing rows... \n",
    "        # if they were masked... \n",
    "        lc_clean = lc[~lc['g'].mask]  \n",
    "    else:\n",
    "        lc_clean = lc\n",
    "    # grab the lightcurve data ...\n",
    "    mjds2 = np.array(lc_clean['exposure_time_mid'])\n",
    "    mags2 = np.array(lc_clean[band])\n",
    "    magerrs2 = np.array(lc_clean[band+'Err'])\n",
    "\n",
    "    stats['PDAC_N_pts'][i] = len(mjds2)\n",
    "    stats['PDAC_MedianMag'][i] = np.median(mags2)\n",
    "    wMean2 = calcWeightedMean(mags2, magerrs2)\n",
    "    stats['PDAC_wMeanMag'][i] = wMean2\n",
    "    stats['PDAC_MeanMag'][i] = np.mean(mags2)\n",
    "    stats['PDAC_chi2dof'][i] = (1 / (len(mjds2)-1.0)) * np.sum(((mags2- wMean2)/magerrs2)**2)"
   ]
  },
  {
   "cell_type": "code",
   "execution_count": 238,
   "metadata": {
    "collapsed": false
   },
   "outputs": [
    {
     "data": {
      "text/plain": [
       "<matplotlib.collections.PathCollection at 0x11f037978>"
      ]
     },
     "execution_count": 238,
     "metadata": {},
     "output_type": "execute_result"
    },
    {
     "data": {
      "image/png": "[encoded data removed]",
      "text/plain": [
       "<matplotlib.figure.Figure at 0x12076f780>"
      ]
     },
     "metadata": {},
     "output_type": "display_data"
    }
   ],
   "source": [
    "plt.scatter(stats['sesar_N_pts'], stats['PDAC_N_pts'])"
   ]
  },
  {
   "cell_type": "code",
   "execution_count": 201,
   "metadata": {
    "collapsed": false
   },
   "outputs": [
    {
     "data": {
      "text/plain": [
       "dict_keys(['sesar_N_pts', 'sesar_MedianMag', 'PDAC_wMeanMag', 'PDAC_MeanMag', 'PDAC_chi2dof', 'PDAC_N_pts', 'sesar_wMeanMag', 'band', 'ID', 'sesar_chi2dof', 'PDAC_MedianMag', 'sesar_MeanMag'])"
      ]
     },
     "execution_count": 201,
     "metadata": {},
     "output_type": "execute_result"
    }
   ],
   "source": [
    "stats.keys()"
   ]
  },
  {
   "cell_type": "code",
   "execution_count": 237,
   "metadata": {
    "collapsed": false
   },
   "outputs": [
    {
     "data": {
      "image/png": "[encoded data removed]",
      "text/plain": [
       "<matplotlib.figure.Figure at 0x1269a39b0>"
      ]
     },
     "metadata": {},
     "output_type": "display_data"
    }
   ],
   "source": [
    "fig,axs = plt.subplots(2,2, figsize=(12,9))\n",
    "fig.subplots_adjust(hspace=0.3)\n",
    "ax = np.ravel(axs)\n",
    "i = 0\n",
    "Nbins = 30 \n",
    "lw = 2 \n",
    "title = ['Median [mag]', 'Weighted Mean [mag]', 'Mean [mag]']\n",
    "for prop in ['MedianMag', 'wMeanMag', 'MeanMag'] : \n",
    "    #ax[i].scatter(stats['sesar_'+prop], stats['PDAC_'+prop])\n",
    "    ax[i].hist(stats['sesar_'+prop], histtype='step', bins=Nbins, lw=lw)\n",
    "    ax[i].hist(stats['PDAC_'+prop],histtype='step',bins=Nbins, lw=lw)\n",
    "    ax[i].set_xlabel(title[i])\n",
    "    ax[i].set_ylabel('N')\n",
    "    i += 1 \n",
    "ax[3].hist(stats['PDAC_chi2dof'], histtype='step', bins  = np.logspace(1,4, Nbins), lw=lw, label='PDAC')\n",
    "ax[3].hist(stats['sesar_chi2dof'], histtype='step', bins  = np.logspace(1,4, Nbins), lw=lw, label='Sesar')\n",
    "ax[3].set_xscale('log')\n",
    "ax[3].set_xlabel(r'$\\log_{10} ( \\chi^{2}_{DOF}) $')\n",
    "ax[3].set_ylabel('N')\n",
    "lgnd = ax[3].legend(loc='upper left')\n",
    "plt.tight_layout()\n",
    "plt.savefig('../data_products/Fig_PDAC_sesar_compare.png')"
   ]
  },
  {
   "cell_type": "code",
   "execution_count": 234,
   "metadata": {
    "collapsed": false
   },
   "outputs": [
    {
     "ename": "SyntaxError",
     "evalue": "invalid syntax (<ipython-input-234-780c11918e34>, line 1)",
     "output_type": "error",
     "traceback": [
      "\u001b[0;36m  File \u001b[0;32m\"<ipython-input-234-780c11918e34>\"\u001b[0;36m, line \u001b[0;32m1\u001b[0m\n\u001b[0;31m    lgnd.legendHandles[0].?\u001b[0m\n\u001b[0m                          ^\u001b[0m\n\u001b[0;31mSyntaxError\u001b[0m\u001b[0;31m:\u001b[0m invalid syntax\n"
     ]
    }
   ],
   "source": [
    "lgnd.legendHandles[0].?\n"
   ]
  },
  {
   "cell_type": "code",
   "execution_count": null,
   "metadata": {
    "collapsed": true
   },
   "outputs": [],
   "source": []
  }
 ],
 "metadata": {
  "anaconda-cloud": {},
  "kernelspec": {
   "display_name": "Python [Root]",
   "language": "python",
   "name": "Python [Root]"
  },
  "language_info": {
   "codemirror_mode": {
    "name": "ipython",
    "version": 3
   },
   "file_extension": ".py",
   "mimetype": "text/x-python",
   "name": "python",
   "nbconvert_exporter": "python",
   "pygments_lexer": "ipython3",
   "version": "3.5.2"
  }
 },
 "nbformat": 4,
 "nbformat_minor": 0
}
