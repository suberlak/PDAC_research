{
 "cells": [
  {
   "cell_type": "markdown",
   "metadata": {},
   "source": [
    "## Testing single-object lightcurves from PDAC "
   ]
  },
  {
   "cell_type": "markdown",
   "metadata": {},
   "source": [
    "Here I query PDAC v.1 SUIT  http://lsst-sui-proxy01.ncsa.illinois.edu/suit against a few variable objects. I consider 483 RR Lyrae stars from Sesar +2010 http://iopscience.iop.org/article/10.1088/0004-637X/708/1/717/meta#apj326724t2   . Table 1 in that paper contains positions and photometry , one file per object  (the name of each file is elsewhere in the paper, and in Table 1, called RR Lyrae ID).  Table 2 contains lightcurve parameters, and can be matched to photometry files by RR Lyrae ID  (col 0). Table 2 also includes the RR Lyrae type (col 1),  and Period in days (col 2) "
   ]
  },
  {
   "cell_type": "code",
   "execution_count": 75,
   "metadata": {
    "collapsed": true
   },
   "outputs": [],
   "source": [
    "# necessary imports\n",
    "import numpy as np\n",
    "import os\n",
    "import pandas as pd \n",
    "from astropy.table import Table\n",
    "from astropy.table import Column\n",
    "from astropy.io import ascii\n",
    "import matplotlib.pyplot as plt\n",
    "import json\n",
    "\n",
    "# periodogram-related \n",
    "import sys\n",
    "sys.path.insert(0, '/Users/chris/GradResearch/SDSS_S82_FP_research/packages/')\n",
    "import frequencyFunctions as freq\n",
    "import imp\n",
    "imp.reload(freq)\n",
    "from astroML.time_series import lomb_scargle  ,lomb_scargle_bootstrap \n"
   ]
  },
  {
   "cell_type": "markdown",
   "metadata": {},
   "source": [
    "I download the lightcurves from the supplementary data file to Table 1 ( http://iopscience.iop.org/0004-637X/708/1/717/suppdata/apj326724_table1.tar.gz )"
   ]
  },
  {
   "cell_type": "code",
   "execution_count": 2,
   "metadata": {
    "collapsed": false
   },
   "outputs": [],
   "source": [
    "DirIn = '../catalogs/RRLyr_S82_Sesar_2010/'\n",
    "address1 = DirIn + 'table1_lightcurves/'\n",
    "\n",
    "# find out what are the IDs of RR Lyr available as lightcurves\n",
    "#RRLyr_lc_files = os.listdir(address1)\n",
    "# remove ReadMe..\n",
    "#RRLyr_lc_files.pop(-1)\n",
    "# strip the *.txt from filename \n",
    "#RRLyr_ID = [int(ID[:-4]) for ID in RRLyr_lc_files]"
   ]
  },
  {
   "cell_type": "markdown",
   "metadata": {},
   "source": [
    "I downloaded Branimir's fit parameters as machine-readable version of Table 2 : http://iopscience.iop.org/0004-637X/708/1/717/suppdata/apj326724t2_mrt.txt\n"
   ]
  },
  {
   "cell_type": "code",
   "execution_count": 212,
   "metadata": {
    "collapsed": true
   },
   "outputs": [],
   "source": [
    "# Grab the fit parameters...\n",
    "table2 = Table.read(DirIn+'table2_lc_fit_params.txt', format='ascii') \n",
    "\n"
   ]
  },
  {
   "cell_type": "markdown",
   "metadata": {},
   "source": [
    "I first plot the distribution of  RR Lyr periods from Table 2 :"
   ]
  },
  {
   "cell_type": "code",
   "execution_count": 318,
   "metadata": {
    "collapsed": false
   },
   "outputs": [
    {
     "data": {
      "image/png": "[encoded data removed]",
      "text/plain": [
       "<matplotlib.figure.Figure at 0x121035eb8>"
      ]
     },
     "metadata": {},
     "output_type": "display_data"
    }
   ],
   "source": [
    "fig,ax = plt.subplots()\n",
    "ax.hist(table2['Per'].data, bins=30, histtype='step', lw=2)\n",
    "ax.set_ylabel('count')\n",
    "ax.set_xlabel('period [days]')\n",
    "ax.set_xlim(xmin = 0.22, xmax=0.85)\n",
    "\n",
    "#ax.set_title('483 RR Lyrae from Sesar+2010')\n",
    "plt.tight_layout()\n",
    "plt.savefig('../data_products/Fig_1_Sesar_2010_RRLyr.png')"
   ]
  },
  {
   "cell_type": "markdown",
   "metadata": {},
   "source": [
    "Each lightcurve file has multiple columns, and the metadata for these is in the Readme file."
   ]
  },
  {
   "cell_type": "markdown",
   "metadata": {},
   "source": [
    "At the moment RA, Dec information is in each lightcurve (first cols), whereas all other info is in table 2.  I want to add this info to table 2 to make a master table with the information I need (one row per RR Lyr)."
   ]
  },
  {
   "cell_type": "code",
   "execution_count": 221,
   "metadata": {
    "collapsed": false
   },
   "outputs": [],
   "source": [
    "# table 2 : 'Num', 'Type', 'Per', 'Au', 'umag', 'phiu', 'Tu', 'Ag', 'gmag',\n",
    "#       'phig', 'Tg', 'Ar', 'rmag', 'phir', 'Tr', 'Ai', 'imag', 'phii',\n",
    "#       'Ti', 'Az', 'zmag', 'phiz', 'Tz'\n",
    "\n",
    "\n",
    "# Grab the fit parameters...\n",
    "table2 = Table.read(DirIn+'table2_lc_fit_params.txt', format='ascii') \n",
    "\n",
    "# Grab the RR Lyr ID \n",
    "lc_names = table2['Num'].data.astype(str)\n",
    "\n",
    "# grab colnames and units for all RR Lyr LC lightcurves  from the readme file....\n",
    "readme = Table.read(DirLc+'ReadMe', format='ascii')\n",
    "\n",
    "# initialize empty arrays to store that info \n",
    "ra = np.zeros_like(lightcurves, dtype=float)\n",
    "dec = np.zeros_like(lightcurves, dtype=float)\n",
    "# iterate in a loop over all lightcurves pulling the \n",
    "# ra, dec from the first row of each LC\n",
    "for i in range(len(lc_names)) : \n",
    "    \n",
    "    lc = Table.read(DirLc+ lc_names[i]+'.dat', format='ascii')\n",
    "    \n",
    "    # Grab the colnames and units from the Readme file...\n",
    "    columns = lc.colnames\n",
    "\n",
    "    for j in range(len(columns)):\n",
    "        lc[columns[j]].name = readme.colnames[j]\n",
    "        lc[readme.colnames[j]].unit = readme[readme.colnames[j]].unit\n",
    "\n",
    "    ra[i] = lc['RAdeg'][0]\n",
    "    dec[i]  = lc['DEdeg'][0]\n",
    "\n",
    "r = Column(data=ra, name='RAdeg')\n",
    "d = Column(data=dec, name='DEdeg')\n",
    "ic = Column(np.arange(len(lc_names)), 'i')\n",
    "\n",
    "table2.add_columns([r,d,ic])\n",
    "\n",
    "# Now table2 has three additional columns that together give me all the info I need about all RR Lyr...\n",
    "# Choose only those columns that we need .\n",
    "master_table = table2[['i','RAdeg','DEdeg','Num', 'Type', 'Per', 'gmag']]\n",
    "\n",
    "\n"
   ]
  },
  {
   "cell_type": "code",
   "execution_count": 300,
   "metadata": {
    "collapsed": false
   },
   "outputs": [
    {
     "data": {
      "text/plain": [
       "array(['ab', 'c'], \n",
       "      dtype='<U2')"
      ]
     },
     "execution_count": 300,
     "metadata": {},
     "output_type": "execute_result"
    }
   ],
   "source": [
    "np.unique(master_table['Type'].data)"
   ]
  },
  {
   "cell_type": "markdown",
   "metadata": {},
   "source": [
    "To test things out, I focus on one lightcurve :"
   ]
  },
  {
   "cell_type": "code",
   "execution_count": 235,
   "metadata": {
    "collapsed": false
   },
   "outputs": [
    {
     "name": "stdout",
     "output_type": "stream",
     "text": [
      "We picked RR Lyrae ID=4099 , type ab, with a period of 0.6418 days\n"
     ]
    }
   ],
   "source": [
    "# Pick an RR Lyr, print it's mag,  type, and plot the lightcurve \n",
    "\n",
    "i = 0\n",
    "lc = Table.read(address1+lc_names[i]+'.dat', format='ascii')\n",
    "\n",
    "# Rename the columns and units for this lightcurve ...\n",
    "columns = lc.colnames\n",
    "\n",
    "for j in range(len(columns)):\n",
    "    lc[columns[j]].name = readme.colnames[j]\n",
    "    lc[readme.colnames[j]].unit = readme[readme.colnames[j]].unit\n",
    "\n",
    "# grab period and type for that particular RR Lyr...\n",
    "ID = master_table['Num'][i]\n",
    "period =master_table['Per'][i]  # in days \n",
    "rr_type = master_table['Type'][i] # string \n",
    "print('We picked RR Lyrae ID=%d , type %s, with a period of %.4f days'%(ID,rr_type, period))"
   ]
  },
  {
   "cell_type": "markdown",
   "metadata": {},
   "source": [
    "Plot raw lightcurve and period - folded lightcurve : 1)  use Branimir's period 2) do Lomb-Scargle to find period"
   ]
  },
  {
   "cell_type": "code",
   "execution_count": 236,
   "metadata": {
    "collapsed": false
   },
   "outputs": [
    {
     "data": {
      "image/png": "[encoded data removed]",
      "text/plain": [
       "<matplotlib.figure.Figure at 0x127939d30>"
      ]
     },
     "metadata": {},
     "output_type": "display_data"
    }
   ],
   "source": [
    "# Some settings to make all fonts bigger\n",
    "\n",
    "from matplotlib import rcParams      \n",
    "rcParams['ytick.labelsize'] = 15\n",
    "rcParams['xtick.labelsize'] = 15\n",
    "rcParams['axes.labelsize'] = 20\n",
    "rcParams['axes.linewidth'] = 2\n",
    "rcParams['font.size'] = 15\n",
    "rcParams['axes.titlesize'] = 20\n",
    "\n",
    "def plot_data(source_mjds, source_mags, source_magerrs, ax = None, band=''): # COMPLETE THIS LINE\n",
    "    ax.errorbar(source_mjds, source_mags, source_magerrs, # COMPLETE THIS LINE\n",
    "        fmt = '_', capsize=0)\n",
    "    ax.set_xlabel('Date (MJD)')\n",
    "    ax.set_ylabel(band+' Magnitude')\n",
    "    ax.set_title('Raw data')\n",
    "    xticks = ax.get_xticks()\n",
    "    ax.set_xticks(xticks[::2])\n",
    "    plt.gca().invert_yaxis()\n",
    "    \n",
    "%matplotlib inline \n",
    "\n",
    "band = 'r'\n",
    "mask =  lc[band+'mag'] > 0   # remove all rows missing data... \n",
    "mjds = lc[band+'mjd'][mask]\n",
    "mags = lc[band+'mag'][mask]\n",
    "magerrs = lc[band+'magErr'][mask]\n",
    "fig,ax = plt.subplots()\n",
    "plot_data(mjds,mags, magerrs,ax,band)"
   ]
  },
  {
   "cell_type": "markdown",
   "metadata": {},
   "source": [
    "I'll phase this raw lightcurve on Branimir's period to see how well it fares"
   ]
  },
  {
   "cell_type": "code",
   "execution_count": 240,
   "metadata": {
    "collapsed": false
   },
   "outputs": [
    {
     "data": {
      "text/plain": [
       "<matplotlib.text.Text at 0x123b0c7b8>"
      ]
     },
     "execution_count": 240,
     "metadata": {},
     "output_type": "execute_result"
    },
    {
     "data": {
      "image/png": "[encoded data removed]",
      "text/plain": [
       "<matplotlib.figure.Figure at 0x1234c7f28>"
      ]
     },
     "metadata": {},
     "output_type": "display_data"
    }
   ],
   "source": [
    "# define function to phase lightcurves\n",
    "def phase(time, period, t0 = None):\n",
    "    \"\"\" Given an input array of times and a period, return the corresponding phase.\"\"\"\n",
    "    if t0 is None:\n",
    "        t0 = time[0]\n",
    "        phase = ((time - t0) % period)/period\n",
    "    return phase # COMPLETE\n",
    "\n",
    "# define function to plot phased lc\n",
    "def plot_phased_lc(mjds, mags, magerrs, period, t0=None, ax = None, band='', nperiods = 1):\n",
    "    phases = phase(mjds, period, t0) \n",
    "    \n",
    "    # added functionality to repeat the period more than once if needed.... \n",
    "    if nperiods > 1 : \n",
    "        for i in range(1,nperiods):\n",
    "            phases =  np.append(phases, phases+i)\n",
    "            mags = np.append(mags, mags)\n",
    "            magerrs  = np.append(magerrs, magerrs)\n",
    "        \n",
    "    ax.scatter(phases,mags, lw=0, s=10)\n",
    "    ax.errorbar(phases, mags, magerrs, ls='None') #fmt = '_', capsize=0\n",
    "    ax.set_xlabel('Phase')\n",
    "    ax.set_ylabel(band+' Magnitude')\n",
    "    plt.gca().invert_yaxis()\n",
    "    \n",
    "# run function to plot phased lc\n",
    "fig,ax = plt.subplots()\n",
    "plot_phased_lc(mjds, mags, magerrs, period, None, ax, band, 1)\n",
    "ax.set_title('RR Lyr '+str(ID))\n"
   ]
  },
  {
   "cell_type": "markdown",
   "metadata": {
    "collapsed": false
   },
   "source": [
    "Plot a bootstrapped periodogram for that lightcurve..."
   ]
  },
  {
   "cell_type": "code",
   "execution_count": 303,
   "metadata": {
    "collapsed": false
   },
   "outputs": [
    {
     "name": "stdout",
     "output_type": "stream",
     "text": [
      "Best period: 0.39088601156768193 days\n"
     ]
    },
    {
     "data": {
      "image/png": "[encoded data removed]",
      "text/plain": [
       "<matplotlib.figure.Figure at 0x118eeb9e8>"
      ]
     },
     "metadata": {},
     "output_type": "display_data"
    }
   ],
   "source": [
    "\n",
    "\n",
    "# provided alternate frequency function\n",
    "# I call omega angular frequency, and 'frequency' the other one...\n",
    "#  freq = 1  / Period   ,   omega =  2 pi  /  Period  ,   \n",
    "# omega = 2 pi * freq  \n",
    "\n",
    "def alt_omega_grid(Pmin, Pmax, n_bins = 5000):\n",
    "    \"\"\"Generate an angular frequency grid between Pmin and Pmax (assumed to be in days)\"\"\"\n",
    "    omega_max = 2*np.pi / Pmin\n",
    "    omega_min = 2*np.pi / Pmax\n",
    "    return np.linspace(omega_min, omega_max, n_bins)\n",
    "\n",
    "\n",
    "# Cheating : since we know that these are RR Lyrae,  \n",
    "# search on a grid between smallest and largest \n",
    "# possible period... \n",
    "all_periods = table2['Per'].data\n",
    "omegas = alt_omega_grid(min(all_periods),max(all_periods), 5000)  \n",
    "\n",
    "#omegas = freq.frequency_grid(mjds) \n",
    "P_LS = lomb_scargle(t=mjds,y=mags, dy=magerrs, omega=omegas)\n",
    "plt.plot(omegas, P_LS)\n",
    "plt.xlabel('$\\omega$')\n",
    "plt.ylabel('$P_{LS}$')\n",
    "#plt.plot(frequency, P_LS)\n",
    "\n",
    "\n",
    "# provided: define function to find best period\n",
    "def LS_peak_to_period(omegas, P_LS):\n",
    "    \"\"\"find the highest peak in the LS periodogram and return the corresponding period.\"\"\"\n",
    "    max_omega = omegas[np.argmax(P_LS)]\n",
    "    return 2*np.pi/max_omega\n",
    "\n",
    "\n",
    "D = lomb_scargle_bootstrap(t=mjds, y=mags, dy=magerrs, omega=omegas, N_bootstraps=500) # Bootstrapped LS \n",
    "sig99, sig95 = np.percentile(D,99) , np.percentile(D,95) \n",
    "\n",
    "plt.plot([omegas[0],omegas[-1]], sig99*np.ones(2),'--')\n",
    "plt.plot([omegas[0],omegas[-1]], sig95*np.ones(2),'--')\n",
    "\n",
    "# run function to find best period\n",
    "best_period = LS_peak_to_period(omegas, P_LS)\n",
    "print(\"Best period: {} days\".format(best_period))"
   ]
  },
  {
   "cell_type": "markdown",
   "metadata": {},
   "source": [
    "Fold the lightcurve on that period..."
   ]
  },
  {
   "cell_type": "code",
   "execution_count": 242,
   "metadata": {
    "collapsed": false
   },
   "outputs": [
    {
     "data": {
      "image/png": "[encoded data removed]",
      "text/plain": [
       "<matplotlib.figure.Figure at 0x1234c7438>"
      ]
     },
     "metadata": {},
     "output_type": "display_data"
    }
   ],
   "source": [
    "fig,ax = plt.subplots()\n",
    "plot_phased_lc(majds, mags, magerrs, best_period, None, ax, band)"
   ]
  },
  {
   "cell_type": "markdown",
   "metadata": {},
   "source": [
    "Wrap all these functions so that I can take a lightcurve, plot its raw lightcurve, fold on the true period (from Table 2), compute periodogram, and fold on the best-fit period.  I use AstroML Lomb-Scargle periodogram implementation, setting as the minimum period the shortest period amongst RR Lyr from Branimir's sample -10%, and similarly with the longest period: + 10%.  This educated guess allows us to get close to the true frequency. By default,  both AstroPy and AstroML do not span the frequencies high enough (short periodicities). "
   ]
  },
  {
   "cell_type": "code",
   "execution_count": 460,
   "metadata": {
    "collapsed": false
   },
   "outputs": [
    {
     "data": {
      "text/plain": [
       "False"
      ]
     },
     "execution_count": 460,
     "metadata": {},
     "output_type": "execute_result"
    }
   ],
   "source": [
    "5 not in PDAC_i"
   ]
  },
  {
   "cell_type": "code",
   "execution_count": 579,
   "metadata": {
    "collapsed": true
   },
   "outputs": [],
   "source": [
    "def plot_rr_lyr( i = 0, band='g' , table2 = table2, save_plot=False, source='Sesar'):\n",
    "    \n",
    "    # directory with RR Lyr lightcurves \n",
    "    DirIn = '../catalogs/RRLyr_S82_Sesar_2010/'\n",
    "    address1 = DirIn + 'table1_lightcurves/'\n",
    "    lc_names = table2['Num'].data.astype(str)\n",
    "    \n",
    "    # grab Branimir's period and type for that particular RR Lyr...\n",
    "    true_period = table2['Per'][i]  # in days \n",
    "    rr_type = table2['Type'][i] # string \n",
    "    ID = table2['Num'][i] # int\n",
    "    \n",
    "    omega_true = 2*np.pi / true_period\n",
    "    print('We picked RR Lyrae ID=%d , type %s, with a period of %.6f days'%(ID,rr_type, true_period))\n",
    "    print('True omega = %.4f'%omega_true)\n",
    "\n",
    "    if source == 'Sesar':\n",
    "    \n",
    "        # Pick an RR Lyr, print it's mag,  type, and plot the lightcurve \n",
    "        lc = Table.read(address1+lc_names[i]+'.dat', format='ascii')\n",
    "\n",
    "        # grab colnames and units for all RR Lyr LC lightcurves  from the readme file....\n",
    "        readme = Table.read(address1+'ReadMe', format='ascii')\n",
    "\n",
    "        # Rename the columns and units for this lightcurve ...\n",
    "        columns = lc.colnames\n",
    "\n",
    "        for j in range(len(columns)):\n",
    "            lc[columns[j]].name = readme.colnames[j]\n",
    "            lc[readme.colnames[j]].unit = readme[readme.colnames[j]].unit\n",
    "\n",
    "        # grab the lightcurve data ... \n",
    "        mask =  lc[band+'mag'] > 0   # remove all rows missing data... \n",
    "        mjds = lc[band+'mjd'][mask]\n",
    "        mags = lc[band+'mag'][mask]\n",
    "        magerrs = lc[band+'magErr'][mask]\n",
    "    \n",
    "    if source =='PDAC' : \n",
    "        print('We are using PDAC-downloaded lightcurves')\n",
    "        # Pick an RR Lyr\n",
    "        address = '../raw_data/RRLyr_S82_PDAC/'\n",
    "        PDAC_lcs = os.listdir(address)\n",
    "        PDAC_IDs = np.array([str.rsplit(x,'_')[0] for x in PDAC_lcs]).astype(int)  \n",
    "        PDAC_i = np.array([str.rsplit(x,'_')[1] for x in PDAC_lcs]).astype(int)\n",
    "        \n",
    "        if i not in PDAC_i : \n",
    "            print('Sorry, we do not have lightcurve i=%d, ID=%d from PDAC yet'%(i,ID ))\n",
    "        else : \n",
    "            lc = Table.read(address+lc_names[i]+'_'+str(i)+'_'+band+'.txt', format='ascii')\n",
    "            if  lc.mask is not None :\n",
    "                # remove all missing rows... \n",
    "                # if they were masked... \n",
    "                lc_clean = lc[~lc['g'].mask]  \n",
    "            else:\n",
    "                lc_clean = lc\n",
    "            # grab the lightcurve data ...\n",
    "            mjds = np.array(lc_clean['exposure_time_mid'])\n",
    "            mags = np.array(lc_clean[band])\n",
    "            magerrs = np.array(lc_clean[band+'Err'])\n",
    "            \n",
    "    # Make plot space\n",
    "    fig,axs = plt.subplots(2,2,figsize=(14,8))\n",
    "    ax = np.ravel(axs)\n",
    "        \n",
    "    # plot the raw lightcurve...\n",
    "    plot_data(mjds,mags, magerrs, ax[0], band)\n",
    "    xticks = ax[0].get_xticks()\n",
    "    ax[0].set_xticks(xticks[1::2])\n",
    "    \n",
    "    # plot phased lightcurve using  Branimir's period \n",
    "    plot_phased_lc(mjds, mags, magerrs, true_period, None, ax[1], band, 2)\n",
    "\n",
    "    # Creative guess : since we know that these are RR Lyrae,  \n",
    "    # search on a grid between  the smallest and largest \n",
    "    # possible period... \n",
    "    all_periods = table2['Per'].data\n",
    "    omegas = alt_omega_grid(0.9 * min(all_periods),1.1*max(all_periods), 5000)  \n",
    "\n",
    "    #omegas = freq.frequency_grid(mjds) \n",
    "    P_LS = lomb_scargle(t=mjds,y=mags, dy=magerrs, omega=omegas)\n",
    "    \n",
    "    # plot the periodogram\n",
    "    ax[2].plot(omegas, P_LS)\n",
    "    ax[2].set_xlabel('$\\omega$')\n",
    "    ax[2].set_ylabel('$P_{LS}$')\n",
    "    \n",
    "    # run bootstrapped resamples to get significance....\n",
    "    D = lomb_scargle_bootstrap(t=mjds, y=mags, dy=magerrs, omega=omegas, N_bootstraps=100) # Bootstrapped LS \n",
    "    sig99, sig95 = np.percentile(D,99) , np.percentile(D,95) \n",
    "\n",
    "    ax[2].plot([omegas[0],omegas[-1]], sig99*np.ones(2),'--')\n",
    "    ax[2].plot([omegas[0],omegas[-1]], sig95*np.ones(2),'--')\n",
    "    # plt.arrow(x,y,dx,dy)\n",
    "    #ax[2].arrow(omega_true, 0.2, 0, -0.1, head_width=0.5, head_length=0.1, fc='red', ec='red') \n",
    "    \n",
    "    # run function to find best period\n",
    "    omega_best = omegas[np.argmax(P_LS)]\n",
    "    best_period =  2*np.pi/omega_best\n",
    "    print(\"Best period: %.6f days\"%(best_period))\n",
    "    print(\"Best omega %.4f\"%omega_best)\n",
    "    omega_true = 2*np.pi / true_period\n",
    "    print(\"Ratio of omega_true to omega_fit_LS = %f\"%(omega_true / omega_best))\n",
    "    ax[2].axvline(omega_best, ymax=0.5, ls='--', lw=3, color='orange', label=r'$\\omega_{fit}$')\n",
    "    ax[2].axvline(omega_true, ymax=0.5, ls='-.', lw=3, color='magenta', label=r'$\\omega_{true}$')\n",
    "    \n",
    "    ax[2].legend(fontsize=15)\n",
    "    \n",
    "    # plot phased lightcurve phased using  the LS-best fit period\n",
    "    plot_phased_lc(mjds, mags, magerrs, best_period, None, ax[3], band,2)\n",
    "    \n",
    "    fig.subplots_adjust(hspace=0.3, wspace=0.3)\n",
    "    \n",
    "    if save_plot  :\n",
    "        fname = '../data_products/Fig_2_RRLyr_LS_periodogram_ID_'+str(ID)+'_'+band+source+'.png'\n",
    "        plt.savefig(fname)\n",
    "        print('Figure saved to %s'%fname)\n",
    "        \n"
   ]
  },
  {
   "cell_type": "code",
   "execution_count": 317,
   "metadata": {
    "collapsed": false
   },
   "outputs": [
    {
     "name": "stdout",
     "output_type": "stream",
     "text": [
      "100 loops, best of 3: 18.6 ms per loop\n"
     ]
    }
   ],
   "source": [
    "# TIME IT !!!!\n",
    "\n",
    "%timeit lomb_scargle(t=mjds,y=mags, dy=magerrs, omega=omegas)\n"
   ]
  },
  {
   "cell_type": "markdown",
   "metadata": {},
   "source": [
    "Since with that one lightcurve I see that the periods are not identical, let's test that for all 483 lightcurves in Branimir's sample :"
   ]
  },
  {
   "cell_type": "markdown",
   "metadata": {},
   "source": [
    "[ takes about 10 secs on the mac to run.  For each lightcurve, I run the periodogram on 5000 frequencies spaced from \n",
    "    \n",
    "    0.9 * (smallest_period_in_table_2)  -   1.1 * (longest_period_in_table_2)\n",
    "]"
   ]
  },
  {
   "cell_type": "code",
   "execution_count": 522,
   "metadata": {
    "collapsed": false
   },
   "outputs": [],
   "source": [
    "# check : for how many RR Lyr my  best-fit period is different from Branimir's by more than 10%...\n",
    "\n",
    "# directory with RR Lyr lightcurves \n",
    "DirIn = '../catalogs/RRLyr_S82_Sesar_2010/'\n",
    "address1 = DirIn + 'table1_lightcurves/'\n",
    "lc_names = table2['Num'].data.astype(str)\n",
    "\n",
    "# grab colnames and units for all RR Lyr LC lightcurves  from the readme file....\n",
    "readme = Table.read(address1+'ReadMe', format='ascii')\n",
    "\n",
    "ratios = np.ones_like(lc_names, dtype=float)\n",
    "fit_period  = np.ones_like(lc_names, dtype=float)\n",
    "\n",
    "for i in range(len(lc_names)):  # \n",
    "    \n",
    "    # Pick an RR Lyr, print it's mag,  type, and plot the lightcurve \n",
    "    lc = Table.read(address1+lc_names[i]+'.dat', format='ascii')\n",
    "\n",
    "    # Rename the columns and units for this lightcurve ...\n",
    "    columns = lc.colnames\n",
    "\n",
    "    for j in range(len(columns)):\n",
    "        lc[columns[j]].name = readme.colnames[j]\n",
    "        lc[readme.colnames[j]].unit = readme[readme.colnames[j]].unit\n",
    "\n",
    "    # grab Branimir's period and type for that particular RR Lyr...\n",
    "    true_period = table2['Per'][i]  # in days \n",
    "    rr_type = table2['Type'][i] # string \n",
    "    ID = table2['Num'][i] # int\n",
    "    \n",
    "    omega_true = 2*np.pi / true_period\n",
    "    #print('We picked RR Lyrae ID=%d , type %s, with a period of %.4f days'%(ID,rr_type, period))\n",
    "    #print('True omega = %.4f'%omega_true)\n",
    "    \n",
    "    # Creative guess : since we know that these are RR Lyrae,  \n",
    "    # search on a grid between  the smallest and largest \n",
    "    # possible period... \n",
    "    all_periods = table2['Per'].data\n",
    "    omegas = alt_omega_grid(0.9 * min(all_periods),1.1*max(all_periods), 5000)  \n",
    "\n",
    "    #omegas = freq.frequency_grid(mjds) \n",
    "    \n",
    "    mask = lc[band+'mag'] > 0   # remove all rows missing data...  (the -99.99 rows...)\n",
    "    mjds = lc[band+'mjd'][mask]\n",
    "    mags = lc[band+'mag'][mask]\n",
    "    magerrs = lc[band+'magErr'][mask]\n",
    "    \n",
    "    P_LS = lomb_scargle(t=mjds,y=mags, dy=magerrs, omega=omegas)\n",
    "   \n",
    "    # run function to find best period\n",
    "    omega_best = omegas[np.argmax(P_LS)]\n",
    "    best_period =  2*np.pi/omega_best\n",
    "    fit_period[i] = best_period\n",
    "    \n",
    "    #print(\"Best period: {} days\".format(best_period))\n",
    "    #print(\"Best omega %.4f\"%omega_best)\n",
    "    ratio = omega_true / omega_best\n",
    "    #print('Omega_true / Omega_fit = %f'%ratio)\n",
    "    ratios[i] = ratio\n",
    "\n",
    "# Add a column with these results to master table...\n",
    "\n",
    "r = Column(data=ratios, name='ratio1')\n",
    "p = Column(data=fit_period, name='PerLS_SDSS')\n",
    "master_table.add_columns([r,p])"
   ]
  },
  {
   "cell_type": "code",
   "execution_count": 528,
   "metadata": {
    "collapsed": false
   },
   "outputs": [
    {
     "data": {
      "text/html": [
       "&lt;Row index=59&gt;\n",
       "<table id=\"table4893900872\">\n",
       "<thead><tr><th>i</th><th>RAdeg</th><th>DEdeg</th><th>Num</th><th>Type</th><th>Per</th><th>gmag</th><th>ratio1</th><th>PerLS_SDSS</th></tr></thead>\n",
       "<thead><tr><th></th><th></th><th></th><th></th><th></th><th>d</th><th>mag</th><th></th><th></th></tr></thead>\n",
       "<thead><tr><th>int64</th><th>float64</th><th>float64</th><th>int64</th><th>str2</th><th>float64</th><th>float64</th><th>float64</th><th>float64</th></tr></thead>\n",
       "<tr><td>59</td><td>-12.903479</td><td>0.190685</td><td>470994</td><td>c</td><td>0.346793702163</td><td>18.9930947745</td><td>1.53309283288</td><td>0.531666939274</td></tr>\n",
       "</table>"
      ],
      "text/plain": [
       "<Row index=59>\n",
       "  i     RAdeg     DEdeg    Num   Type      Per            gmag         ratio1      PerLS_SDSS  \n",
       "                                            d             mag                                  \n",
       "int64  float64   float64  int64  str2    float64        float64       float64       float64    \n",
       "----- ---------- -------- ------ ---- -------------- ------------- ------------- --------------\n",
       "   59 -12.903479 0.190685 470994    c 0.346793702163 18.9930947745 1.53309283288 0.531666939274"
      ]
     },
     "execution_count": 528,
     "metadata": {},
     "output_type": "execute_result"
    }
   ],
   "source": [
    "master_table[59]"
   ]
  },
  {
   "cell_type": "code",
   "execution_count": 368,
   "metadata": {
    "collapsed": false,
    "scrolled": false
   },
   "outputs": [
    {
     "data": {
      "image/png": "[encoded data removed]",
      "text/plain": [
       "<matplotlib.figure.Figure at 0x123bdc4e0>"
      ]
     },
     "metadata": {},
     "output_type": "display_data"
    }
   ],
   "source": [
    "# Plot ratio of my calculated omega,  vs  omega from Branimir's table...\n",
    "\n",
    "fig,ax = plt.subplots(1,1,figsize=(8,4))\n",
    "\n",
    "# Using numpy over ax.hist  helps let the center of \n",
    "# the rectangle stay over the bin center, \n",
    "# rather than the bin edge...\n",
    "\n",
    "hist, bin_edges = np.histogram(ratios, bins=np.linspace(0.3,2.1,22\n",
    "                                                       ), density=False)\n",
    "bin_centres = (bin_edges[:-1] + bin_edges[1:])/2\n",
    "hist[0] = 0\n",
    "ax.plot(bin_centres, hist, ls = 'steps', lw=2, color = 'blue')\n",
    "#ax.hist(ratios, bins=40, histtype='step', lw=2)\n",
    "\n",
    "ax.set_xlabel(r'$ \\omega_{true} / \\omega_{LS}$')\n",
    "ax.set_ylabel(r'$N$')\n",
    "ax.set_xlim(0.3,2.0)\n",
    "plt.tight_layout()\n",
    "fname = '../data_products/Fig_3_RRLyr_omega_ratio.png'\n",
    "plt.savefig(fname)"
   ]
  },
  {
   "cell_type": "markdown",
   "metadata": {},
   "source": [
    "Get the demographics:  how many RR Lyrae is in each group... I call  ratio the $\\omega_{true}/ \\omega_{LS}$\n"
   ]
  },
  {
   "cell_type": "code",
   "execution_count": 344,
   "metadata": {
    "collapsed": false
   },
   "outputs": [
    {
     "name": "stdout",
     "output_type": "stream",
     "text": [
      "There are 330 RR Lyrae with ratio < 0.9\n",
      "There are 173 RR Lyrae with |ratio-1.0|<0.1\n",
      "There are 153 RR Lyrae with ratio > 1.1\n"
     ]
    }
   ],
   "source": [
    "print('There are %d RR Lyrae with ratio < 0.9'%np.sum(ratios<1))\n",
    "print('There are %d RR Lyrae with |ratio-1.0|<0.1'%np.sum(np.abs(ratios-1)<0.1))\n",
    "print('There are %d RR Lyrae with ratio > 1.1'%np.sum(ratios>1))"
   ]
  },
  {
   "cell_type": "markdown",
   "metadata": {},
   "source": [
    "Choose one RR Lyr in the 'left' group, and one in the 'right' group (i=1 plotted above already falls in the 'middle' group.)"
   ]
  },
  {
   "cell_type": "code",
   "execution_count": 376,
   "metadata": {
    "collapsed": false
   },
   "outputs": [
    {
     "data": {
      "text/plain": [
       "array([  0,  14,  18,  19,  37,  40,  41,  46,  56,  58,  61,  63,  64,\n",
       "        72,  73,  75,  78,  80,  88,  94, 101, 104, 107, 111, 122, 126,\n",
       "       134, 138, 144, 147, 148, 154, 159, 165, 171, 180, 187, 191, 212,\n",
       "       216, 220, 228, 230, 231, 249, 250, 253, 255, 256, 262, 264, 275,\n",
       "       305, 308, 314, 322, 323, 324, 330, 332, 343, 349, 350, 353, 358,\n",
       "       360, 378, 383, 384, 393, 394, 395, 396, 397, 402, 405, 413, 420,\n",
       "       424, 430, 433, 435, 437, 438, 440, 444, 445, 446, 455, 457, 458,\n",
       "       463, 466, 467, 471, 473, 478])"
      ]
     },
     "execution_count": 376,
     "metadata": {},
     "output_type": "execute_result"
    }
   ],
   "source": [
    "# left group... \n",
    "master_table['i'][ratios<0.6].data"
   ]
  },
  {
   "cell_type": "code",
   "execution_count": 388,
   "metadata": {
    "collapsed": false
   },
   "outputs": [
    {
     "data": {
      "text/plain": [
       "0.43759246501556948"
      ]
     },
     "execution_count": 388,
     "metadata": {},
     "output_type": "execute_result"
    }
   ],
   "source": [
    "ratios[0]"
   ]
  },
  {
   "cell_type": "code",
   "execution_count": 583,
   "metadata": {
    "collapsed": false
   },
   "outputs": [
    {
     "name": "stdout",
     "output_type": "stream",
     "text": [
      "We picked RR Lyrae ID=13350 , type ab, with a period of 0.547987 days\n",
      "True omega = 11.4659\n",
      "We are using PDAC-downloaded lightcurves\n",
      "Best period: 0.547969 days\n",
      "Best omega 11.4663\n",
      "Ratio of omega_true to omega_fit_LS = 0.999967\n",
      "Figure saved to ../data_products/Fig_2_RRLyr_LS_periodogram_ID_13350_gPDAC.png\n"
     ]
    },
    {
     "data": {
      "image/png": "[encoded data removed]",
      "text/plain": [
       "<matplotlib.figure.Figure at 0x115881a20>"
      ]
     },
     "metadata": {},
     "output_type": "display_data"
    }
   ],
   "source": [
    "plot_rr_lyr(i=1, band='g', save_plot=True, source='PDAC')"
   ]
  },
  {
   "cell_type": "code",
   "execution_count": 383,
   "metadata": {
    "collapsed": false
   },
   "outputs": [
    {
     "data": {
      "text/plain": [
       "array([ 33,  43,  44,  59,  74,  89,  97, 114, 131, 133, 136, 141, 168,\n",
       "       177, 182, 207, 209, 214, 217, 223, 242, 244, 246, 258, 276, 280,\n",
       "       284, 327, 346, 357, 359, 370, 372, 375, 380, 392, 398, 411, 418,\n",
       "       450, 454, 462, 468, 482])"
      ]
     },
     "execution_count": 383,
     "metadata": {},
     "output_type": "execute_result"
    }
   ],
   "source": [
    "# right group... \n",
    "master_table['i'][ratios>1.5].data"
   ]
  },
  {
   "cell_type": "code",
   "execution_count": 389,
   "metadata": {
    "collapsed": false
   },
   "outputs": [
    {
     "data": {
      "text/plain": [
       "1.5330928328797033"
      ]
     },
     "execution_count": 389,
     "metadata": {},
     "output_type": "execute_result"
    }
   ],
   "source": [
    "ratios[59]"
   ]
  },
  {
   "cell_type": "code",
   "execution_count": 387,
   "metadata": {
    "collapsed": false
   },
   "outputs": [
    {
     "name": "stdout",
     "output_type": "stream",
     "text": [
      "We picked RR Lyrae ID=470994 , type c, with a period of 0.346794 days\n",
      "True omega = 18.1179\n",
      "Best period: 0.531667 days\n",
      "Best omega 11.8179\n",
      "Figure saved to ../data_products/Fig_2_RRLyr_LS_periodogram_ID_470994_g.png\n"
     ]
    },
    {
     "data": {
      "image/png": "[encoded data removed]",
      "text/plain": [
       "<matplotlib.figure.Figure at 0x118d73b00>"
      ]
     },
     "metadata": {},
     "output_type": "display_data"
    }
   ],
   "source": [
    "plot_rr_lyr(i=59, band='g', save_plot=True)"
   ]
  },
  {
   "cell_type": "code",
   "execution_count": null,
   "metadata": {
    "collapsed": true
   },
   "outputs": [],
   "source": []
  },
  {
   "cell_type": "code",
   "execution_count": null,
   "metadata": {
    "collapsed": true
   },
   "outputs": [],
   "source": []
  },
  {
   "cell_type": "markdown",
   "metadata": {},
   "source": [
    "## Select a few objects, grab data from PDAC, see what results we get..."
   ]
  },
  {
   "cell_type": "code",
   "execution_count": 249,
   "metadata": {
    "collapsed": false
   },
   "outputs": [
    {
     "data": {
      "text/html": [
       "&lt;Table length=5&gt;\n",
       "<table id=\"table4893902104\" class=\"table-striped table-bordered table-condensed\">\n",
       "<thead><tr><th>i</th><th>RAdeg</th><th>DEdeg</th><th>Num</th><th>Type</th><th>Per</th><th>gmag</th></tr></thead>\n",
       "<thead><tr><th></th><th></th><th></th><th></th><th></th><th>d</th><th>mag</th></tr></thead>\n",
       "<thead><tr><th>int64</th><th>float64</th><th>float64</th><th>int64</th><th>str2</th><th>float64</th><th>float64</th></tr></thead>\n",
       "<tr><td>0</td><td>0.935679</td><td>1.115859</td><td>4099</td><td>ab</td><td>0.641754351271</td><td>16.6637400636</td></tr>\n",
       "<tr><td>1</td><td>0.283437</td><td>1.178522</td><td>13350</td><td>ab</td><td>0.547987422171</td><td>16.9886134861</td></tr>\n",
       "<tr><td>2</td><td>3.254658</td><td>-0.584066</td><td>15927</td><td>ab</td><td>0.612262983773</td><td>17.6534916127</td></tr>\n",
       "<tr><td>3</td><td>3.244369</td><td>0.218891</td><td>20406</td><td>ab</td><td>0.631853138777</td><td>15.2059062035</td></tr>\n",
       "<tr><td>4</td><td>4.315354</td><td>1.054582</td><td>21992</td><td>ab</td><td>0.625880355362</td><td>14.3769955855</td></tr>\n",
       "</table>"
      ],
      "text/plain": [
       "<Table length=5>\n",
       "  i    RAdeg     DEdeg    Num  Type      Per            gmag    \n",
       "                                          d             mag     \n",
       "int64 float64   float64  int64 str2    float64        float64   \n",
       "----- -------- --------- ----- ---- -------------- -------------\n",
       "    0 0.935679  1.115859  4099   ab 0.641754351271 16.6637400636\n",
       "    1 0.283437  1.178522 13350   ab 0.547987422171 16.9886134861\n",
       "    2 3.254658 -0.584066 15927   ab 0.612262983773 17.6534916127\n",
       "    3 3.244369  0.218891 20406   ab 0.631853138777 15.2059062035\n",
       "    4 4.315354  1.054582 21992   ab 0.625880355362 14.3769955855"
      ]
     },
     "execution_count": 249,
     "metadata": {},
     "output_type": "execute_result"
    }
   ],
   "source": [
    "master_table[:5]"
   ]
  },
  {
   "cell_type": "markdown",
   "metadata": {},
   "source": []
  },
  {
   "cell_type": "markdown",
   "metadata": {},
   "source": [
    "## Downloading the RR Lyr data from PDAC "
   ]
  },
  {
   "cell_type": "markdown",
   "metadata": {},
   "source": [
    "Very counter-intuitive (why \"separate rows in the table result from the measurements in each band” ?  ) . I am guessing based on the example SQL queries from https://confluence.lsstcorp.org/display/DM/PDAC+sample+queries+and+test+cases#PDACsamplequeriesandtestcases-Forreturningtheflux  rather than anything else, what the columns in Catalogs --> Deep Forced Source mean.  And from \n",
    "\n",
    "\n",
    "    SELECT\n",
    "        objectId,\n",
    "        id,\n",
    "        fsrc.exposure_id,\n",
    "        fsrc.exposure_time_mid,\n",
    "        exp.run,\n",
    "        scisql_dnToFlux(fsrc.flux_psf, exp.fluxMag0) AS tsv_flux,\n",
    "        scisql_dnToFluxSigma(fsrc.flux_psf, fsrc.flux_psf_err, exp.fluxMag0, exp.fluxMag0Sigma) AS tsv_fluxErr\n",
    "    FROM\n",
    "        RunDeepForcedSource AS fsrc,\n",
    "        Science_Ccd_Exposure AS exp\n",
    "    WHERE\n",
    "            exp.scienceCcdExposureId = fsrc.exposure_id\n",
    "        AND fsrc.exposure_filter_id = 1\n",
    "        AND NOT (fsrc.flagPixEdge     | fsrc.flagPixSaturAny |\n",
    "                 fsrc.flagPixSaturCen | fsrc.flagBadApFlux |\n",
    "                 fsrc.flagBadPsfFlux)\n",
    "        AND objectId = 3448068867358968\n",
    "    ORDER BY\n",
    "        exposure_time_mid\n",
    "\n",
    "    \n",
    "which they use to return the flux (\"Computing a calibrated flux requires correcting the observed flux for the photometric zero point.  This requires a join between the RunDeepForcedSource table, for the information about the individual observations, and the Science_Ccd_Exposure table (for a per-visit-image photometric zero point)\".)  , I guess that for RunDeepForcedSource, \n",
    "\n",
    "          exposure_id, exposure_time_mid,  flux_psf,  flux_psf_err   \n",
    "\n",
    "are columns of interest, and that we also need to grab from the exposure table (Science_Ccd_Exposure)\n",
    "      scienceCcdExposureId, run, fluxMag0, fluxMag0Sigma\n",
    "    \n",
    "If we use shorthand notation  \n",
    "\n",
    "      RunDeepForcedSource   == fsrc\n",
    "      Science_Ccd_Exposure ==  exp\n",
    "    \n",
    "then  \n",
    "\n",
    "    fsrc.exposure_id  <==>  exp.scienceCcdExposureId\n",
    "    \n",
    "They choose g-band by restricting  \n",
    "    \n",
    "    fsrc.exposure_filter_id = 1\n",
    "    \n"
   ]
  },
  {
   "cell_type": "markdown",
   "metadata": {},
   "source": [
    "To reproduce the above, but without executing \n",
    "\n",
    "    curl -d 'query=SELECT objectId, id, fsrc.exposure_id, fsrc.exposure_time_mid, exp.run, scisql_dnToFlux(fsrc.flux_psf,exp.fluxMag0) AS tsv_flux, scisql_dnToFluxSigma(fsrc.flux_psf, fsrc.flux_psf_err, exp.fluxMag0, exp.fluxMag0Sigma) AS tsv_fluxErr FROM RunDeepForcedSource AS fsrc, Science_Ccd_Exposure AS exp WHERE exp.scienceCcdExposureId = fsrc.exposure_id AND fsrc.exposure_filter_id=1 AND objectId=3448068867358968 ORDER BY exposure_time_mid' http://lsst-qserv-dax01.ncsa.illinois.edu:5000/db/v0/tap/sync\n",
    "   \n",
    "(by the way, when I execute that I have no idea in what format is my data returned....Is it an IPAC table ? Doesn't look like it ... ) \n",
    "\n",
    "\n",
    "Using the interface very easily becomes cumbersome.  To get calibrated flux, I need to : \n",
    "\n",
    "1) download from Catalog --> Deep Forced Source,  query  with 23.201735,1.029917,  radius 2 arcsec for cone search,   grabbing the above (there is no single id that would be held constant for the same source...)  Even for this narrow cone, I get objectId 2674023418832533  and 2674023418827266 . If I decrease the cone to the smallest allowed value (1 arcsec), I still get the same  two objectId's . \n",
    "\n",
    "Need to also grab  \n",
    "    (fsrc.flagPixEdge     | fsrc.flagPixSaturAny |  fsrc.flagPixSaturCen | fsrc.flagBadApFlux |\n",
    "     fsrc.flagBadPsfFlux)\n",
    "and remove all rows where this is nonzero. \n",
    "\n",
    "\n",
    "Save also the  cols : \n",
    "    \n",
    "    id, objectId,  exposure_filter_id , exposure_id, exposure_time_mid,  flux_psf,  flux_psf_err, \n",
    "    \n",
    "( I would also grab coord_ra  , coord_dec , to show that indeed this is one , and not two, objects...  The SQL query seems to rely on the fact that different objectIds correspond to different objects, but here I get that it is one and the same object....) \n",
    "\n",
    "2) download from Images --> Science CCD Exposure, querying against 23.201735,1.029917  ,  and keeping \n",
    "\n",
    "    run, fluxMag0, fluxMag0Sigma, scienceCcdExposureId\n",
    "    \n",
    "3) Join the two tables on \n",
    "    \n",
    "    fsrc.exposure_id  <==>  exp.scienceCcdExposureId\n",
    "    \n",
    "4) Calculate calibrated flux, fluxErr  using  flux_psf  , flux_psf_err, fluxMag0, fluxMag0Sigma - how is it done ? Tey use some built-in functions \n",
    "\n",
    "    scisql_dnToFlux()  scisql_dnToFluxSigma()\n",
    "    \n",
    "    \n",
    "But I would have to code it from the scratch...."
   ]
  },
  {
   "cell_type": "markdown",
   "metadata": {},
   "source": [
    "much info on the S82 tables is available here:   https://dev.lsstcorp.org/trac/wiki/DC/Winter2013 \n",
    "\n",
    "I looked and looked for these two scisql  functions.... I found github pages that seem to be related to its development : https://github.com/smonkewitz/scisql  https://github.com/lsst/scisql  "
   ]
  },
  {
   "cell_type": "markdown",
   "metadata": {},
   "source": [
    "In essence : very laborious... "
   ]
  },
  {
   "cell_type": "markdown",
   "metadata": {},
   "source": [
    "## Use SQL queries to get the data, and then analyze here: \n",
    "\n"
   ]
  },
  {
   "cell_type": "code",
   "execution_count": 257,
   "metadata": {
    "collapsed": false
   },
   "outputs": [
    {
     "data": {
      "text/html": [
       "&lt;Table length=1&gt;\n",
       "<table id=\"table4921328976\" class=\"table-striped table-bordered table-condensed\">\n",
       "<thead><tr><th>i</th><th>RAdeg</th><th>DEdeg</th><th>Num</th><th>Type</th><th>Per</th><th>gmag</th></tr></thead>\n",
       "<thead><tr><th></th><th></th><th></th><th></th><th></th><th>d</th><th>mag</th></tr></thead>\n",
       "<thead><tr><th>int64</th><th>float64</th><th>float64</th><th>int64</th><th>str2</th><th>float64</th><th>float64</th></tr></thead>\n",
       "<tr><td>112</td><td>23.201735</td><td>1.029917</td><td>1013184</td><td>ab</td><td>0.614318300907</td><td>16.6837837725</td></tr>\n",
       "</table>"
      ],
      "text/plain": [
       "<Table length=1>\n",
       "  i     RAdeg    DEdeg     Num   Type      Per            gmag    \n",
       "                                            d             mag     \n",
       "int64  float64  float64   int64  str2    float64        float64   \n",
       "----- --------- -------- ------- ---- -------------- -------------\n",
       "  112 23.201735 1.029917 1013184   ab 0.614318300907 16.6837837725"
      ]
     },
     "execution_count": 257,
     "metadata": {},
     "output_type": "execute_result"
    }
   ],
   "source": [
    "row = master_table['Num'] == 1013184\n",
    "master_table[row]"
   ]
  },
  {
   "cell_type": "markdown",
   "metadata": {},
   "source": [
    "i=112, RR Lyr ID=1013184, type= ab, period = 0.614318, RA, dec = 23.201735,1.029917, gmag=16.683784"
   ]
  },
  {
   "cell_type": "markdown",
   "metadata": {},
   "source": [
    "### 1) Query RunDeepForcedSource against RA,DEC : find objectIds in the circle "
   ]
  },
  {
   "cell_type": "markdown",
   "metadata": {},
   "source": [
    "1) Query the RunDeepForcedSource to find out what are objectIds within a tiny circle centered on the desired RA, dec  : ( I SELECT objectId  only ,  to make it easier to search the output JSON file for unique values...(\n",
    "  \n",
    "  a) using qserv functions : \n",
    "    \n",
    "    \n",
    "     curl -o catalogCone.json \\\n",
    "                -d 'query=SELECT+objectId+FROM+RunDeepForcedSource+WHERE+qserv_areaspec_circle(23.201735,1.029917,0.00055);' \\\n",
    "                http://lsst-qserv-dax01.ncsa.illinois.edu:5000/db/v0/tap/sync\n",
    "    \n",
    "  \n",
    "   \n",
    "    above, the center RA is 23.201735,  center dec 1.029917 , and the search radius is 2 / 3600 = 0.00055 degrees,\n",
    "    and catalogCone.json  is the json file produced by the query \n",
    "    \n",
    "    \n",
    "    \n",
    "  ( same can be done using scisql functions :\n",
    "   \n",
    "     curl -o catalogCone.json \\\n",
    "                -d     'query=SELECT+objectId+FROM+RunDeepForcedSource+WHERE+scisql_s2PtInCircle(coord_ra,coord_decl,23.201735,1.029917,0.00055)=1;' \\\n",
    "                http://lsst-qserv-dax01.ncsa.illinois.edu:5000/db/v0/tap/sync\n",
    "  )"
   ]
  },
  {
   "cell_type": "markdown",
   "metadata": {},
   "source": [
    "Read the JSON file : \n",
    "    \n",
    "\n",
    "    "
   ]
  },
  {
   "cell_type": "code",
   "execution_count": 534,
   "metadata": {
    "collapsed": false
   },
   "outputs": [],
   "source": [
    "# solution from \n",
    "# https://dzone.com/articles/python-reading-json-file \n",
    "\n",
    "\n",
    "json_file = '../raw_data/catalogCone.json'\n",
    "tab = json.loads(open(json_file).read())\n"
   ]
  },
  {
   "cell_type": "code",
   "execution_count": 535,
   "metadata": {
    "collapsed": false
   },
   "outputs": [
    {
     "data": {
      "text/plain": [
       "dict_keys(['data', 'metadata'])"
      ]
     },
     "execution_count": 535,
     "metadata": {},
     "output_type": "execute_result"
    }
   ],
   "source": [
    "tab['result']['table'].keys()"
   ]
  },
  {
   "cell_type": "code",
   "execution_count": 536,
   "metadata": {
    "collapsed": false
   },
   "outputs": [
    {
     "name": "stdout",
     "output_type": "stream",
     "text": [
      "objectId\n"
     ]
    }
   ],
   "source": [
    "meta = tab['result']['table']['metadata']['elements']\n",
    "\n",
    "for i in range(len(meta)):\n",
    "    print(meta[i]['name'])"
   ]
  },
  {
   "cell_type": "code",
   "execution_count": 538,
   "metadata": {
    "collapsed": false
   },
   "outputs": [
    {
     "data": {
      "text/plain": [
       "array([2674023418827266, 2674023418832533])"
      ]
     },
     "execution_count": 538,
     "metadata": {},
     "output_type": "execute_result"
    }
   ],
   "source": [
    "# find what are the unique objectId's  within this cone search \n",
    "# ravel flattens all the data, since I queried for objectId only... \n",
    "np.unique(np.ravel(tab['result']['table']['data']))"
   ]
  },
  {
   "cell_type": "markdown",
   "metadata": {},
   "source": [
    "### 2) Query RunDeepForcedSource  and Science_Ccd_Exposure given objectIds,  to get calibrated magnitudes"
   ]
  },
  {
   "cell_type": "markdown",
   "metadata": {},
   "source": [
    "2) Query with these objectIds against the RunDeepForcedSource  and Science_Ccd_Exposure   tables,  to get \n",
    "calibrated magnitudes : \n",
    "\n",
    "    SELECT\n",
    "        objectId,\n",
    "        id,\n",
    "        fsrc.exposure_id,\n",
    "        fsrc.exposure_time_mid,\n",
    "        exp.run,\n",
    "        scisql_dnToAbMag(fsrc.flux_psf, exp.fluxMag0) AS g,\n",
    "        scisql_dnToAbMagSigma(fsrc.flux_psf, fsrc.flux_psf_err, exp.fluxMag0, exp.fluxMag0Sigma) AS gErr\n",
    "    FROM\n",
    "        RunDeepForcedSource AS fsrc,\n",
    "        Science_Ccd_Exposure AS exp\n",
    "    WHERE\n",
    "            exp.scienceCcdExposureId = fsrc.exposure_id\n",
    "        AND fsrc.exposure_filter_id = 1\n",
    "        AND NOT (fsrc.flagPixEdge     | fsrc.flagPixSaturAny |\n",
    "                 fsrc.flagPixSaturCen | fsrc.flagBadApFlux |\n",
    "                 fsrc.flagBadPsfFlux)\n",
    "        AND objectId IN (2674023418827266,2674023418832533)\n",
    "    ORDER BY\n",
    "        exposure_time_mid\n"
   ]
  },
  {
   "cell_type": "markdown",
   "metadata": {},
   "source": [
    "To the first line of curl  expression, I add -o catalogCone.json  , before -d,   to output to a file : "
   ]
  },
  {
   "cell_type": "code",
   "execution_count": null,
   "metadata": {
    "collapsed": true
   },
   "outputs": [],
   "source": []
  },
  {
   "cell_type": "markdown",
   "metadata": {},
   "source": [
    "    curl -o catalogForced.json -d 'query=SELECT objectId, id, fsrc.exposure_id, fsrc.exposure_time_mid, exp.run, scisql_dnToAbMag(fsrc.flux_psf,exp.fluxMag0) AS g, scisql_dnToAbMagSigma(fsrc.flux_psf, fsrc.flux_psf_err, exp.fluxMag0, exp.fluxMag0Sigma) AS gErr FROM RunDeepForcedSource AS fsrc, Science_Ccd_Exposure AS exp WHERE exp.scienceCcdExposureId = fsrc.exposure_id AND fsrc.exposure_filter_id=1 AND objectId IN (2674023418827266, 2674023418832533) ORDER BY exposure_time_mid' http://lsst-qserv-dax01.ncsa.illinois.edu:5000/db/v0/tap/sync"
   ]
  },
  {
   "cell_type": "markdown",
   "metadata": {},
   "source": [
    "Read the output : "
   ]
  },
  {
   "cell_type": "code",
   "execution_count": 539,
   "metadata": {
    "collapsed": true
   },
   "outputs": [],
   "source": [
    "json_file= '../raw_data/catalogForced.json'\n",
    "tab = json.loads(open(json_file).read())\n",
    "\n",
    "print(tab['result']['table'].keys())\n",
    "print(tab['result']['table']['metadata']['elements'])\n",
    "\n",
    "meta = tab['result']['table']['metadata']['elements']\n",
    "data = tab['result']['table']['data']\n",
    "dataT = np.transpose(data)\n",
    "\n",
    "\n",
    "\n",
    "t = Table()\n",
    "\n",
    "# iterate over columns...\n",
    "for i in range(len(dataT)):\n",
    "    t.add_column(Column(dataT[i], name=meta[i]['name']), index=0)"
   ]
  },
  {
   "cell_type": "code",
   "execution_count": 546,
   "metadata": {
    "collapsed": false
   },
   "outputs": [
    {
     "data": {
      "text/html": [
       "&lt;Column name=&apos;objectId&apos; dtype=&apos;int64&apos; length=2&gt;\n",
       "<table>\n",
       "<tr><td>2674023418827266</td></tr>\n",
       "<tr><td>2674023418832533</td></tr>\n",
       "</table>"
      ],
      "text/plain": [
       "<Column name='objectId' dtype='int64' length=2>\n",
       "2674023418827266\n",
       "2674023418832533"
      ]
     },
     "execution_count": 546,
     "metadata": {},
     "output_type": "execute_result"
    }
   ],
   "source": [
    "# pull only those epochs where we have an existing measurement \n",
    "\n",
    "mask = np.isfinite(t['g'].data.astype(float))\n",
    "\n",
    "# show that indeed all info is stored correctly, and indeed we have been able to grab photometry \n",
    "# for the same object, but with two different objectId's..\n",
    "np.unique(t[mask]['objectId'].astype(int))"
   ]
  },
  {
   "cell_type": "code",
   "execution_count": 547,
   "metadata": {
    "collapsed": false
   },
   "outputs": [
    {
     "data": {
      "text/html": [
       "&lt;Table length=5&gt;\n",
       "<table id=\"table4813165064\" class=\"table-striped table-bordered table-condensed\">\n",
       "<thead><tr><th>gErr</th><th>g</th><th>run</th><th>exposure_time_mid</th><th>exposure_id</th><th>id</th><th>objectId</th></tr></thead>\n",
       "<thead><tr><th>float64</th><th>float64</th><th>float64</th><th>float64</th><th>float64</th><th>float64</th><th>float64</th></tr></thead>\n",
       "<tr><td>0.0180446796993</td><td>17.0486095197</td><td>1755.0</td><td>51819.4209479</td><td>1755160531.0</td><td>1.17786829373e+17</td><td>2.67402341883e+15</td></tr>\n",
       "<tr><td>0.0180446317532</td><td>17.0483672826</td><td>1755.0</td><td>51819.4209479</td><td>1755160531.0</td><td>1.17786829373e+17</td><td>2.67402341883e+15</td></tr>\n",
       "<tr><td>0.0171980667495</td><td>17.5825166235</td><td>2886.0</td><td>52288.0801157</td><td>2886160064.0</td><td>1.93686923217e+17</td><td>2.67402341883e+15</td></tr>\n",
       "<tr><td>0.017198059783</td><td>17.582496621</td><td>2886.0</td><td>52288.0801157</td><td>2886160064.0</td><td>1.93686923217e+17</td><td>2.67402341883e+15</td></tr>\n",
       "<tr><td>0.0349384939406</td><td>17.2265218177</td><td>3325.0</td><td>52522.3823283</td><td>3325160263.0</td><td>2.23147727868e+17</td><td>2.67402341883e+15</td></tr>\n",
       "</table>"
      ],
      "text/plain": [
       "<Table length=5>\n",
       "      gErr            g         run   ...         id             objectId    \n",
       "    float64        float64    float64 ...      float64           float64     \n",
       "--------------- ------------- ------- ... ----------------- -----------------\n",
       "0.0180446796993 17.0486095197  1755.0 ... 1.17786829373e+17 2.67402341883e+15\n",
       "0.0180446317532 17.0483672826  1755.0 ... 1.17786829373e+17 2.67402341883e+15\n",
       "0.0171980667495 17.5825166235  2886.0 ... 1.93686923217e+17 2.67402341883e+15\n",
       " 0.017198059783  17.582496621  2886.0 ... 1.93686923217e+17 2.67402341883e+15\n",
       "0.0349384939406 17.2265218177  3325.0 ... 2.23147727868e+17 2.67402341883e+15"
      ]
     },
     "execution_count": 547,
     "metadata": {},
     "output_type": "execute_result"
    }
   ],
   "source": [
    "t[:5]"
   ]
  },
  {
   "cell_type": "markdown",
   "metadata": {},
   "source": [
    "Plot raw g-band data from PDAC  for RR Lyr ID = 1013184 : "
   ]
  },
  {
   "cell_type": "code",
   "execution_count": 548,
   "metadata": {
    "collapsed": false
   },
   "outputs": [
    {
     "data": {
      "image/png": "[encoded data removed]",
      "text/plain": [
       "<matplotlib.figure.Figure at 0x11ee317b8>"
      ]
     },
     "metadata": {},
     "output_type": "display_data"
    }
   ],
   "source": [
    "\n",
    "fig,ax = plt.subplots()\n",
    "plot_data(t['exposure_time_mid'], t['g'], t['gErr'], ax)\n"
   ]
  },
  {
   "cell_type": "markdown",
   "metadata": {},
   "source": [
    "#### Fold the PDAC g-band data on the period from Sesar+2010 : "
   ]
  },
  {
   "cell_type": "code",
   "execution_count": 549,
   "metadata": {
    "collapsed": false
   },
   "outputs": [
    {
     "data": {
      "image/png": "[encoded data removed]",
      "text/plain": [
       "<matplotlib.figure.Figure at 0x11ef1ca58>"
      ]
     },
     "metadata": {},
     "output_type": "display_data"
    }
   ],
   "source": [
    "\n",
    "fig,ax = plt.subplots()\n",
    "plot_phased_lc(t['exposure_time_mid'], t['g'], t['gErr'], 0.614318, t0=None, ax = ax, band='')"
   ]
  },
  {
   "cell_type": "markdown",
   "metadata": {},
   "source": [
    "#### Plot the Sesar+2010 S82 data : raw and folded "
   ]
  },
  {
   "cell_type": "code",
   "execution_count": 531,
   "metadata": {
    "collapsed": false
   },
   "outputs": [
    {
     "name": "stdout",
     "output_type": "stream",
     "text": [
      "We picked RR Lyrae ID=1013184 , type ab, with a period of 0.614318 days\n",
      "True omega = 10.2279\n",
      "Best period: 0.614323034801143 days\n",
      "Best omega 10.2278\n"
     ]
    },
    {
     "data": {
      "image/png": "[encoded data removed]",
      "text/plain": [
       "<matplotlib.figure.Figure at 0x11fd69b70>"
      ]
     },
     "metadata": {},
     "output_type": "display_data"
    }
   ],
   "source": [
    "plot_rr_lyr(i=0, band='g')"
   ]
  },
  {
   "cell_type": "markdown",
   "metadata": {},
   "source": [
    "### Compare against NASA Exoplanet Archive "
   ]
  },
  {
   "cell_type": "markdown",
   "metadata": {},
   "source": [
    "To use the Exoplanet Archive , I need a clean  mjd,mag,magerr lightcurve with no bad data.  Thus I take a few lightcurves from Branimir's  sample, and split them into separate files, each having one band, removing the bad data (-99.99 rows).\n",
    "\n"
   ]
  },
  {
   "cell_type": "code",
   "execution_count": 254,
   "metadata": {
    "collapsed": false
   },
   "outputs": [
    {
     "name": "stdout",
     "output_type": "stream",
     "text": [
      "\n",
      "For RR Lyr ID=4099, type= ab, period = 0.641754, RA, dec = 0.935679,1.115859, gmag=16.663740\n",
      "       For ID=4099, in u band we removed 20 bad rows\n",
      "       For ID=4099, in g band we removed 5 bad rows\n",
      "       For ID=4099, in r band we removed 1 bad rows\n",
      "       For ID=4099, in i band we removed 2 bad rows\n",
      "       For ID=4099, in z band we removed 8 bad rows\n",
      "\n",
      "For RR Lyr ID=13350, type= ab, period = 0.547987, RA, dec = 0.283437,1.178522, gmag=16.988613\n",
      "       For ID=13350, in u band we removed 3 bad rows\n",
      "       For ID=13350, in g band we removed 7 bad rows\n",
      "       For ID=13350, in r band we removed 2 bad rows\n",
      "       For ID=13350, in i band we removed 4 bad rows\n",
      "       For ID=13350, in z band we removed 5 bad rows\n",
      "\n",
      "For RR Lyr ID=15927, type= ab, period = 0.612263, RA, dec = 3.254658,-0.584066, gmag=17.653492\n",
      "       For ID=15927, in u band we removed 13 bad rows\n",
      "       For ID=15927, in g band we removed 3 bad rows\n",
      "       For ID=15927, in r band we removed 2 bad rows\n",
      "       For ID=15927, in i band we removed 2 bad rows\n",
      "       For ID=15927, in z band we removed 4 bad rows\n",
      "\n",
      "For RR Lyr ID=20406, type= ab, period = 0.631853, RA, dec = 3.244369,0.218891, gmag=15.205906\n",
      "       For ID=20406, in u band we removed 8 bad rows\n",
      "       For ID=20406, in g band we removed 6 bad rows\n",
      "       For ID=20406, in r band we removed 2 bad rows\n",
      "       For ID=20406, in i band we removed 5 bad rows\n",
      "       For ID=20406, in z band we removed 7 bad rows\n",
      "\n",
      "For RR Lyr ID=21992, type= ab, period = 0.625880, RA, dec = 4.315354,1.054582, gmag=14.376996\n",
      "       For ID=21992, in u band we removed 6 bad rows\n",
      "       For ID=21992, in g band we removed 4 bad rows\n",
      "       For ID=21992, in r band we removed 3 bad rows\n",
      "       For ID=21992, in i band we removed 5 bad rows\n",
      "       For ID=21992, in z band we removed 7 bad rows\n",
      "Cleared lightcurves, split into bands, removing \"-99.99 points\", saved to ../raw_data/RRLyr_S82_Sesar_2010_LC/\n"
     ]
    }
   ],
   "source": [
    "\n",
    "\n",
    "\n",
    "# Read in a particular RR Lyr...\n",
    "lc_names = table2['Num'].data.astype(str)\n",
    "\n",
    "for i in range(5) : \n",
    "\n",
    "    lc = Table.read(address1+lc_names[i]+'.dat', format='ascii')\n",
    "\n",
    "    # Grab the colnames and units from the \n",
    "    # Readme file...\n",
    "    columns = lc.colnames\n",
    "\n",
    "    for j in range(len(columns)):\n",
    "        lc[columns[j]].name = readme.colnames[j]\n",
    "        lc[readme.colnames[j]].unit = readme[readme.colnames[j]].unit\n",
    "\n",
    "    # Display some info about this particular RR Lyr ...\n",
    "    print('\\nFor RR Lyr ID=%d, type= %s, period = %f, RA, dec = %f,%f, gmag=%f'%(master_table[i]['Num'],\n",
    "                                                                             master_table[i]['Type'],\n",
    "                                                                             master_table[i]['Per'],\n",
    "                                                                             master_table[i]['RAdeg'], \n",
    "                                                                             master_table[i]['DEdeg'],\n",
    "                                                                             master_table[i]['gmag']))\n",
    "    # Save the lightcurve in a given band 'cleared' on the -99  measurements( which indicate a lack of measurement...)\n",
    "    # name:  RRLyrID_band.dat\n",
    "    for band in 'ugriz':\n",
    "        good_rows = lc[band+'mag'].data != -99.99\n",
    "        print('       For ID=%d, in %s band we removed %d bad rows'%(master_table[i]['Num'],band,np.sum(~good_rows)))\n",
    "        mjd = lc[band+'mjd'][good_rows]\n",
    "        mag = lc[band+'mag'][good_rows]\n",
    "        magerr = lc[band+'magErr'][good_rows]\n",
    "\n",
    "        data = np.column_stack((mjd,mag,magerr))\n",
    "        DirOut = '../raw_data/RRLyr_S82_Sesar_2010_LC/'\n",
    "        fname = str(lc_names[i])+'_'+band+'.txt'\n",
    "        # formatting keeps the original accuracy of MJD, and photometry \n",
    "        np.savetxt(DirOut+fname, data, fmt='%10.6f %10.3f %10.3f')\n",
    "\n",
    "print('Cleared lightcurves, split into bands, removing \"-99.99 points\", saved to %s' % DirOut)"
   ]
  },
  {
   "cell_type": "markdown",
   "metadata": {},
   "source": [
    "Focus on the object that I got from PDAC : "
   ]
  },
  {
   "cell_type": "markdown",
   "metadata": {
    "collapsed": true
   },
   "source": [
    "Do the same object with Exoplanet Archive... ( I set min period=0.254146, max period =0.907497 [days]). I upload the cleaned g-magnitude lightcurve : \n",
    "\n",
    "    '../raw_data/RRLyr_S82_Sesar_2010_LC/1013184_g.txt' "
   ]
  },
  {
   "cell_type": "markdown",
   "metadata": {
    "collapsed": true
   },
   "source": [
    "email of Feb 17, 2017, from Zeljko : \n",
    "    \n",
    "  \"when you run periodogram for a few stars, could you please also\n",
    "try this service and compare to your independent results:\n",
    "http://exoplanetarchive.ipac.caltech.edu/cgi-bin/Pgram/nph-pgram\n",
    "\n",
    "In addition to comparing periods (or the whole periodograms), it’d\n",
    "be great to have a statement about the compute speed.\n",
    "\n",
    "   Z.\"\""
   ]
  },
  {
   "cell_type": "markdown",
   "metadata": {},
   "source": [
    "In Exoplanet Archive, I use these as the lower / upper bounds on periods to search   (same as when I am using AstroML periodogram...)"
   ]
  },
  {
   "cell_type": "code",
   "execution_count": 146,
   "metadata": {
    "collapsed": false
   },
   "outputs": [
    {
     "name": "stdout",
     "output_type": "stream",
     "text": [
      "min period=0.228731, max period =0.998246 [days]\n"
     ]
    }
   ],
   "source": [
    "print('min period=%f, max period =%f [days]'%(0.9*min(all_periods), 1.1*max(all_periods)))\n",
    "\n"
   ]
  },
  {
   "cell_type": "markdown",
   "metadata": {
    "collapsed": true
   },
   "source": [
    "    --> uploading tiniest file takes ~10 secs\n",
    "    --> entering min and max periods,  choosing 'Lomb Scargle' and 'Fixed Frequency', I get step size of 0.0001678 \n",
    "    --> calculating takes ~15 secs "
   ]
  },
  {
   "cell_type": "markdown",
   "metadata": {
    "collapsed": true
   },
   "source": [
    "Best Period (Rank1) : 0.614320  ( I saved the periodogram file in ../data_products/Exoplanet...) \n",
    "    \n",
    "        \\\n",
    "    \\ Periodogram Table of Peaks File\n",
    "    \\\n",
    "    \\ Input File=1013184_g.txt\n",
    "    \\ Time Column=col1\n",
    "    \\ Data Column=col2\n",
    "    \\ Algorithm=ls\n",
    "    \\ Min Period=0.254146\n",
    "    \\ Max Period=0.907497\n",
    "    \\ Step Method=fixedf\n",
    "    \\ Fixed Step Size=0.000168\n",
    "    \\ Number of Peaks=50\n",
    "    \\ Peak Significant Threshold=1.000000\n",
    "    \\ NSamplesForStat=16883\n",
    "    \\\n",
    "    |Peak |Period              |Power               |Frequency           |SDE                 |\n",
    "    |int  |double              |double              |double              |double              |\n",
    "     1     0.6143195866         19.7613657201        1.6278172173         19.7613657201     \n",
    "\n",
    "<img src=\"figures/1013184_g_periodogram.png\" width=500>"
   ]
  },
  {
   "cell_type": "markdown",
   "metadata": {},
   "source": [
    "## Do the same for another RA, dec ... \n"
   ]
  },
  {
   "cell_type": "markdown",
   "metadata": {},
   "source": [
    "i=1, RR Lyr ID=1019544, type= ab, period = 0.622447, RA, dec = -23.690417,-0.104992, gmag=15.410343"
   ]
  },
  {
   "cell_type": "markdown",
   "metadata": {},
   "source": [
    "... and make it automatic! "
   ]
  },
  {
   "cell_type": "markdown",
   "metadata": {},
   "source": [
    "Pipeline : \n",
    "    * query RunDeepForcedSource Table in cone search qserv_areaspec_circle(ra,dec, search_radius_degrees)\n",
    "    * identify unique objectId in this circle\n",
    "    * query RunDeepForcedSource and Science_Ccd_Exposure  to get AB magnitudes"
   ]
  },
  {
   "cell_type": "markdown",
   "metadata": {},
   "source": [
    "First, do for one object : "
   ]
  },
  {
   "cell_type": "code",
   "execution_count": 258,
   "metadata": {
    "collapsed": false
   },
   "outputs": [
    {
     "data": {
      "text/html": [
       "&lt;Row index=0&gt;\n",
       "<table id=\"table4893900872\">\n",
       "<thead><tr><th>i</th><th>RAdeg</th><th>DEdeg</th><th>Num</th><th>Type</th><th>Per</th><th>gmag</th></tr></thead>\n",
       "<thead><tr><th></th><th></th><th></th><th></th><th></th><th>d</th><th>mag</th></tr></thead>\n",
       "<thead><tr><th>int64</th><th>float64</th><th>float64</th><th>int64</th><th>str2</th><th>float64</th><th>float64</th></tr></thead>\n",
       "<tr><td>0</td><td>0.935679</td><td>1.115859</td><td>4099</td><td>ab</td><td>0.641754351271</td><td>16.6637400636</td></tr>\n",
       "</table>"
      ],
      "text/plain": [
       "<Row index=0>\n",
       "  i    RAdeg    DEdeg    Num  Type      Per            gmag    \n",
       "                                         d             mag     \n",
       "int64 float64  float64  int64 str2    float64        float64   \n",
       "----- -------- -------- ----- ---- -------------- -------------\n",
       "    0 0.935679 1.115859  4099   ab 0.641754351271 16.6637400636"
      ]
     },
     "execution_count": 258,
     "metadata": {},
     "output_type": "execute_result"
    }
   ],
   "source": [
    "import subprocess\n",
    "#https://pymotw.com/3/subprocess/\n",
    "# http://stackoverflow.com/questions/3729366/custom-standard-input-for-python-subprocess\n",
    "\n",
    "master_table[0]"
   ]
  },
  {
   "cell_type": "code",
   "execution_count": 259,
   "metadata": {
    "collapsed": false
   },
   "outputs": [],
   "source": [
    "i=0\n",
    "ra_deg = str(master_table[i]['RAdeg'])\n",
    "dec_deg = str(master_table[i]['DEdeg'])\n",
    "search_radius_deg = str(2/3600.0)[:9]\n",
    "\n",
    "# query against that object... \n",
    "cmd = \"curl -o ../raw_data/PDAC_cone_search_results/catalogCone\"+str(i)+\".json \\\n",
    "                -d 'query=SELECT+objectId+FROM+RunDeepForcedSource+WHERE+qserv_areaspec_circle(\"\\\n",
    "                +ra_deg+\",\"+dec_deg+\",\"+search_radius_deg+\");' \\\n",
    "                http://lsst-qserv-dax01.ncsa.illinois.edu:5000/db/v0/tap/sync\"\n",
    "completed = subprocess.run(cmd, shell=True, stdout=subprocess.PIPE)"
   ]
  },
  {
   "cell_type": "code",
   "execution_count": 260,
   "metadata": {
    "collapsed": false
   },
   "outputs": [
    {
     "name": "stdout",
     "output_type": "stream",
     "text": [
      "In this query, we recover objectId :  \n",
      "(3562429887808969, 3562429887812663)\n"
     ]
    }
   ],
   "source": [
    "# find unique IDs\n",
    "json_file = '../raw_data/PDAC_cone_search_results/catalogCone'+str(i)+'.json'\n",
    "tab = json.loads(open(json_file).read())\n",
    "objectIds = tuple(np.unique(np.ravel(tab['result']['table']['data'])))\n",
    "print('In this query, we recover objectId :  ')\n",
    "print(objectIds)\n",
    "ids = str(objectIds)"
   ]
  },
  {
   "cell_type": "code",
   "execution_count": 261,
   "metadata": {
    "collapsed": true
   },
   "outputs": [],
   "source": [
    "# query against these ids \n",
    "cmd = \" curl -o ../raw_data/PDAC_forced_phot_results/catalogForced\"+str(i)+\".json -d 'query=\\\n",
    "        SELECT \\\n",
    "            objectId, id, fsrc.exposure_id, fsrc.exposure_time_mid, exp.run, \\\n",
    "            scisql_dnToAbMag(fsrc.flux_psf,exp.fluxMag0) AS g, \\\n",
    "            scisql_dnToAbMagSigma(fsrc.flux_psf, fsrc.flux_psf_err, exp.fluxMag0, exp.fluxMag0Sigma) AS gErr \\\n",
    "        FROM \\\n",
    "            RunDeepForcedSource AS fsrc, \\\n",
    "            Science_Ccd_Exposure AS exp \\\n",
    "        WHERE \\\n",
    "            exp.scienceCcdExposureId = fsrc.exposure_id \\\n",
    "            AND fsrc.exposure_filter_id=1 \\\n",
    "            AND objectId IN \"+ids+\" \\\n",
    "        ORDER BY exposure_time_mid' http://lsst-qserv-dax01.ncsa.illinois.edu:5000/db/v0/tap/sync\"\n",
    "completed = subprocess.run(cmd, shell=True)\n",
    "\n",
    "# NOTE  : exposure_filter_id  is where we choose which filter to use \n",
    "# u = 0\n",
    "# g = 1 \n",
    "# r = 2\n",
    "# i = 3\n",
    "# z = 4"
   ]
  },
  {
   "cell_type": "code",
   "execution_count": 263,
   "metadata": {
    "collapsed": false
   },
   "outputs": [],
   "source": [
    "json_file= '../raw_data/PDAC_forced_phot_results/catalogForced'+str(i)+'.json'\n",
    "tab = json.loads(open(json_file).read())\n",
    "\n",
    "#print(tab['result']['table'].keys())\n",
    "#print(tab['result']['table']['metadata']['elements'])\n",
    "\n",
    "meta = tab['result']['table']['metadata']['elements']\n",
    "data = tab['result']['table']['data']\n",
    "dataT = np.transpose(data)\n",
    "\n",
    "t = Table()\n",
    "\n",
    "# iterate over columns...\n",
    "for i in range(len(dataT)):\n",
    "    t.add_column(Column(dataT[i], name=meta[i]['name']), index=0)\n",
    "    \n",
    "# Save that as a txt file...\n",
    "fname = '../raw_data/RRLyr_S82_PDAC/'+str(master_table['Num'][i])+'_'+str(i)+'_g.txt'\n",
    "t.write(fname, format='ascii', overwrite='True')"
   ]
  },
  {
   "cell_type": "markdown",
   "metadata": {},
   "source": [
    "Second, wrap and do for all objects..."
   ]
  },
  {
   "cell_type": "code",
   "execution_count": 269,
   "metadata": {
    "collapsed": false
   },
   "outputs": [
    {
     "data": {
      "text/plain": [
       "483"
      ]
     },
     "execution_count": 269,
     "metadata": {},
     "output_type": "execute_result"
    }
   ],
   "source": [
    "len(lc_names)"
   ]
  },
  {
   "cell_type": "code",
   "execution_count": 598,
   "metadata": {
    "collapsed": false
   },
   "outputs": [
    {
     "name": "stdout",
     "output_type": "stream",
     "text": [
      "Querying for i=453, i.e. RR Lyr ID= 4344245\n"
     ]
    }
   ],
   "source": [
    "print('Querying for i=%d, i.e. RR Lyr ID= %s'%(i, lc_names[i]))\n",
    "\n",
    "# to store which objectIds corresponded to which RR Lyr... \n",
    "objectIds_per_i = {}\n",
    "query_time_per_i = {}\n",
    "calc_time_per_i = {}"
   ]
  },
  {
   "cell_type": "code",
   "execution_count": 595,
   "metadata": {
    "collapsed": false
   },
   "outputs": [],
   "source": [
    "import timeit"
   ]
  },
  {
   "cell_type": "code",
   "execution_count": 600,
   "metadata": {
    "collapsed": false
   },
   "outputs": [
    {
     "name": "stdout",
     "output_type": "stream",
     "text": [
      "Querying for i=447, i.e. RR Lyr ID= 4130096\n",
      "In this query, we recover objectId :  \n",
      "(3307339968946269,)\n",
      "Querying took 11.534039 seconds\n",
      "Querying for i=448, i.e. RR Lyr ID= 4133965\n",
      "In this query, we recover objectId :  \n",
      "(3342522193543835, 3342522193548573)\n",
      "Querying took 14.817155 seconds\n",
      "Querying for i=449, i.e. RR Lyr ID= 4150624\n",
      "In this query, we recover objectId :  \n",
      "(3386506953624644, 3386506953627658)\n",
      "Querying took 13.237209 seconds\n",
      "Querying for i=450, i.e. RR Lyr ID= 4152720\n",
      "In this query, we recover objectId :  \n",
      "()\n",
      "Skipping this query - no objects found within 2 arcsec! \n",
      "Querying for i=451, i.e. RR Lyr ID= 4301093\n",
      "In this query, we recover objectId :  \n",
      "()\n",
      "Skipping this query - no objects found within 2 arcsec! \n",
      "Querying for i=452, i.e. RR Lyr ID= 4320005\n",
      "In this query, we recover objectId :  \n",
      "()\n",
      "Skipping this query - no objects found within 2 arcsec! \n",
      "Querying for i=453, i.e. RR Lyr ID= 4344245\n",
      "In this query, we recover objectId :  \n",
      "()\n",
      "Skipping this query - no objects found within 2 arcsec! \n",
      "Querying for i=454, i.e. RR Lyr ID= 4383295\n",
      "In this query, we recover objectId :  \n",
      "()\n",
      "Skipping this query - no objects found within 2 arcsec! \n",
      "Querying for i=455, i.e. RR Lyr ID= 4397821\n",
      "In this query, we recover objectId :  \n",
      "()\n",
      "Skipping this query - no objects found within 2 arcsec! \n",
      "Querying for i=456, i.e. RR Lyr ID= 4409020\n",
      "In this query, we recover objectId :  \n",
      "()\n",
      "Skipping this query - no objects found within 2 arcsec! \n",
      "Querying for i=457, i.e. RR Lyr ID= 4430769\n",
      "In this query, we recover objectId :  \n",
      "()\n",
      "Skipping this query - no objects found within 2 arcsec! \n",
      "Querying for i=458, i.e. RR Lyr ID= 4442518\n",
      "In this query, we recover objectId :  \n",
      "()\n",
      "Skipping this query - no objects found within 2 arcsec! \n",
      "Querying for i=459, i.e. RR Lyr ID= 4455741\n",
      "In this query, we recover objectId :  \n",
      "()\n",
      "Skipping this query - no objects found within 2 arcsec! \n",
      "Querying for i=460, i.e. RR Lyr ID= 4514429\n",
      "In this query, we recover objectId :  \n",
      "()\n",
      "Skipping this query - no objects found within 2 arcsec! \n",
      "Querying for i=461, i.e. RR Lyr ID= 4583407\n",
      "In this query, we recover objectId :  \n",
      "()\n",
      "Skipping this query - no objects found within 2 arcsec! \n",
      "Querying for i=462, i.e. RR Lyr ID= 4614863\n",
      "In this query, we recover objectId :  \n",
      "()\n",
      "Skipping this query - no objects found within 2 arcsec! \n",
      "Querying for i=463, i.e. RR Lyr ID= 4699038\n",
      "In this query, we recover objectId :  \n",
      "()\n",
      "Skipping this query - no objects found within 2 arcsec! \n",
      "Querying for i=464, i.e. RR Lyr ID= 4699278\n",
      "In this query, we recover objectId :  \n",
      "()\n",
      "Skipping this query - no objects found within 2 arcsec! \n",
      "Querying for i=465, i.e. RR Lyr ID= 4831704\n",
      "In this query, we recover objectId :  \n",
      "()\n",
      "Skipping this query - no objects found within 2 arcsec! \n",
      "Querying for i=466, i.e. RR Lyr ID= 4839757\n",
      "In this query, we recover objectId :  \n",
      "()\n",
      "Skipping this query - no objects found within 2 arcsec! \n",
      "Querying for i=467, i.e. RR Lyr ID= 4843792\n",
      "In this query, we recover objectId :  \n",
      "()\n",
      "Skipping this query - no objects found within 2 arcsec! \n",
      "Querying for i=468, i.e. RR Lyr ID= 4873252\n",
      "In this query, we recover objectId :  \n",
      "()\n",
      "Skipping this query - no objects found within 2 arcsec! \n",
      "Querying for i=469, i.e. RR Lyr ID= 4898715\n",
      "In this query, we recover objectId :  \n",
      "()\n",
      "Skipping this query - no objects found within 2 arcsec! \n",
      "Querying for i=470, i.e. RR Lyr ID= 4918277\n",
      "In this query, we recover objectId :  \n",
      "()\n",
      "Skipping this query - no objects found within 2 arcsec! \n",
      "Querying for i=471, i.e. RR Lyr ID= 4920018\n",
      "In this query, we recover objectId :  \n",
      "()\n",
      "Skipping this query - no objects found within 2 arcsec! \n",
      "Querying for i=472, i.e. RR Lyr ID= 4937322\n",
      "In this query, we recover objectId :  \n",
      "()\n",
      "Skipping this query - no objects found within 2 arcsec! \n",
      "Querying for i=473, i.e. RR Lyr ID= 4947744\n",
      "In this query, we recover objectId :  \n",
      "()\n",
      "Skipping this query - no objects found within 2 arcsec! \n",
      "Querying for i=474, i.e. RR Lyr ID= 4948742\n",
      "In this query, we recover objectId :  \n",
      "()\n",
      "Skipping this query - no objects found within 2 arcsec! \n",
      "Querying for i=475, i.e. RR Lyr ID= 4950238\n",
      "In this query, we recover objectId :  \n",
      "()\n",
      "Skipping this query - no objects found within 2 arcsec! \n",
      "Querying for i=476, i.e. RR Lyr ID= 4954954\n",
      "In this query, we recover objectId :  \n",
      "()\n",
      "Skipping this query - no objects found within 2 arcsec! \n",
      "Querying for i=477, i.e. RR Lyr ID= 4956438\n",
      "In this query, we recover objectId :  \n",
      "()\n",
      "Skipping this query - no objects found within 2 arcsec! \n",
      "Querying for i=478, i.e. RR Lyr ID= 4956681\n",
      "In this query, we recover objectId :  \n",
      "()\n",
      "Skipping this query - no objects found within 2 arcsec! \n",
      "Querying for i=479, i.e. RR Lyr ID= 4983075\n",
      "In this query, we recover objectId :  \n",
      "()\n",
      "Skipping this query - no objects found within 2 arcsec! \n",
      "Querying for i=480, i.e. RR Lyr ID= 4984662\n",
      "In this query, we recover objectId :  \n",
      "()\n",
      "Skipping this query - no objects found within 2 arcsec! \n",
      "Querying for i=481, i.e. RR Lyr ID= 4992418\n",
      "In this query, we recover objectId :  \n",
      "()\n",
      "Skipping this query - no objects found within 2 arcsec! \n",
      "Querying for i=482, i.e. RR Lyr ID= 5011634\n",
      "In this query, we recover objectId :  \n",
      "()\n",
      "Skipping this query - no objects found within 2 arcsec! \n"
     ]
    }
   ],
   "source": [
    "\n",
    "for i in range(447,len(lc_names)):\n",
    "    print('Querying for i=%d, i.e. RR Lyr ID= %s'%(i, lc_names[i]))\n",
    "    start1 = timeit.default_timer()\n",
    "    ra_deg = str(master_table[i]['RAdeg'])\n",
    "    dec_deg = str(master_table[i]['DEdeg'])\n",
    "    search_radius_deg = str(2/3600.0)[:9]\n",
    "\n",
    "    # query against that object... \n",
    "    cmd = \"curl -o ../raw_data/PDAC_cone_search_results/catalogCone\"+str(i)+\".json \\\n",
    "                    -d 'query=SELECT+objectId+FROM+RunDeepForcedSource+WHERE+qserv_areaspec_circle(\"\\\n",
    "                    +ra_deg+\",\"+dec_deg+\",\"+search_radius_deg+\");' \\\n",
    "                    http://lsst-qserv-dax01.ncsa.illinois.edu:5000/db/v0/tap/sync\"\n",
    "    completed = subprocess.run(cmd, shell=True, stdout=subprocess.PIPE)\n",
    "\n",
    "    # find unique IDs\n",
    "    json_file = '../raw_data/PDAC_cone_search_results/catalogCone'+str(i)+'.json'\n",
    "    tab = json.loads(open(json_file).read())\n",
    "    objectIds = tuple(np.unique(np.ravel(tab['result']['table']['data'])))\n",
    "    print('In this query, we recover objectId :  ')\n",
    "    print(objectIds)\n",
    "    if len(objectIds) == 1 : \n",
    "        ids=  '('+str(objectIds[0])+')'\n",
    "    if len(objectIds) == 0 : \n",
    "        ids = None\n",
    "        print('Skipping this query - no objects found within 2 arcsec! ')\n",
    "    elif len(objectIds) > 1 : \n",
    "        ids = str(objectIds)\n",
    "    objectIds_per_i[i] = ids \n",
    "    \n",
    "    if len(objectIds) > 0 :  # only query if there is something to query with ! \n",
    "        \n",
    "        # query PDAC against  ids found within 2 arcsec from our  input ra, dec ... \n",
    "        cmd = \" curl -o ../raw_data/PDAC_forced_phot_results/catalogForced\"+str(i)+\".json -d 'query=\\\n",
    "                SELECT \\\n",
    "                    objectId, id, fsrc.exposure_id, fsrc.exposure_time_mid, exp.run, \\\n",
    "                    scisql_dnToAbMag(fsrc.flux_psf,exp.fluxMag0) AS g, \\\n",
    "                    scisql_dnToAbMagSigma(fsrc.flux_psf, fsrc.flux_psf_err, exp.fluxMag0, exp.fluxMag0Sigma) AS gErr \\\n",
    "                FROM \\\n",
    "                    RunDeepForcedSource AS fsrc, \\\n",
    "                    Science_Ccd_Exposure AS exp \\\n",
    "                WHERE \\\n",
    "                    exp.scienceCcdExposureId = fsrc.exposure_id \\\n",
    "                    AND fsrc.exposure_filter_id=1 \\\n",
    "                    AND objectId IN \"+ids+\" \\\n",
    "                ORDER BY exposure_time_mid' http://lsst-qserv-dax01.ncsa.illinois.edu:5000/db/v0/tap/sync\"\n",
    "        completed = subprocess.run(cmd, shell=True)\n",
    "        stop1 = timeit.default_timer()\n",
    "        print('Querying took %f seconds'%(stop1-start1))\n",
    "        query_time_per_i[i] = stop1-start1\n",
    "        \n",
    "        \n",
    "        # NOTE  : exposure_filter_id  is where we choose which filter to use \n",
    "        # u = 0\n",
    "        # g = 1 \n",
    "        # r = 2\n",
    "        # i = 3\n",
    "        # z = 4\n",
    "        start2 = timeit.default_timer()\n",
    "        # Convert the output json file with g-band photometry to a text file...\n",
    "        json_file= '../raw_data/PDAC_forced_phot_results/catalogForced'+str(i)+'.json'\n",
    "        tab = json.loads(open(json_file).read())\n",
    "\n",
    "        #print(tab['result']['table'].keys())\n",
    "        #print(tab['result']['table']['metadata']['elements'])\n",
    "\n",
    "        meta = tab['result']['table']['metadata']['elements']\n",
    "        data = tab['result']['table']['data']\n",
    "        dataT = np.transpose(data)\n",
    "\n",
    "        # initialize a new AstroPy Table to store this S82 lightcurve from PDAC... \n",
    "        t = Table()\n",
    "\n",
    "        # iterate over columns to add them to the Table ...\n",
    "        for k in range(len(dataT)):\n",
    "            t.add_column(Column(dataT[k], name=meta[k]['name']), index=0)\n",
    "\n",
    "        # Save that as a txt file...\n",
    "        fname = '../raw_data/RRLyr_S82_PDAC/'+str(master_table['Num'][i])+'_'+str(i).zfill(3)+'_g.txt'\n",
    "        t.write(fname, format='ascii', overwrite='True')\n",
    "        stop2 = timeit.default_timer()\n",
    "        calc_time_per_i[i] = stop2-start2\n"
   ]
  },
  {
   "cell_type": "markdown",
   "metadata": {},
   "source": [
    "## Calculate periodograms, and find best period for PDAC lightcurves "
   ]
  },
  {
   "cell_type": "code",
   "execution_count": 543,
   "metadata": {
    "collapsed": false
   },
   "outputs": [],
   "source": [
    "PDAC_lcs = os.listdir(address)\n",
    "PDAC_IDs = np.array([str.rsplit(x,'_')[0] for x in PDAC_lcs])  \n",
    "PDAC_i = np.array([str.rsplit(x,'_')[1] for x in PDAC_lcs]).astype(int)\n",
    "\n"
   ]
  },
  {
   "cell_type": "code",
   "execution_count": 544,
   "metadata": {
    "collapsed": false
   },
   "outputs": [
    {
     "data": {
      "text/plain": [
       "array([112, 113, 114, 115, 116, 117, 118, 119, 120, 121, 122, 123, 124,\n",
       "       125, 126, 127, 128, 129, 130, 131, 132, 133,  14, 134, 135, 136,\n",
       "       137, 138, 139, 140, 141, 142, 143, 144, 145, 146, 147,  15, 148,\n",
       "       149, 150, 151,   1, 152,  16, 153, 154, 155, 156, 157, 158, 159,\n",
       "       160, 161, 162, 163, 164, 165, 166, 167, 168, 169, 170, 171, 172,\n",
       "       173, 174, 175, 176, 177, 178, 179, 180,  17, 181, 182, 183, 184,\n",
       "       185, 186,  18, 187, 188,   2, 189, 190, 191, 192, 193, 194, 195,\n",
       "       196, 197, 198, 199, 200, 201, 202, 203, 204,  19, 205, 206,  20,\n",
       "       207, 208, 209, 210, 211, 212, 213, 214, 215, 216,  21, 217, 218,\n",
       "       219, 220, 221, 222,  22, 223, 224, 225, 226, 227, 228, 229,  23,\n",
       "       230, 231,  24, 232,  25, 233, 234, 235, 236, 237, 238, 239, 240,\n",
       "       241, 242, 243,   3, 244, 245, 246, 247, 248, 249, 250, 251, 252,\n",
       "       253, 254, 255, 256,   4, 257, 258, 259, 260, 261, 262, 263, 264,\n",
       "       265, 266, 267, 268, 269, 270, 271, 272, 273, 274,  26, 275, 276,\n",
       "       277, 278, 279, 280, 281, 282, 283, 284, 285,  27, 286, 287, 288,\n",
       "       289, 290, 291, 292, 293, 294, 295, 296, 297,  28, 300,  29,   5,\n",
       "        30,  31,  32, 346, 347, 348, 349, 350, 351,  33,  34,  35,  36,\n",
       "        37,  38,  39,  40,  41,  42, 412, 413, 414, 415, 416, 417,  43,\n",
       "        44, 418, 419, 420, 421, 422, 423, 424, 425,  45, 426, 427, 428,\n",
       "       429, 430, 431,  46, 432, 433, 434, 435,  47, 436, 437, 438, 439,\n",
       "        48,  49, 440,  50, 441, 442,  51, 443, 444, 445,   0, 446, 447,\n",
       "        52,  53,  54,  55,  56,  57,  58,   6,  59,  60,  61,  62,  63,\n",
       "        64,  65,  66,  67,  68,  69,  70,  71,  72,  73,  74,  75,  76,\n",
       "        77,  78,  79,  80,  81,  82,  83,   7,  84,  85,   8,   9,  86,\n",
       "        87,  88,  89,  90,  91,  92,  93,  94,  95,  96,  97,  98,  99,\n",
       "       100, 101, 102, 103,  10, 104,  11,  12, 105, 106, 107, 108, 109,\n",
       "       110, 111,  13])"
      ]
     },
     "execution_count": 544,
     "metadata": {},
     "output_type": "execute_result"
    }
   ],
   "source": [
    "PDAC_i"
   ]
  },
  {
   "cell_type": "code",
   "execution_count": 455,
   "metadata": {
    "collapsed": false
   },
   "outputs": [],
   "source": [
    "\n",
    "# directory with PDAC RR Lyr lightcurves \n",
    "address = '../raw_data/RRLyr_S82_PDAC/'\n",
    "\n",
    "lc_names = table2['Num'].data.astype(str)\n",
    "\n",
    "# store the results \n",
    "store = {}\n",
    "store['fit_period'] = np.zeros_like(lc_names, dtype=float)\n",
    "store['ratio'] = np.zeros_like(lc_names, dtype=float)  \n",
    "\n",
    "# at the moment, only g-band was obtained from PDAC, but can grab eg all filters next time.... \n",
    "# It just amounts to setting fsrc.exposure_filter_id =  0,1,2,3,4 ... \n",
    "# but I don't know if it can be done within a single SQL query....\n",
    "band = 'g'\n",
    "\n",
    "for i in PDAC_i :  # \n",
    "    \n",
    "    # Pick an RR Lyr\n",
    "    lc = Table.read(address+lc_names[i]+'_'+str(i)+'_'+band+'.txt', format='ascii')\n",
    "\n",
    "    # grab Branimir's period and type for that particular RR Lyr...\n",
    "    true_period = table2['Per'][i]  # in days \n",
    "    rr_type = table2['Type'][i] # string \n",
    "    ID = table2['Num'][i] # int\n",
    "    \n",
    "    omega_true = 2*np.pi / true_period\n",
    "    \n",
    "    # frequency grid... \n",
    "    all_periods = table2['Per'].data\n",
    "    omegas = alt_omega_grid(0.9 * min(all_periods),1.1*max(all_periods), 5000)  \n",
    "\n",
    "    mjds = lc['exposure_time_mid']\n",
    "    mags = lc[band]\n",
    "    magerrs = lc[band+'Err']\n",
    "    \n",
    "    P_LS = lomb_scargle(t=mjds,y=mags, dy=magerrs, omega=omegas)\n",
    "   \n",
    "    # run function to find best period\n",
    "    omega_best = omegas[np.argmax(P_LS)]\n",
    "    best_period =  2*np.pi/omega_best\n",
    "    store['fit_period'][i] = best_period\n",
    "    \n",
    "    #print(\"Best period: {} days\".format(best_period))\n",
    "    #print(\"Best omega %.4f\"%omega_best)\n",
    "    ratio = omega_true / omega_best\n",
    "    #print('Omega_true / Omega_fit = %f'%ratio)\n",
    "    store['ratio'][i] = ratio\n",
    "\n",
    "\n"
   ]
  },
  {
   "cell_type": "code",
   "execution_count": 457,
   "metadata": {
    "collapsed": false
   },
   "outputs": [
    {
     "data": {
      "image/png": "[encoded data removed]",
      "text/plain": [
       "<matplotlib.figure.Figure at 0x118b63e80>"
      ]
     },
     "metadata": {},
     "output_type": "display_data"
    }
   ],
   "source": [
    "# Plot ratio of my calculated omega,  vs  omega from Branimir's table...\n",
    "\n",
    "fig,ax = plt.subplots(1,1,figsize=(8,4))\n",
    "\n",
    "# Using numpy over ax.hist  helps let the center of \n",
    "# the rectangle stay over the bin center, \n",
    "# rather than the bin edge...\n",
    "\n",
    "ratios = store['ratio'][store['ratio'] != 0]\n",
    "\n",
    "hist, bin_edges = np.histogram(ratios, bins=np.linspace(0.3,2.1,22\n",
    "                                                       ), density=False)\n",
    "bin_centres = (bin_edges[:-1] + bin_edges[1:])/2\n",
    "hist[0] = 0\n",
    "ax.plot(bin_centres, hist, ls = 'steps', lw=2, color = 'blue')\n",
    "#ax.hist(ratios, bins=40, histtype='step', lw=2)\n",
    "\n",
    "ax.set_xlabel(r'$ \\omega_{true} / \\omega_{LS}$')\n",
    "ax.set_ylabel(r'$N$')\n",
    "ax.set_xlim(0.3,2.0)\n",
    "plt.tight_layout()\n",
    "fname = '../data_products/Fig_4_RRLyr_omega_ratio_PDAC.png'\n",
    "plt.savefig(fname)"
   ]
  },
  {
   "cell_type": "code",
   "execution_count": 529,
   "metadata": {
    "collapsed": false
   },
   "outputs": [
    {
     "name": "stdout",
     "output_type": "stream",
     "text": [
      "We picked RR Lyrae ID=13350 , type ab, with a period of 0.547987 days\n",
      "True omega = 11.4659\n",
      "Best period: 0.547969 days\n",
      "Best omega 11.4663\n"
     ]
    },
    {
     "data": {
      "image/png": "[encoded data removed]",
      "text/plain": [
       "<matplotlib.figure.Figure at 0x125583ef0>"
      ]
     },
     "metadata": {},
     "output_type": "display_data"
    }
   ],
   "source": [
    "# Compare individual objects ... \n",
    "# Try i=1 : ID 13350\n",
    "plot_rr_lyr(i=1, band='g', source='PDAC')\n"
   ]
  },
  {
   "cell_type": "code",
   "execution_count": 590,
   "metadata": {
    "collapsed": false
   },
   "outputs": [
    {
     "data": {
      "text/plain": [
       "array([298, 299, 301, 302, 303, 304, 305, 306, 307, 308, 309, 310, 311,\n",
       "       312, 313, 314, 315, 316, 317, 318, 319, 320, 321, 322, 323, 324,\n",
       "       325, 326, 327, 328, 329, 330, 331, 332, 333, 334, 335, 336, 337,\n",
       "       338, 339, 340, 341, 342, 343, 344, 345, 352, 353, 354, 355, 356,\n",
       "       357, 358, 359, 360, 361, 362, 363, 364, 365, 366, 367, 368, 369,\n",
       "       370, 371, 372, 373, 374, 375, 376, 377, 378, 379, 380, 381, 382,\n",
       "       383, 384, 385, 386, 387, 388, 389, 390, 391, 392, 393, 394, 395,\n",
       "       396, 397, 398, 399, 400, 401, 402, 403, 404, 405, 406, 407, 408,\n",
       "       409, 410, 411, 448, 449, 450, 451, 452, 453, 454, 455, 456, 457,\n",
       "       458, 459, 460, 461, 462, 463, 464, 465, 466, 467, 468, 469, 470,\n",
       "       471, 472, 473, 474, 475, 476, 477, 478, 479, 480, 481, 482])"
      ]
     },
     "execution_count": 590,
     "metadata": {},
     "output_type": "execute_result"
    }
   ],
   "source": [
    "still_to_do = np.arange(483)[~np.in1d(np.arange(483), PDAC_i)]"
   ]
  },
  {
   "cell_type": "code",
   "execution_count": 587,
   "metadata": {
    "collapsed": false
   },
   "outputs": [
    {
     "data": {
      "text/plain": [
       "array([  0,   1,   2,   3,   4,   5,   6,   7,   8,   9,  10,  11,  12,\n",
       "        13,  14,  15,  16,  17,  18,  19,  20,  21,  22,  23,  24,  25,\n",
       "        26,  27,  28,  29,  30,  31,  32,  33,  34,  35,  36,  37,  38,\n",
       "        39,  40,  41,  42,  43,  44,  45,  46,  47,  48,  49,  50,  51,\n",
       "        52,  53,  54,  55,  56,  57,  58,  59,  60,  61,  62,  63,  64,\n",
       "        65,  66,  67,  68,  69,  70,  71,  72,  73,  74,  75,  76,  77,\n",
       "        78,  79,  80,  81,  82,  83,  84,  85,  86,  87,  88,  89,  90,\n",
       "        91,  92,  93,  94,  95,  96,  97,  98,  99, 100, 101, 102, 103,\n",
       "       104, 105, 106, 107, 108, 109, 110, 111, 112, 113, 114, 115, 116,\n",
       "       117, 118, 119, 120, 121, 122, 123, 124, 125, 126, 127, 128, 129,\n",
       "       130, 131, 132, 133, 134, 135, 136, 137, 138, 139, 140, 141, 142,\n",
       "       143, 144, 145, 146, 147, 148, 149, 150, 151, 152, 153, 154, 155,\n",
       "       156, 157, 158, 159, 160, 161, 162, 163, 164, 165, 166, 167, 168,\n",
       "       169, 170, 171, 172, 173, 174, 175, 176, 177, 178, 179, 180, 181,\n",
       "       182, 183, 184, 185, 186, 187, 188, 189, 190, 191, 192, 193, 194,\n",
       "       195, 196, 197, 198, 199, 200, 201, 202, 203, 204, 205, 206, 207,\n",
       "       208, 209, 210, 211, 212, 213, 214, 215, 216, 217, 218, 219, 220,\n",
       "       221, 222, 223, 224, 225, 226, 227, 228, 229, 230, 231, 232, 233,\n",
       "       234, 235, 236, 237, 238, 239, 240, 241, 242, 243, 244, 245, 246,\n",
       "       247, 248, 249, 250, 251, 252, 253, 254, 255, 256, 257, 258, 259,\n",
       "       260, 261, 262, 263, 264, 265, 266, 267, 268, 269, 270, 271, 272,\n",
       "       273, 274, 275, 276, 277, 278, 279, 280, 281, 282, 283, 284, 285,\n",
       "       286, 287, 288, 289, 290, 291, 292, 293, 294, 295, 296, 297, 298,\n",
       "       299, 300, 301, 302, 303, 304, 305, 306, 307, 308, 309, 310, 311,\n",
       "       312, 313, 314, 315, 316, 317, 318, 319, 320, 321, 322, 323, 324,\n",
       "       325, 326, 327, 328, 329, 330, 331, 332, 333, 334, 335, 336, 337,\n",
       "       338, 339, 340, 341, 342, 343, 344, 345, 346, 347, 348, 349, 350,\n",
       "       351, 352, 353, 354, 355, 356, 357, 358, 359, 360, 361, 362, 363,\n",
       "       364, 365, 366, 367, 368, 369, 370, 371, 372, 373, 374, 375, 376,\n",
       "       377, 378, 379, 380, 381, 382, 383, 384, 385, 386, 387, 388, 389,\n",
       "       390, 391, 392, 393, 394, 395, 396, 397, 398, 399, 400, 401, 402,\n",
       "       403, 404, 405, 406, 407, 408, 409, 410, 411, 412, 413, 414, 415,\n",
       "       416, 417, 418, 419, 420, 421, 422, 423, 424, 425, 426, 427, 428,\n",
       "       429, 430, 431, 432, 433, 434, 435, 436, 437, 438, 439, 440, 441,\n",
       "       442, 443, 444, 445, 446, 447, 448, 449, 450, 451, 452, 453, 454,\n",
       "       455, 456, 457, 458, 459, 460, 461, 462, 463, 464, 465, 466, 467,\n",
       "       468, 469, 470, 471, 472, 473, 474, 475, 476, 477, 478, 479, 480,\n",
       "       481, 482])"
      ]
     },
     "execution_count": 587,
     "metadata": {},
     "output_type": "execute_result"
    }
   ],
   "source": []
  },
  {
   "cell_type": "code",
   "execution_count": null,
   "metadata": {
    "collapsed": true
   },
   "outputs": [],
   "source": []
  }
 ],
 "metadata": {
  "anaconda-cloud": {},
  "kernelspec": {
   "display_name": "Python [Root]",
   "language": "python",
   "name": "Python [Root]"
  },
  "language_info": {
   "codemirror_mode": {
    "name": "ipython",
    "version": 3
   },
   "file_extension": ".py",
   "mimetype": "text/x-python",
   "name": "python",
   "nbconvert_exporter": "python",
   "pygments_lexer": "ipython3",
   "version": "3.5.2"
  }
 },
 "nbformat": 4,
 "nbformat_minor": 0
}
