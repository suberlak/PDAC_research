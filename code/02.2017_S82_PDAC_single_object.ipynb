{
 "cells": [
  {
   "cell_type": "markdown",
   "metadata": {},
   "source": [
    "## Testing single-object lightcurves from PDAC "
   ]
  },
  {
   "cell_type": "markdown",
   "metadata": {},
   "source": [
    "Here I query PDAC v.1 SUIT  http://lsst-sui-proxy01.ncsa.illinois.edu/suit against a few variable objects. I consider 483 RR Lyrae stars from Sesar +2010 http://iopscience.iop.org/article/10.1088/0004-637X/708/1/717/meta#apj326724t2   . Table 1 in that paper contains positions and photometry , one file per object  (the name of each file is elsewhere in the paper, and in Table 1, called RR Lyrae ID).  Table 2 contains lightcurve parameters, and can be matched to photometry files by RR Lyrae ID  (col 0). Table 2 also includes the RR Lyrae type (col 1),  and Period in days (col 2) "
   ]
  },
  {
   "cell_type": "code",
   "execution_count": 75,
   "metadata": {
    "collapsed": true
   },
   "outputs": [],
   "source": [
    "# necessary imports\n",
    "import numpy as np\n",
    "import os\n",
    "import pandas as pd \n",
    "from astropy.table import Table\n",
    "from astropy.table import Column\n",
    "from astropy.io import ascii\n",
    "import matplotlib.pyplot as plt\n",
    "import json\n",
    "\n",
    "# periodogram-related \n",
    "import sys\n",
    "sys.path.insert(0, '/Users/chris/GradResearch/SDSS_S82_FP_research/packages/')\n",
    "import frequencyFunctions as freq\n",
    "import imp\n",
    "imp.reload(freq)\n",
    "from astroML.time_series import lomb_scargle  ,lomb_scargle_bootstrap \n"
   ]
  },
  {
   "cell_type": "markdown",
   "metadata": {},
   "source": [
    "I download the lightcurves from the supplementary data file to Table 1 ( http://iopscience.iop.org/0004-637X/708/1/717/suppdata/apj326724_table1.tar.gz )"
   ]
  },
  {
   "cell_type": "code",
   "execution_count": 2,
   "metadata": {
    "collapsed": false
   },
   "outputs": [],
   "source": [
    "DirIn = '../catalogs/RRLyr_S82_Sesar_2010/'\n",
    "address1 = DirIn + 'table1_lightcurves/'\n",
    "\n",
    "# find out what are the IDs of RR Lyr available as lightcurves\n",
    "#RRLyr_lc_files = os.listdir(address1)\n",
    "# remove ReadMe..\n",
    "#RRLyr_lc_files.pop(-1)\n",
    "# strip the *.txt from filename \n",
    "#RRLyr_ID = [int(ID[:-4]) for ID in RRLyr_lc_files]"
   ]
  },
  {
   "cell_type": "markdown",
   "metadata": {},
   "source": [
    "I downloaded Branimir's fit parameters as machine-readable version of Table 2 : http://iopscience.iop.org/0004-637X/708/1/717/suppdata/apj326724t2_mrt.txt\n"
   ]
  },
  {
   "cell_type": "code",
   "execution_count": 212,
   "metadata": {
    "collapsed": true
   },
   "outputs": [],
   "source": [
    "# Grab the fit parameters...\n",
    "table2 = Table.read(DirIn+'table2_lc_fit_params.txt', format='ascii') \n",
    "\n"
   ]
  },
  {
   "cell_type": "markdown",
   "metadata": {},
   "source": [
    "I first plot the distribution of  RR Lyr periods from Table 2 :"
   ]
  },
  {
   "cell_type": "code",
   "execution_count": 4,
   "metadata": {
    "collapsed": false
   },
   "outputs": [
    {
     "data": {
      "text/plain": [
       "<matplotlib.text.Text at 0x11b552a58>"
      ]
     },
     "execution_count": 4,
     "metadata": {},
     "output_type": "execute_result"
    },
    {
     "data": {
      "image/png": "[encoded data removed]",
      "text/plain": [
       "<matplotlib.figure.Figure at 0x11b1ad8d0>"
      ]
     },
     "metadata": {},
     "output_type": "display_data"
    }
   ],
   "source": [
    "plt.hist(table2['Per'].data, bins=30, histtype='step')\n",
    "plt.ylabel('count')\n",
    "plt.xlabel('period [days]')\n",
    "plt.title('483 RR Lyrae from Sesar+2010')"
   ]
  },
  {
   "cell_type": "markdown",
   "metadata": {},
   "source": [
    "Each lightcurve file has multiple columns, and the metadata for these is in the Readme file."
   ]
  },
  {
   "cell_type": "markdown",
   "metadata": {},
   "source": [
    "At the moment RA, Dec information is in each lightcurve (first cols), whereas all other info is in table 2.  I want to add this info to table 2 to make a master table with the information I need (one row per RR Lyr)."
   ]
  },
  {
   "cell_type": "code",
   "execution_count": 221,
   "metadata": {
    "collapsed": false
   },
   "outputs": [],
   "source": [
    "# table 2 : 'Num', 'Type', 'Per', 'Au', 'umag', 'phiu', 'Tu', 'Ag', 'gmag',\n",
    "#       'phig', 'Tg', 'Ar', 'rmag', 'phir', 'Tr', 'Ai', 'imag', 'phii',\n",
    "#       'Ti', 'Az', 'zmag', 'phiz', 'Tz'\n",
    "\n",
    "\n",
    "# Grab the fit parameters...\n",
    "table2 = Table.read(DirIn+'table2_lc_fit_params.txt', format='ascii') \n",
    "\n",
    "# Grab the RR Lyr ID \n",
    "lc_names = table2['Num'].data.astype(str)\n",
    "\n",
    "# grab colnames and units for all RR Lyr LC lightcurves  from the readme file....\n",
    "readme = Table.read(DirLc+'ReadMe', format='ascii')\n",
    "\n",
    "# initialize empty arrays to store that info \n",
    "ra = np.zeros_like(lightcurves, dtype=float)\n",
    "dec = np.zeros_like(lightcurves, dtype=float)\n",
    "# iterate in a loop over all lightcurves pulling the \n",
    "# ra, dec from the first row of each LC\n",
    "for i in range(len(lc_names)) : \n",
    "    \n",
    "    lc = Table.read(DirLc+ lc_names[i]+'.dat', format='ascii')\n",
    "    \n",
    "    # Grab the colnames and units from the Readme file...\n",
    "    columns = lc.colnames\n",
    "\n",
    "    for j in range(len(columns)):\n",
    "        lc[columns[j]].name = readme.colnames[j]\n",
    "        lc[readme.colnames[j]].unit = readme[readme.colnames[j]].unit\n",
    "\n",
    "    ra[i] = lc['RAdeg'][0]\n",
    "    dec[i]  = lc['DEdeg'][0]\n",
    "\n",
    "r = Column(data=ra, name='RAdeg')\n",
    "d = Column(data=dec, name='DEdeg')\n",
    "ic = Column(np.arange(len(lc_names)), 'i')\n",
    "\n",
    "table2.add_columns([r,d,ic])\n",
    "\n",
    "# Now table2 has three additional columns that together give me all the info I need about all RR Lyr...\n",
    "# Choose only those columns that we need .\n",
    "master_table = table2[['i','RAdeg','DEdeg','Num', 'Type', 'Per', 'gmag']]\n",
    "\n",
    "\n"
   ]
  },
  {
   "cell_type": "code",
   "execution_count": 223,
   "metadata": {
    "collapsed": false
   },
   "outputs": [
    {
     "data": {
      "text/html": [
       "&lt;Table length=5&gt;\n",
       "<table id=\"table4921019696\" class=\"table-striped table-bordered table-condensed\">\n",
       "<thead><tr><th>i</th><th>RAdeg</th><th>DEdeg</th><th>Num</th><th>Type</th><th>Per</th><th>gmag</th></tr></thead>\n",
       "<thead><tr><th></th><th></th><th></th><th></th><th></th><th>d</th><th>mag</th></tr></thead>\n",
       "<thead><tr><th>int64</th><th>float64</th><th>float64</th><th>int64</th><th>str2</th><th>float64</th><th>float64</th></tr></thead>\n",
       "<tr><td>0</td><td>0.935679</td><td>1.115859</td><td>4099</td><td>ab</td><td>0.641754351271</td><td>16.6637400636</td></tr>\n",
       "<tr><td>1</td><td>0.283437</td><td>1.178522</td><td>13350</td><td>ab</td><td>0.547987422171</td><td>16.9886134861</td></tr>\n",
       "<tr><td>2</td><td>3.254658</td><td>-0.584066</td><td>15927</td><td>ab</td><td>0.612262983773</td><td>17.6534916127</td></tr>\n",
       "<tr><td>3</td><td>3.244369</td><td>0.218891</td><td>20406</td><td>ab</td><td>0.631853138777</td><td>15.2059062035</td></tr>\n",
       "<tr><td>4</td><td>4.315354</td><td>1.054582</td><td>21992</td><td>ab</td><td>0.625880355362</td><td>14.3769955855</td></tr>\n",
       "</table>"
      ],
      "text/plain": [
       "<Table length=5>\n",
       "  i    RAdeg     DEdeg    Num  Type      Per            gmag    \n",
       "                                          d             mag     \n",
       "int64 float64   float64  int64 str2    float64        float64   \n",
       "----- -------- --------- ----- ---- -------------- -------------\n",
       "    0 0.935679  1.115859  4099   ab 0.641754351271 16.6637400636\n",
       "    1 0.283437  1.178522 13350   ab 0.547987422171 16.9886134861\n",
       "    2 3.254658 -0.584066 15927   ab 0.612262983773 17.6534916127\n",
       "    3 3.244369  0.218891 20406   ab 0.631853138777 15.2059062035\n",
       "    4 4.315354  1.054582 21992   ab 0.625880355362 14.3769955855"
      ]
     },
     "execution_count": 223,
     "metadata": {},
     "output_type": "execute_result"
    }
   ],
   "source": [
    "master_table[:5]"
   ]
  },
  {
   "cell_type": "markdown",
   "metadata": {},
   "source": [
    "To test things out, I focus on one lightcurve :"
   ]
  },
  {
   "cell_type": "code",
   "execution_count": 235,
   "metadata": {
    "collapsed": false
   },
   "outputs": [
    {
     "name": "stdout",
     "output_type": "stream",
     "text": [
      "We picked RR Lyrae ID=4099 , type ab, with a period of 0.6418 days\n"
     ]
    }
   ],
   "source": [
    "# Pick an RR Lyr, print it's mag,  type, and plot the lightcurve \n",
    "\n",
    "i = 0\n",
    "lc = Table.read(address1+lc_names[i]+'.dat', format='ascii')\n",
    "\n",
    "# Rename the columns and units for this lightcurve ...\n",
    "columns = lc.colnames\n",
    "\n",
    "for j in range(len(columns)):\n",
    "    lc[columns[j]].name = readme.colnames[j]\n",
    "    lc[readme.colnames[j]].unit = readme[readme.colnames[j]].unit\n",
    "\n",
    "# grab period and type for that particular RR Lyr...\n",
    "ID = master_table['Num'][i]\n",
    "period =master_table['Per'][i]  # in days \n",
    "rr_type = master_table['Type'][i] # string \n",
    "print('We picked RR Lyrae ID=%d , type %s, with a period of %.4f days'%(ID,rr_type, period))"
   ]
  },
  {
   "cell_type": "markdown",
   "metadata": {},
   "source": [
    "Plot raw lightcurve and period - folded lightcurve : 1)  use Branimir's period 2) do Lomb-Scargle to find period"
   ]
  },
  {
   "cell_type": "code",
   "execution_count": 236,
   "metadata": {
    "collapsed": false
   },
   "outputs": [
    {
     "data": {
      "image/png": "[encoded data removed]",
      "text/plain": [
       "<matplotlib.figure.Figure at 0x127939d30>"
      ]
     },
     "metadata": {},
     "output_type": "display_data"
    }
   ],
   "source": [
    "# Some settings to make all fonts bigger\n",
    "\n",
    "from matplotlib import rcParams      \n",
    "rcParams['ytick.labelsize'] = 15\n",
    "rcParams['xtick.labelsize'] = 15\n",
    "rcParams['axes.labelsize'] = 20\n",
    "rcParams['axes.linewidth'] = 2\n",
    "rcParams['font.size'] = 15\n",
    "rcParams['axes.titlesize'] = 20\n",
    "\n",
    "def plot_data(source_mjds, source_mags, source_magerrs, ax = None, band=''): # COMPLETE THIS LINE\n",
    "    ax.errorbar(source_mjds, source_mags, source_magerrs, # COMPLETE THIS LINE\n",
    "        fmt = '_', capsize=0)\n",
    "    ax.set_xlabel('Date (MJD)')\n",
    "    ax.set_ylabel(band+' Magnitude')\n",
    "    ax.set_title('Raw data')\n",
    "    xticks = ax.get_xticks()\n",
    "    ax.set_xticks(xticks[::2])\n",
    "    plt.gca().invert_yaxis()\n",
    "    \n",
    "%matplotlib inline \n",
    "\n",
    "band = 'r'\n",
    "mask =  lc[band+'mag'] > 0   # remove all rows missing data... \n",
    "mjds = lc[band+'mjd'][mask]\n",
    "mags = lc[band+'mag'][mask]\n",
    "magerrs = lc[band+'magErr'][mask]\n",
    "fig,ax = plt.subplots()\n",
    "plot_data(mjds,mags, magerrs,ax,band)"
   ]
  },
  {
   "cell_type": "markdown",
   "metadata": {},
   "source": [
    "I'll phase this raw lightcurve on Branimir's period to see how well it fares"
   ]
  },
  {
   "cell_type": "code",
   "execution_count": 240,
   "metadata": {
    "collapsed": false
   },
   "outputs": [
    {
     "data": {
      "text/plain": [
       "<matplotlib.text.Text at 0x123b0c7b8>"
      ]
     },
     "execution_count": 240,
     "metadata": {},
     "output_type": "execute_result"
    },
    {
     "data": {
      "image/png": "[encoded data removed]",
      "text/plain": [
       "<matplotlib.figure.Figure at 0x1234c7f28>"
      ]
     },
     "metadata": {},
     "output_type": "display_data"
    }
   ],
   "source": [
    "# define function to phase lightcurves\n",
    "def phase(time, period, t0 = None):\n",
    "    \"\"\" Given an input array of times and a period, return the corresponding phase.\"\"\"\n",
    "    if t0 is None:\n",
    "        t0 = time[0]\n",
    "        phase = ((time - t0) % period)/period\n",
    "    return phase # COMPLETE\n",
    "\n",
    "# define function to plot phased lc\n",
    "def plot_phased_lc(mjds, mags, magerrs, period, t0=None, ax = None, band='', nperiods = 1):\n",
    "    phases = phase(mjds, period, t0) \n",
    "    \n",
    "    # added functionality to repeat the period more than once if needed.... \n",
    "    if nperiods > 1 : \n",
    "        for i in range(1,nperiods):\n",
    "            phases =  np.append(phases, phases+i)\n",
    "            mags = np.append(mags, mags)\n",
    "            magerrs  = np.append(magerrs, magerrs)\n",
    "        \n",
    "    ax.scatter(phases,mags, lw=0, s=10)\n",
    "    ax.errorbar(phases, mags, magerrs, ls='None') #fmt = '_', capsize=0\n",
    "    ax.set_xlabel('Phase')\n",
    "    ax.set_ylabel(band+' Magnitude')\n",
    "    plt.gca().invert_yaxis()\n",
    "    \n",
    "# run function to plot phased lc\n",
    "fig,ax = plt.subplots()\n",
    "plot_phased_lc(mjds, mags, magerrs, period, None, ax, band, 1)\n",
    "ax.set_title('RR Lyr '+str(ID))\n"
   ]
  },
  {
   "cell_type": "markdown",
   "metadata": {
    "collapsed": false
   },
   "source": [
    "Plot a bootstrapped periodogram for that lightcurve..."
   ]
  },
  {
   "cell_type": "code",
   "execution_count": 241,
   "metadata": {
    "collapsed": false
   },
   "outputs": [
    {
     "name": "stdout",
     "output_type": "stream",
     "text": [
      "Best period: 0.39088601156768193 days\n"
     ]
    },
    {
     "data": {
      "image/png": "[encoded data removed]",
      "text/plain": [
       "<matplotlib.figure.Figure at 0x118de0748>"
      ]
     },
     "metadata": {},
     "output_type": "display_data"
    }
   ],
   "source": [
    "\n",
    "\n",
    "# provided alternate frequency function\n",
    "def alt_frequency_grid(Pmin, Pmax, n_bins = 5000):\n",
    "    \"\"\"Generate an angular frequency grid between Pmin and Pmax (assumed to be in days)\"\"\"\n",
    "    freq_max = 2*np.pi / Pmin\n",
    "    freq_min = 2*np.pi / Pmax\n",
    "    return np.linspace(freq_min, freq_max, n_bins)\n",
    "\n",
    "\n",
    "# Cheating : since we know that these are RR Lyrae,  \n",
    "# search on a grid between smallest and largest \n",
    "# possible period... \n",
    "all_periods = table2['Per'].data\n",
    "omegas = alt_frequency_grid(min(all_periods),max(all_periods), 5000)  \n",
    "\n",
    "#omegas = freq.frequency_grid(mjds) \n",
    "P_LS = lomb_scargle(t=mjds,y=mags, dy=magerrs, omega=omegas)\n",
    "plt.plot(omegas, P_LS)\n",
    "plt.xlabel('$\\omega$')\n",
    "plt.ylabel('$P_{LS}$')\n",
    "#plt.plot(frequency, P_LS)\n",
    "\n",
    "\n",
    "# provided: define function to find best period\n",
    "def LS_peak_to_period(omegas, P_LS):\n",
    "    \"\"\"find the highest peak in the LS periodogram and return the corresponding period.\"\"\"\n",
    "    max_omega = omegas[np.argmax(P_LS)]\n",
    "    return 2*np.pi/max_omega\n",
    "\n",
    "\n",
    "D = lomb_scargle_bootstrap(t=mjds, y=mags, dy=magerrs, omega=omegas, N_bootstraps=500) # Bootstrapped LS \n",
    "sig99, sig95 = np.percentile(D,99) , np.percentile(D,95) \n",
    "\n",
    "plt.plot([omegas[0],omegas[-1]], sig99*np.ones(2),'--')\n",
    "plt.plot([omegas[0],omegas[-1]], sig95*np.ones(2),'--')\n",
    "\n",
    "# run function to find best period\n",
    "best_period = LS_peak_to_period(omegas, P_LS)\n",
    "print(\"Best period: {} days\".format(best_period))"
   ]
  },
  {
   "cell_type": "markdown",
   "metadata": {},
   "source": [
    "Fold the lightcurve on that period..."
   ]
  },
  {
   "cell_type": "code",
   "execution_count": 242,
   "metadata": {
    "collapsed": false
   },
   "outputs": [
    {
     "data": {
      "image/png": "[encoded data removed]",
      "text/plain": [
       "<matplotlib.figure.Figure at 0x1234c7438>"
      ]
     },
     "metadata": {},
     "output_type": "display_data"
    }
   ],
   "source": [
    "fig,ax = plt.subplots()\n",
    "plot_phased_lc(mjds, mags, magerrs, best_period, None, ax, band)"
   ]
  },
  {
   "cell_type": "markdown",
   "metadata": {},
   "source": [
    "Wrap all these functions so that I can take a lightcurve, plot its raw lightcurve, fold on the true period (from Table 2), compute periodogram, and fold on the best-fit period.  I use AstroML Lomb-Scargle periodogram implementation, setting as the minimum period the shortest period amongst RR Lyr from Branimir's sample -10%, and similarly with the longest period: + 10%.  This educated guess allows us to get close to the true frequency. By default,  both AstroPy and AstroML do not span the frequencies high enough (short periodicities). "
   ]
  },
  {
   "cell_type": "code",
   "execution_count": 246,
   "metadata": {
    "collapsed": true
   },
   "outputs": [],
   "source": [
    "def plot_rr_lyr( i = 0, band='r' , table2 = table2):\n",
    "    \n",
    "    # directory with RR Lyr lightcurves \n",
    "    DirIn = '../catalogs/RRLyr_S82_Sesar_2010/'\n",
    "    address1 = DirIn + 'table1_lightcurves/'\n",
    "    lc_names = table2['Num'].data.astype(str)\n",
    "    \n",
    "    # Pick an RR Lyr, print it's mag,  type, and plot the lightcurve \n",
    "    lc = Table.read(address1+lc_names[i]+'.dat', format='ascii')\n",
    "    \n",
    "    # grab colnames and units for all RR Lyr LC lightcurves  from the readme file....\n",
    "    readme = Table.read(address1+'ReadMe', format='ascii')\n",
    "\n",
    "    # Rename the columns and units for this lightcurve ...\n",
    "    columns = lc.colnames\n",
    "\n",
    "    for j in range(len(columns)):\n",
    "        lc[columns[j]].name = readme.colnames[j]\n",
    "        lc[readme.colnames[j]].unit = readme[readme.colnames[j]].unit\n",
    "\n",
    "    # grab Branimir's period and type for that particular RR Lyr...\n",
    "    true_period = table2['Per'][i]  # in days \n",
    "    rr_type = table2['Type'][i] # string \n",
    "    ID = table2['Num'][i]\n",
    "    omega_true = 2*np.pi / true_period\n",
    "    print('We picked RR Lyrae ID=%d , type %s, with a period of %.6f days'%(ID,rr_type, true_period))\n",
    "    print('True omega = %.4f'%omega_true)\n",
    "    \n",
    "    # Make plot space\n",
    "    fig,axs = plt.subplots(2,2,figsize=(14,8))\n",
    "    ax = np.ravel(axs)\n",
    "    \n",
    "    # plot raw lightcurve \n",
    "    mask =  lc[band+'mag'] > 0   # remove all rows missing data... \n",
    "    mjds = lc[band+'mjd'][mask]\n",
    "    mags = lc[band+'mag'][mask]\n",
    "    magerrs = lc[band+'magErr'][mask]\n",
    "    \n",
    "    plot_data(mjds,mags, magerrs, ax[0], band)\n",
    "    \n",
    "    xticks = ax[0].get_xticks()\n",
    "    ax[0].set_xticks(xticks[1::2])\n",
    "    \n",
    "    # run function to plot lightcurve phased on Branimir's period \n",
    "    plot_phased_lc(mjds, mags, magerrs, true_period, None, ax[1], band, 2)\n",
    "\n",
    "    # Creative guess : since we know that these are RR Lyrae,  \n",
    "    # search on a grid between  the smallest and largest \n",
    "    # possible period... \n",
    "    all_periods = table2['Per'].data\n",
    "    omegas = alt_frequency_grid(0.9 * min(all_periods),1.1*max(all_periods), 5000)  \n",
    "\n",
    "    #omegas = freq.frequency_grid(mjds) \n",
    "    P_LS = lomb_scargle(t=mjds,y=mags, dy=magerrs, omega=omegas)\n",
    "    ax[2].plot(omegas, P_LS)\n",
    "    ax[2].set_xlabel('$\\omega$')\n",
    "    ax[2].set_ylabel('$P_{LS}$')\n",
    "    \n",
    "    # run bootstrapped resamples to get significance....\n",
    "    D = lomb_scargle_bootstrap(t=mjds, y=mags, dy=magerrs, omega=omegas, N_bootstraps=100) # Bootstrapped LS \n",
    "    sig99, sig95 = np.percentile(D,99) , np.percentile(D,95) \n",
    "\n",
    "    ax[2].plot([omegas[0],omegas[-1]], sig99*np.ones(2),'--')\n",
    "    ax[2].plot([omegas[0],omegas[-1]], sig95*np.ones(2),'--')\n",
    "    # plt.arrow(x,y,dx,dy)\n",
    "    #ax[2].arrow(omega_true, 0.2, 0, -0.1, head_width=0.5, head_length=0.1, fc='red', ec='red') \n",
    "    \n",
    "    # run function to find best period\n",
    "    omega_best = omegas[np.argmax(P_LS)]\n",
    "    best_period =  2*np.pi/omega_best\n",
    "    print(\"Best period: {} days\".format(best_period))\n",
    "    print(\"Best omega %.4f\"%omega_best)\n",
    "    \n",
    "    ax[2].axvline(omega_best, ymax=0.5, ls='--', lw=3, color='orange', label=r'$\\omega_{fit}$')\n",
    "    ax[2].axvline(omega_true, ymax=0.5, ls='--', lw=3, color='magenta', label=r'$\\omega_{true}$')\n",
    "    \n",
    "    ax[2].legend()\n",
    "    # plot lightcurve phased on the LS-based period\n",
    "    plot_phased_lc(mjds, mags, magerrs, best_period, None, ax[3], band,2)\n",
    "    \n",
    "    fig.subplots_adjust(hspace=0.3, wspace=0.3)\n"
   ]
  },
  {
   "cell_type": "code",
   "execution_count": 248,
   "metadata": {
    "collapsed": false
   },
   "outputs": [
    {
     "name": "stdout",
     "output_type": "stream",
     "text": [
      "We picked RR Lyrae ID=13350 , type ab, with a period of 0.547987 days\n",
      "True omega = 11.4659\n",
      "Best period: 0.5471605297321952 days\n",
      "Best omega 11.4833\n"
     ]
    },
    {
     "data": {
      "image/png": "[encoded data removed]",
      "text/plain": [
       "<matplotlib.figure.Figure at 0x118b77a58>"
      ]
     },
     "metadata": {},
     "output_type": "display_data"
    }
   ],
   "source": [
    "plot_rr_lyr(i=1)"
   ]
  },
  {
   "cell_type": "markdown",
   "metadata": {},
   "source": [
    "Since with that one lightcurve I see that the periods are not identical, let's test that for all 483 lightcurves in Branimir's sample :"
   ]
  },
  {
   "cell_type": "markdown",
   "metadata": {},
   "source": [
    "[ takes about 10 secs on the mac to run.  For each lightcurve, I run the periodogram on 5000 frequencies spaced from \n",
    "    \n",
    "    0.9 * (smallest_period_in_table_2)  -   1.1 * (longest_period_in_table_2)\n",
    "]"
   ]
  },
  {
   "cell_type": "code",
   "execution_count": 126,
   "metadata": {
    "collapsed": false
   },
   "outputs": [],
   "source": [
    "# check : for how many RR Lyr my  best-fit period is different from Branimir's by more than 10%...\n",
    "\n",
    "# directory with RR Lyr lightcurves \n",
    "DirIn = '../catalogs/RRLyr_S82_Sesar_2010/'\n",
    "address1 = DirIn + 'table1_lightcurves/'\n",
    "\n",
    "\n",
    "# grab colnames and units for all RR Lyr LC lightcurves  from the readme file....\n",
    "readme = Table.read(address1+'ReadMe', format='ascii')\n",
    "\n",
    "ratios = np.ones_like(RRLyr_ID, dtype=float)\n",
    "fit_period  = np.ones_like(RRLyr_ID, dtype=float)\n",
    "# Pick an RR Lyr, print it's mag,  type, and plot the lightcurve \n",
    "for i in range(len(RRLyr_ID)):  #  \n",
    "    ID = RRLyr_ID[i]\n",
    "    RRLyr_lc = Table.read(address1+RRLyr_lc_files[i], format='ascii')\n",
    "\n",
    "    # Rename the columns and units for this lightcurve ...\n",
    "    columns = RRLyr_lc.colnames\n",
    "\n",
    "    for j in range(len(columns)):\n",
    "        RRLyr_lc[columns[j]].name = readme.colnames[j]\n",
    "        RRLyr_lc[readme.colnames[j]].unit = readme[readme.colnames[j]].unit\n",
    "\n",
    "    # grab Branimir's period and type for that particular RR Lyr...\n",
    "    row = table2['Num'] == ID\n",
    "    true_period = table2['Per'][row].data[0]  # in days \n",
    "    #rr_type = table2['Type'][row].data[0] # string \n",
    "    omega_true = 2*np.pi / true_period\n",
    "    #print('We picked RR Lyrae ID=%d , type %s, with a period of %.4f days'%(ID,rr_type, period))\n",
    "    #print('True omega = %.4f'%omega_true)\n",
    "    \n",
    "    # Creative guess : since we know that these are RR Lyrae,  \n",
    "    # search on a grid between  the smallest and largest \n",
    "    # possible period... \n",
    "    all_periods = table2['Per'].data\n",
    "    omegas = alt_frequency_grid(min(all_periods),max(all_periods), 5000)  \n",
    "\n",
    "    #omegas = freq.frequency_grid(mjds) \n",
    "    \n",
    "    mask =  RRLyr_lc[band+'mag'] > 0   # remove all rows missing data... \n",
    "    mjds = RRLyr_lc[band+'mjd'][mask]\n",
    "    mags = RRLyr_lc[band+'mag'][mask]\n",
    "    magerrs = RRLyr_lc[band+'magErr'][mask]\n",
    "    \n",
    "    P_LS = lomb_scargle(t=mjds,y=mags, dy=magerrs, omega=omegas)\n",
    "   \n",
    "    # run function to find best period\n",
    "    omega_best = omegas[np.argmax(P_LS)]\n",
    "    best_period =  2*np.pi/omega_best\n",
    "    fit_period[i] = best_period\n",
    "    \n",
    "    #print(\"Best period: {} days\".format(best_period))\n",
    "    #print(\"Best omega %.4f\"%omega_best)\n",
    "    ratio = omega_true / omega_best\n",
    "    #print('Omega_true / Omega_fit = %f'%ratio)\n",
    "    ratios[i] = ratio\n",
    "\n"
   ]
  },
  {
   "cell_type": "code",
   "execution_count": 141,
   "metadata": {
    "collapsed": false,
    "scrolled": false
   },
   "outputs": [
    {
     "data": {
      "text/plain": [
       "<matplotlib.text.Text at 0x11fb0d898>"
      ]
     },
     "execution_count": 141,
     "metadata": {},
     "output_type": "execute_result"
    },
    {
     "data": {
      "image/png": "[encoded data removed]",
      "text/plain": [
       "<matplotlib.figure.Figure at 0x121a96e80>"
      ]
     },
     "metadata": {},
     "output_type": "display_data"
    }
   ],
   "source": [
    "# Plot ratio of my calculated omega,  vs  omega from Branimir's table...\n",
    "\n",
    "fig,ax = plt.subplots(1,1,figsize=(8,4))\n",
    "ax.hist(ratios, bins=20, histtype='step', lw=2)\n",
    "ax.set_xlabel(r'$ \\omega_{true} / \\omega_{LS}$')\n",
    "ax.set_ylabel(r'$N$')"
   ]
  },
  {
   "cell_type": "markdown",
   "metadata": {},
   "source": [
    "Get the demographics:  how many RR Lyrae is in each group... I call  ratio the $\\omega_{true}/ \\omega_{LS}$\n"
   ]
  },
  {
   "cell_type": "code",
   "execution_count": 139,
   "metadata": {
    "collapsed": false
   },
   "outputs": [
    {
     "name": "stdout",
     "output_type": "stream",
     "text": [
      "There are 291 RR Lyrae with ratio < 0.9\n",
      "There are 228 RR Lyrae with |ratio-1.0|<0.1\n",
      "There are 190 RR Lyrae with ratio > 1.1\n"
     ]
    }
   ],
   "source": [
    "print('There are %d RR Lyrae with ratio < 0.9'%np.sum(ratios<1))\n",
    "print('There are %d RR Lyrae with |ratio-1.0|<0.1'%np.sum(np.abs(ratios-1)<0.1))\n",
    "print('There are %d RR Lyrae with ratio > 1.1'%np.sum(ratios>1))"
   ]
  },
  {
   "cell_type": "code",
   "execution_count": 69,
   "metadata": {
    "collapsed": false
   },
   "outputs": [],
   "source": []
  },
  {
   "cell_type": "markdown",
   "metadata": {},
   "source": [
    "## Select a few objects, grab data from PDAC, see what results we get..."
   ]
  },
  {
   "cell_type": "code",
   "execution_count": 249,
   "metadata": {
    "collapsed": false
   },
   "outputs": [
    {
     "data": {
      "text/html": [
       "&lt;Table length=5&gt;\n",
       "<table id=\"table4893902104\" class=\"table-striped table-bordered table-condensed\">\n",
       "<thead><tr><th>i</th><th>RAdeg</th><th>DEdeg</th><th>Num</th><th>Type</th><th>Per</th><th>gmag</th></tr></thead>\n",
       "<thead><tr><th></th><th></th><th></th><th></th><th></th><th>d</th><th>mag</th></tr></thead>\n",
       "<thead><tr><th>int64</th><th>float64</th><th>float64</th><th>int64</th><th>str2</th><th>float64</th><th>float64</th></tr></thead>\n",
       "<tr><td>0</td><td>0.935679</td><td>1.115859</td><td>4099</td><td>ab</td><td>0.641754351271</td><td>16.6637400636</td></tr>\n",
       "<tr><td>1</td><td>0.283437</td><td>1.178522</td><td>13350</td><td>ab</td><td>0.547987422171</td><td>16.9886134861</td></tr>\n",
       "<tr><td>2</td><td>3.254658</td><td>-0.584066</td><td>15927</td><td>ab</td><td>0.612262983773</td><td>17.6534916127</td></tr>\n",
       "<tr><td>3</td><td>3.244369</td><td>0.218891</td><td>20406</td><td>ab</td><td>0.631853138777</td><td>15.2059062035</td></tr>\n",
       "<tr><td>4</td><td>4.315354</td><td>1.054582</td><td>21992</td><td>ab</td><td>0.625880355362</td><td>14.3769955855</td></tr>\n",
       "</table>"
      ],
      "text/plain": [
       "<Table length=5>\n",
       "  i    RAdeg     DEdeg    Num  Type      Per            gmag    \n",
       "                                          d             mag     \n",
       "int64 float64   float64  int64 str2    float64        float64   \n",
       "----- -------- --------- ----- ---- -------------- -------------\n",
       "    0 0.935679  1.115859  4099   ab 0.641754351271 16.6637400636\n",
       "    1 0.283437  1.178522 13350   ab 0.547987422171 16.9886134861\n",
       "    2 3.254658 -0.584066 15927   ab 0.612262983773 17.6534916127\n",
       "    3 3.244369  0.218891 20406   ab 0.631853138777 15.2059062035\n",
       "    4 4.315354  1.054582 21992   ab 0.625880355362 14.3769955855"
      ]
     },
     "execution_count": 249,
     "metadata": {},
     "output_type": "execute_result"
    }
   ],
   "source": [
    "master_table[:5]"
   ]
  },
  {
   "cell_type": "markdown",
   "metadata": {},
   "source": []
  },
  {
   "cell_type": "markdown",
   "metadata": {},
   "source": [
    "## Downloading the RR Lyr data from PDAC "
   ]
  },
  {
   "cell_type": "markdown",
   "metadata": {},
   "source": [
    "Very counter-intuitive (why \"separate rows in the table result from the measurements in each band” ?  ) . I am guessing based on the example SQL queries from https://confluence.lsstcorp.org/display/DM/PDAC+sample+queries+and+test+cases#PDACsamplequeriesandtestcases-Forreturningtheflux  rather than anything else, what the columns in Catalogs --> Deep Forced Source mean.  And from \n",
    "\n",
    "\n",
    "    SELECT\n",
    "        objectId,\n",
    "        id,\n",
    "        fsrc.exposure_id,\n",
    "        fsrc.exposure_time_mid,\n",
    "        exp.run,\n",
    "        scisql_dnToFlux(fsrc.flux_psf, exp.fluxMag0) AS tsv_flux,\n",
    "        scisql_dnToFluxSigma(fsrc.flux_psf, fsrc.flux_psf_err, exp.fluxMag0, exp.fluxMag0Sigma) AS tsv_fluxErr\n",
    "    FROM\n",
    "        RunDeepForcedSource AS fsrc,\n",
    "        Science_Ccd_Exposure AS exp\n",
    "    WHERE\n",
    "            exp.scienceCcdExposureId = fsrc.exposure_id\n",
    "        AND fsrc.exposure_filter_id = 1\n",
    "        AND NOT (fsrc.flagPixEdge     | fsrc.flagPixSaturAny |\n",
    "                 fsrc.flagPixSaturCen | fsrc.flagBadApFlux |\n",
    "                 fsrc.flagBadPsfFlux)\n",
    "        AND objectId = 3448068867358968\n",
    "    ORDER BY\n",
    "        exposure_time_mid\n",
    "\n",
    "    \n",
    "which they use to return the flux (\"Computing a calibrated flux requires correcting the observed flux for the photometric zero point.  This requires a join between the RunDeepForcedSource table, for the information about the individual observations, and the Science_Ccd_Exposure table (for a per-visit-image photometric zero point)\".)  , I guess that for RunDeepForcedSource, \n",
    "\n",
    "          exposure_id, exposure_time_mid,  flux_psf,  flux_psf_err   \n",
    "\n",
    "are columns of interest, and that we also need to grab from the exposure table (Science_Ccd_Exposure)\n",
    "      scienceCcdExposureId, run, fluxMag0, fluxMag0Sigma\n",
    "    \n",
    "If we use shorthand notation  \n",
    "\n",
    "      RunDeepForcedSource   == fsrc\n",
    "      Science_Ccd_Exposure ==  exp\n",
    "    \n",
    "then  \n",
    "\n",
    "    fsrc.exposure_id  <==>  exp.scienceCcdExposureId\n",
    "    \n",
    "They choose g-band by restricting  \n",
    "    \n",
    "    fsrc.exposure_filter_id = 1\n",
    "    \n"
   ]
  },
  {
   "cell_type": "markdown",
   "metadata": {},
   "source": [
    "To reproduce the above, but without executing \n",
    "\n",
    "    curl -d 'query=SELECT objectId, id, fsrc.exposure_id, fsrc.exposure_time_mid, exp.run, scisql_dnToFlux(fsrc.flux_psf,exp.fluxMag0) AS tsv_flux, scisql_dnToFluxSigma(fsrc.flux_psf, fsrc.flux_psf_err, exp.fluxMag0, exp.fluxMag0Sigma) AS tsv_fluxErr FROM RunDeepForcedSource AS fsrc, Science_Ccd_Exposure AS exp WHERE exp.scienceCcdExposureId = fsrc.exposure_id AND fsrc.exposure_filter_id=1 AND objectId=3448068867358968 ORDER BY exposure_time_mid' http://lsst-qserv-dax01.ncsa.illinois.edu:5000/db/v0/tap/sync\n",
    "   \n",
    "(by the way, when I execute that I have no idea in what format is my data returned....Is it an IPAC table ? Doesn't look like it ... ) \n",
    "\n",
    "\n",
    "Using the interface very easily becomes cumbersome.  To get calibrated flux, I need to : \n",
    "\n",
    "1) download from Catalog --> Deep Forced Source,  query  with 23.201735,1.029917,  radius 2 arcsec for cone search,   grabbing the above (there is no single id that would be held constant for the same source...)  Even for this narrow cone, I get objectId 2674023418832533  and 2674023418827266 . If I decrease the cone to the smallest allowed value (1 arcsec), I still get the same  two objectId's . \n",
    "\n",
    "Need to also grab  \n",
    "    (fsrc.flagPixEdge     | fsrc.flagPixSaturAny |  fsrc.flagPixSaturCen | fsrc.flagBadApFlux |\n",
    "     fsrc.flagBadPsfFlux)\n",
    "and remove all rows where this is nonzero. \n",
    "\n",
    "\n",
    "Save also the  cols : \n",
    "    \n",
    "    id, objectId,  exposure_filter_id , exposure_id, exposure_time_mid,  flux_psf,  flux_psf_err, \n",
    "    \n",
    "( I would also grab coord_ra  , coord_dec , to show that indeed this is one , and not two, objects...  The SQL query seems to rely on the fact that different objectIds correspond to different objects, but here I get that it is one and the same object....) \n",
    "\n",
    "2) download from Images --> Science CCD Exposure, querying against 23.201735,1.029917  ,  and keeping \n",
    "\n",
    "    run, fluxMag0, fluxMag0Sigma, scienceCcdExposureId\n",
    "    \n",
    "3) Join the two tables on \n",
    "    \n",
    "    fsrc.exposure_id  <==>  exp.scienceCcdExposureId\n",
    "    \n",
    "4) Calculate calibrated flux, fluxErr  using  flux_psf  , flux_psf_err, fluxMag0, fluxMag0Sigma - how is it done ? Tey use some built-in functions \n",
    "\n",
    "    scisql_dnToFlux()  scisql_dnToFluxSigma()\n",
    "    \n",
    "    \n",
    "But I would have to code it from the scratch...."
   ]
  },
  {
   "cell_type": "markdown",
   "metadata": {},
   "source": [
    "much info on the S82 tables is available here:   https://dev.lsstcorp.org/trac/wiki/DC/Winter2013 \n",
    "\n",
    "I looked and looked for these two scisql  functions.... I found github pages that seem to be related to its development : https://github.com/smonkewitz/scisql  https://github.com/lsst/scisql  "
   ]
  },
  {
   "cell_type": "markdown",
   "metadata": {},
   "source": [
    "In essence : very laborious... "
   ]
  },
  {
   "cell_type": "markdown",
   "metadata": {},
   "source": [
    "## Use SQL queries to get the data, and then analyze here: \n",
    "\n"
   ]
  },
  {
   "cell_type": "code",
   "execution_count": 257,
   "metadata": {
    "collapsed": false
   },
   "outputs": [
    {
     "data": {
      "text/html": [
       "&lt;Table length=1&gt;\n",
       "<table id=\"table4921328976\" class=\"table-striped table-bordered table-condensed\">\n",
       "<thead><tr><th>i</th><th>RAdeg</th><th>DEdeg</th><th>Num</th><th>Type</th><th>Per</th><th>gmag</th></tr></thead>\n",
       "<thead><tr><th></th><th></th><th></th><th></th><th></th><th>d</th><th>mag</th></tr></thead>\n",
       "<thead><tr><th>int64</th><th>float64</th><th>float64</th><th>int64</th><th>str2</th><th>float64</th><th>float64</th></tr></thead>\n",
       "<tr><td>112</td><td>23.201735</td><td>1.029917</td><td>1013184</td><td>ab</td><td>0.614318300907</td><td>16.6837837725</td></tr>\n",
       "</table>"
      ],
      "text/plain": [
       "<Table length=1>\n",
       "  i     RAdeg    DEdeg     Num   Type      Per            gmag    \n",
       "                                            d             mag     \n",
       "int64  float64  float64   int64  str2    float64        float64   \n",
       "----- --------- -------- ------- ---- -------------- -------------\n",
       "  112 23.201735 1.029917 1013184   ab 0.614318300907 16.6837837725"
      ]
     },
     "execution_count": 257,
     "metadata": {},
     "output_type": "execute_result"
    }
   ],
   "source": [
    "row = master_table['Num'] == 1013184\n",
    "master_table[row]"
   ]
  },
  {
   "cell_type": "markdown",
   "metadata": {},
   "source": [
    "i=112, RR Lyr ID=1013184, type= ab, period = 0.614318, RA, dec = 23.201735,1.029917, gmag=16.683784"
   ]
  },
  {
   "cell_type": "markdown",
   "metadata": {},
   "source": [
    "### 1) Query RunDeepForcedSource against RA,DEC : find objectIds in the circle "
   ]
  },
  {
   "cell_type": "markdown",
   "metadata": {},
   "source": [
    "1) Query the RunDeepForcedSource to find out what are objectIds within a tiny circle centered on the desired RA, dec  : ( I SELECT objectId  only ,  to make it easier to search the output JSON file for unique values...(\n",
    "  \n",
    "  a) using qserv functions : \n",
    "    \n",
    "    \n",
    "     curl -o catalogCone.json \\\n",
    "                -d 'query=SELECT+objectId+FROM+RunDeepForcedSource+WHERE+qserv_areaspec_circle(23.201735,1.029917,0.00055);' \\\n",
    "                http://lsst-qserv-dax01.ncsa.illinois.edu:5000/db/v0/tap/sync\n",
    "    \n",
    "  \n",
    "   \n",
    "    above, the center RA is 23.201735,  center dec 1.029917 , and the search radius is 2 / 3600 = 0.00055 degrees,\n",
    "    and catalogCone.json  is the json file produced by the query \n",
    "    \n",
    "    \n",
    "    \n",
    "  ( same can be done using scisql functions :\n",
    "   \n",
    "     curl -o catalogCone.json \\\n",
    "                -d     'query=SELECT+objectId+FROM+RunDeepForcedSource+WHERE+scisql_s2PtInCircle(coord_ra,coord_decl,23.201735,1.029917,0.00055)=1;' \\\n",
    "                http://lsst-qserv-dax01.ncsa.illinois.edu:5000/db/v0/tap/sync\n",
    "  )"
   ]
  },
  {
   "cell_type": "markdown",
   "metadata": {},
   "source": [
    "Read the JSON file : \n",
    "    \n",
    "\n",
    "    "
   ]
  },
  {
   "cell_type": "code",
   "execution_count": 534,
   "metadata": {
    "collapsed": false
   },
   "outputs": [],
   "source": [
    "# solution from \n",
    "# https://dzone.com/articles/python-reading-json-file \n",
    "\n",
    "\n",
    "json_file = '../raw_data/catalogCone.json'\n",
    "tab = json.loads(open(json_file).read())\n"
   ]
  },
  {
   "cell_type": "code",
   "execution_count": 535,
   "metadata": {
    "collapsed": false
   },
   "outputs": [
    {
     "data": {
      "text/plain": [
       "dict_keys(['data', 'metadata'])"
      ]
     },
     "execution_count": 535,
     "metadata": {},
     "output_type": "execute_result"
    }
   ],
   "source": [
    "tab['result']['table'].keys()"
   ]
  },
  {
   "cell_type": "code",
   "execution_count": 536,
   "metadata": {
    "collapsed": false
   },
   "outputs": [
    {
     "name": "stdout",
     "output_type": "stream",
     "text": [
      "objectId\n"
     ]
    }
   ],
   "source": [
    "meta = tab['result']['table']['metadata']['elements']\n",
    "\n",
    "for i in range(len(meta)):\n",
    "    print(meta[i]['name'])"
   ]
  },
  {
   "cell_type": "code",
   "execution_count": 538,
   "metadata": {
    "collapsed": false
   },
   "outputs": [
    {
     "data": {
      "text/plain": [
       "array([2674023418827266, 2674023418832533])"
      ]
     },
     "execution_count": 538,
     "metadata": {},
     "output_type": "execute_result"
    }
   ],
   "source": [
    "# find what are the unique objectId's  within this cone search \n",
    "# ravel flattens all the data, since I queried for objectId only... \n",
    "np.unique(np.ravel(tab['result']['table']['data']))"
   ]
  },
  {
   "cell_type": "markdown",
   "metadata": {},
   "source": [
    "### 2) Query RunDeepForcedSource  and Science_Ccd_Exposure given objectIds,  to get calibrated magnitudes"
   ]
  },
  {
   "cell_type": "markdown",
   "metadata": {},
   "source": [
    "2) Query with these objectIds against the RunDeepForcedSource  and Science_Ccd_Exposure   tables,  to get \n",
    "calibrated magnitudes : \n",
    "\n",
    "    SELECT\n",
    "        objectId,\n",
    "        id,\n",
    "        fsrc.exposure_id,\n",
    "        fsrc.exposure_time_mid,\n",
    "        exp.run,\n",
    "        scisql_dnToAbMag(fsrc.flux_psf, exp.fluxMag0) AS g,\n",
    "        scisql_dnToAbMagSigma(fsrc.flux_psf, fsrc.flux_psf_err, exp.fluxMag0, exp.fluxMag0Sigma) AS gErr\n",
    "    FROM\n",
    "        RunDeepForcedSource AS fsrc,\n",
    "        Science_Ccd_Exposure AS exp\n",
    "    WHERE\n",
    "            exp.scienceCcdExposureId = fsrc.exposure_id\n",
    "        AND fsrc.exposure_filter_id = 1\n",
    "        AND NOT (fsrc.flagPixEdge     | fsrc.flagPixSaturAny |\n",
    "                 fsrc.flagPixSaturCen | fsrc.flagBadApFlux |\n",
    "                 fsrc.flagBadPsfFlux)\n",
    "        AND objectId IN (2674023418827266,2674023418832533)\n",
    "    ORDER BY\n",
    "        exposure_time_mid\n"
   ]
  },
  {
   "cell_type": "markdown",
   "metadata": {},
   "source": [
    "To the first line of curl  expression, I add -o catalogCone.json  , before -d,   to output to a file : "
   ]
  },
  {
   "cell_type": "code",
   "execution_count": null,
   "metadata": {
    "collapsed": true
   },
   "outputs": [],
   "source": []
  },
  {
   "cell_type": "markdown",
   "metadata": {},
   "source": [
    "    curl -o catalogForced.json -d 'query=SELECT objectId, id, fsrc.exposure_id, fsrc.exposure_time_mid, exp.run, scisql_dnToAbMag(fsrc.flux_psf,exp.fluxMag0) AS g, scisql_dnToAbMagSigma(fsrc.flux_psf, fsrc.flux_psf_err, exp.fluxMag0, exp.fluxMag0Sigma) AS gErr FROM RunDeepForcedSource AS fsrc, Science_Ccd_Exposure AS exp WHERE exp.scienceCcdExposureId = fsrc.exposure_id AND fsrc.exposure_filter_id=1 AND objectId IN (2674023418827266, 2674023418832533) ORDER BY exposure_time_mid' http://lsst-qserv-dax01.ncsa.illinois.edu:5000/db/v0/tap/sync"
   ]
  },
  {
   "cell_type": "markdown",
   "metadata": {},
   "source": [
    "Read the output : "
   ]
  },
  {
   "cell_type": "code",
   "execution_count": 539,
   "metadata": {
    "collapsed": true
   },
   "outputs": [],
   "source": [
    "json_file= '../raw_data/catalogForced.json'\n",
    "tab = json.loads(open(json_file).read())\n",
    "\n",
    "print(tab['result']['table'].keys())\n",
    "print(tab['result']['table']['metadata']['elements'])\n",
    "\n",
    "meta = tab['result']['table']['metadata']['elements']\n",
    "data = tab['result']['table']['data']\n",
    "dataT = np.transpose(data)\n",
    "\n",
    "\n",
    "\n",
    "t = Table()\n",
    "\n",
    "# iterate over columns...\n",
    "for i in range(len(dataT)):\n",
    "    t.add_column(Column(dataT[i], name=meta[i]['name']), index=0)"
   ]
  },
  {
   "cell_type": "code",
   "execution_count": 546,
   "metadata": {
    "collapsed": false
   },
   "outputs": [
    {
     "data": {
      "text/html": [
       "&lt;Column name=&apos;objectId&apos; dtype=&apos;int64&apos; length=2&gt;\n",
       "<table>\n",
       "<tr><td>2674023418827266</td></tr>\n",
       "<tr><td>2674023418832533</td></tr>\n",
       "</table>"
      ],
      "text/plain": [
       "<Column name='objectId' dtype='int64' length=2>\n",
       "2674023418827266\n",
       "2674023418832533"
      ]
     },
     "execution_count": 546,
     "metadata": {},
     "output_type": "execute_result"
    }
   ],
   "source": [
    "# pull only those epochs where we have an existing measurement \n",
    "\n",
    "mask = np.isfinite(t['g'].data.astype(float))\n",
    "\n",
    "# show that indeed all info is stored correctly, and indeed we have been able to grab photometry \n",
    "# for the same object, but with two different objectId's..\n",
    "np.unique(t[mask]['objectId'].astype(int))"
   ]
  },
  {
   "cell_type": "code",
   "execution_count": 547,
   "metadata": {
    "collapsed": false
   },
   "outputs": [
    {
     "data": {
      "text/html": [
       "&lt;Table length=5&gt;\n",
       "<table id=\"table4813165064\" class=\"table-striped table-bordered table-condensed\">\n",
       "<thead><tr><th>gErr</th><th>g</th><th>run</th><th>exposure_time_mid</th><th>exposure_id</th><th>id</th><th>objectId</th></tr></thead>\n",
       "<thead><tr><th>float64</th><th>float64</th><th>float64</th><th>float64</th><th>float64</th><th>float64</th><th>float64</th></tr></thead>\n",
       "<tr><td>0.0180446796993</td><td>17.0486095197</td><td>1755.0</td><td>51819.4209479</td><td>1755160531.0</td><td>1.17786829373e+17</td><td>2.67402341883e+15</td></tr>\n",
       "<tr><td>0.0180446317532</td><td>17.0483672826</td><td>1755.0</td><td>51819.4209479</td><td>1755160531.0</td><td>1.17786829373e+17</td><td>2.67402341883e+15</td></tr>\n",
       "<tr><td>0.0171980667495</td><td>17.5825166235</td><td>2886.0</td><td>52288.0801157</td><td>2886160064.0</td><td>1.93686923217e+17</td><td>2.67402341883e+15</td></tr>\n",
       "<tr><td>0.017198059783</td><td>17.582496621</td><td>2886.0</td><td>52288.0801157</td><td>2886160064.0</td><td>1.93686923217e+17</td><td>2.67402341883e+15</td></tr>\n",
       "<tr><td>0.0349384939406</td><td>17.2265218177</td><td>3325.0</td><td>52522.3823283</td><td>3325160263.0</td><td>2.23147727868e+17</td><td>2.67402341883e+15</td></tr>\n",
       "</table>"
      ],
      "text/plain": [
       "<Table length=5>\n",
       "      gErr            g         run   ...         id             objectId    \n",
       "    float64        float64    float64 ...      float64           float64     \n",
       "--------------- ------------- ------- ... ----------------- -----------------\n",
       "0.0180446796993 17.0486095197  1755.0 ... 1.17786829373e+17 2.67402341883e+15\n",
       "0.0180446317532 17.0483672826  1755.0 ... 1.17786829373e+17 2.67402341883e+15\n",
       "0.0171980667495 17.5825166235  2886.0 ... 1.93686923217e+17 2.67402341883e+15\n",
       " 0.017198059783  17.582496621  2886.0 ... 1.93686923217e+17 2.67402341883e+15\n",
       "0.0349384939406 17.2265218177  3325.0 ... 2.23147727868e+17 2.67402341883e+15"
      ]
     },
     "execution_count": 547,
     "metadata": {},
     "output_type": "execute_result"
    }
   ],
   "source": [
    "t[:5]"
   ]
  },
  {
   "cell_type": "markdown",
   "metadata": {},
   "source": [
    "Plot raw g-band data from PDAC  for RR Lyr ID = 1013184 : "
   ]
  },
  {
   "cell_type": "code",
   "execution_count": 548,
   "metadata": {
    "collapsed": false
   },
   "outputs": [
    {
     "data": {
      "image/png": "[encoded data removed]",
      "text/plain": [
       "<matplotlib.figure.Figure at 0x11ee317b8>"
      ]
     },
     "metadata": {},
     "output_type": "display_data"
    }
   ],
   "source": [
    "\n",
    "fig,ax = plt.subplots()\n",
    "plot_data(t['exposure_time_mid'], t['g'], t['gErr'], ax)\n"
   ]
  },
  {
   "cell_type": "markdown",
   "metadata": {},
   "source": [
    "#### Fold the PDAC g-band data on the period from Sesar+2010 : "
   ]
  },
  {
   "cell_type": "code",
   "execution_count": 549,
   "metadata": {
    "collapsed": false
   },
   "outputs": [
    {
     "data": {
      "image/png": "[encoded data removed]",
      "text/plain": [
       "<matplotlib.figure.Figure at 0x11ef1ca58>"
      ]
     },
     "metadata": {},
     "output_type": "display_data"
    }
   ],
   "source": [
    "\n",
    "fig,ax = plt.subplots()\n",
    "plot_phased_lc(t['exposure_time_mid'], t['g'], t['gErr'], 0.614318, t0=None, ax = ax, band='')"
   ]
  },
  {
   "cell_type": "markdown",
   "metadata": {},
   "source": [
    "#### Plot the Sesar+2010 S82 data : raw and folded "
   ]
  },
  {
   "cell_type": "code",
   "execution_count": 531,
   "metadata": {
    "collapsed": false
   },
   "outputs": [
    {
     "name": "stdout",
     "output_type": "stream",
     "text": [
      "We picked RR Lyrae ID=1013184 , type ab, with a period of 0.614318 days\n",
      "True omega = 10.2279\n",
      "Best period: 0.614323034801143 days\n",
      "Best omega 10.2278\n"
     ]
    },
    {
     "data": {
      "image/png": "[encoded data removed]",
      "text/plain": [
       "<matplotlib.figure.Figure at 0x11fd69b70>"
      ]
     },
     "metadata": {},
     "output_type": "display_data"
    }
   ],
   "source": [
    "plot_rr_lyr(i=0, band='g')"
   ]
  },
  {
   "cell_type": "markdown",
   "metadata": {},
   "source": [
    "### Compare against NASA Exoplanet Archive "
   ]
  },
  {
   "cell_type": "markdown",
   "metadata": {},
   "source": [
    "To use the Exoplanet Archive , I need a clean  mjd,mag,magerr lightcurve with no bad data.  Thus I take a few lightcurves from Branimir's  sample, and split them into separate files, each having one band, removing the bad data (-99.99 rows).\n",
    "\n"
   ]
  },
  {
   "cell_type": "code",
   "execution_count": 254,
   "metadata": {
    "collapsed": false
   },
   "outputs": [
    {
     "name": "stdout",
     "output_type": "stream",
     "text": [
      "\n",
      "For RR Lyr ID=4099, type= ab, period = 0.641754, RA, dec = 0.935679,1.115859, gmag=16.663740\n",
      "       For ID=4099, in u band we removed 20 bad rows\n",
      "       For ID=4099, in g band we removed 5 bad rows\n",
      "       For ID=4099, in r band we removed 1 bad rows\n",
      "       For ID=4099, in i band we removed 2 bad rows\n",
      "       For ID=4099, in z band we removed 8 bad rows\n",
      "\n",
      "For RR Lyr ID=13350, type= ab, period = 0.547987, RA, dec = 0.283437,1.178522, gmag=16.988613\n",
      "       For ID=13350, in u band we removed 3 bad rows\n",
      "       For ID=13350, in g band we removed 7 bad rows\n",
      "       For ID=13350, in r band we removed 2 bad rows\n",
      "       For ID=13350, in i band we removed 4 bad rows\n",
      "       For ID=13350, in z band we removed 5 bad rows\n",
      "\n",
      "For RR Lyr ID=15927, type= ab, period = 0.612263, RA, dec = 3.254658,-0.584066, gmag=17.653492\n",
      "       For ID=15927, in u band we removed 13 bad rows\n",
      "       For ID=15927, in g band we removed 3 bad rows\n",
      "       For ID=15927, in r band we removed 2 bad rows\n",
      "       For ID=15927, in i band we removed 2 bad rows\n",
      "       For ID=15927, in z band we removed 4 bad rows\n",
      "\n",
      "For RR Lyr ID=20406, type= ab, period = 0.631853, RA, dec = 3.244369,0.218891, gmag=15.205906\n",
      "       For ID=20406, in u band we removed 8 bad rows\n",
      "       For ID=20406, in g band we removed 6 bad rows\n",
      "       For ID=20406, in r band we removed 2 bad rows\n",
      "       For ID=20406, in i band we removed 5 bad rows\n",
      "       For ID=20406, in z band we removed 7 bad rows\n",
      "\n",
      "For RR Lyr ID=21992, type= ab, period = 0.625880, RA, dec = 4.315354,1.054582, gmag=14.376996\n",
      "       For ID=21992, in u band we removed 6 bad rows\n",
      "       For ID=21992, in g band we removed 4 bad rows\n",
      "       For ID=21992, in r band we removed 3 bad rows\n",
      "       For ID=21992, in i band we removed 5 bad rows\n",
      "       For ID=21992, in z band we removed 7 bad rows\n",
      "Cleared lightcurves, split into bands, removing \"-99.99 points\", saved to ../raw_data/RRLyr_S82_Sesar_2010_LC/\n"
     ]
    }
   ],
   "source": [
    "\n",
    "\n",
    "\n",
    "# Read in a particular RR Lyr...\n",
    "lc_names = table2['Num'].data.astype(str)\n",
    "\n",
    "for i in range(5) : \n",
    "\n",
    "    lc = Table.read(address1+lc_names[i]+'.dat', format='ascii')\n",
    "\n",
    "    # Grab the colnames and units from the \n",
    "    # Readme file...\n",
    "    columns = lc.colnames\n",
    "\n",
    "    for j in range(len(columns)):\n",
    "        lc[columns[j]].name = readme.colnames[j]\n",
    "        lc[readme.colnames[j]].unit = readme[readme.colnames[j]].unit\n",
    "\n",
    "    # Display some info about this particular RR Lyr ...\n",
    "    print('\\nFor RR Lyr ID=%d, type= %s, period = %f, RA, dec = %f,%f, gmag=%f'%(master_table[i]['Num'],\n",
    "                                                                             master_table[i]['Type'],\n",
    "                                                                             master_table[i]['Per'],\n",
    "                                                                             master_table[i]['RAdeg'], \n",
    "                                                                             master_table[i]['DEdeg'],\n",
    "                                                                             master_table[i]['gmag']))\n",
    "    # Save the lightcurve in a given band 'cleared' on the -99  measurements( which indicate a lack of measurement...)\n",
    "    # name:  RRLyrID_band.dat\n",
    "    for band in 'ugriz':\n",
    "        good_rows = lc[band+'mag'].data != -99.99\n",
    "        print('       For ID=%d, in %s band we removed %d bad rows'%(master_table[i]['Num'],band,np.sum(~good_rows)))\n",
    "        mjd = lc[band+'mjd'][good_rows]\n",
    "        mag = lc[band+'mag'][good_rows]\n",
    "        magerr = lc[band+'magErr'][good_rows]\n",
    "\n",
    "        data = np.column_stack((mjd,mag,magerr))\n",
    "        DirOut = '../raw_data/RRLyr_S82_Sesar_2010_LC/'\n",
    "        fname = str(lc_names[i])+'_'+band+'.txt'\n",
    "        # formatting keeps the original accuracy of MJD, and photometry \n",
    "        np.savetxt(DirOut+fname, data, fmt='%10.6f %10.3f %10.3f')\n",
    "\n",
    "print('Cleared lightcurves, split into bands, removing \"-99.99 points\", saved to %s' % DirOut)"
   ]
  },
  {
   "cell_type": "markdown",
   "metadata": {},
   "source": [
    "Focus on the object that I got from PDAC : "
   ]
  },
  {
   "cell_type": "markdown",
   "metadata": {
    "collapsed": true
   },
   "source": [
    "Do the same object with Exoplanet Archive... ( I set min period=0.254146, max period =0.907497 [days]). I upload the cleaned g-magnitude lightcurve : \n",
    "\n",
    "    '../raw_data/RRLyr_S82_Sesar_2010_LC/1013184_g.txt' "
   ]
  },
  {
   "cell_type": "markdown",
   "metadata": {
    "collapsed": true
   },
   "source": [
    "email of Feb 17, 2017, from Zeljko : \n",
    "    \n",
    "  \"when you run periodogram for a few stars, could you please also\n",
    "try this service and compare to your independent results:\n",
    "http://exoplanetarchive.ipac.caltech.edu/cgi-bin/Pgram/nph-pgram\n",
    "\n",
    "In addition to comparing periods (or the whole periodograms), it’d\n",
    "be great to have a statement about the compute speed.\n",
    "\n",
    "   Z.\"\""
   ]
  },
  {
   "cell_type": "markdown",
   "metadata": {},
   "source": [
    "In Exoplanet Archive, I use these as the lower / upper bounds on periods to search   (same as when I am using AstroML periodogram...)"
   ]
  },
  {
   "cell_type": "code",
   "execution_count": 146,
   "metadata": {
    "collapsed": false
   },
   "outputs": [
    {
     "name": "stdout",
     "output_type": "stream",
     "text": [
      "min period=0.228731, max period =0.998246 [days]\n"
     ]
    }
   ],
   "source": [
    "print('min period=%f, max period =%f [days]'%(0.9*min(all_periods), 1.1*max(all_periods)))\n",
    "\n"
   ]
  },
  {
   "cell_type": "markdown",
   "metadata": {
    "collapsed": true
   },
   "source": [
    "    --> uploading tiniest file takes ~10 secs\n",
    "    --> entering min and max periods,  choosing 'Lomb Scargle' and 'Fixed Frequency', I get step size of 0.0001678 \n",
    "    --> calculating takes ~15 secs "
   ]
  },
  {
   "cell_type": "markdown",
   "metadata": {
    "collapsed": true
   },
   "source": [
    "Best Period (Rank1) : 0.614320  ( I saved the periodogram file in ../data_products/Exoplanet...) \n",
    "    \n",
    "        \\\n",
    "    \\ Periodogram Table of Peaks File\n",
    "    \\\n",
    "    \\ Input File=1013184_g.txt\n",
    "    \\ Time Column=col1\n",
    "    \\ Data Column=col2\n",
    "    \\ Algorithm=ls\n",
    "    \\ Min Period=0.254146\n",
    "    \\ Max Period=0.907497\n",
    "    \\ Step Method=fixedf\n",
    "    \\ Fixed Step Size=0.000168\n",
    "    \\ Number of Peaks=50\n",
    "    \\ Peak Significant Threshold=1.000000\n",
    "    \\ NSamplesForStat=16883\n",
    "    \\\n",
    "    |Peak |Period              |Power               |Frequency           |SDE                 |\n",
    "    |int  |double              |double              |double              |double              |\n",
    "     1     0.6143195866         19.7613657201        1.6278172173         19.7613657201     \n",
    "\n",
    "<img src=\"figures/1013184_g_periodogram.png\" width=500>"
   ]
  },
  {
   "cell_type": "markdown",
   "metadata": {},
   "source": [
    "## Do the same for another RA, dec ... \n"
   ]
  },
  {
   "cell_type": "markdown",
   "metadata": {},
   "source": [
    "i=1, RR Lyr ID=1019544, type= ab, period = 0.622447, RA, dec = -23.690417,-0.104992, gmag=15.410343"
   ]
  },
  {
   "cell_type": "markdown",
   "metadata": {},
   "source": [
    "... and make it automatic! "
   ]
  },
  {
   "cell_type": "markdown",
   "metadata": {},
   "source": [
    "Pipeline : \n",
    "    * query RunDeepForcedSource Table in cone search qserv_areaspec_circle(ra,dec, search_radius_degrees)\n",
    "    * identify unique objectId in this circle\n",
    "    * query RunDeepForcedSource and Science_Ccd_Exposure  to get AB magnitudes"
   ]
  },
  {
   "cell_type": "markdown",
   "metadata": {},
   "source": [
    "First, do for one object : "
   ]
  },
  {
   "cell_type": "code",
   "execution_count": 258,
   "metadata": {
    "collapsed": false
   },
   "outputs": [
    {
     "data": {
      "text/html": [
       "&lt;Row index=0&gt;\n",
       "<table id=\"table4893900872\">\n",
       "<thead><tr><th>i</th><th>RAdeg</th><th>DEdeg</th><th>Num</th><th>Type</th><th>Per</th><th>gmag</th></tr></thead>\n",
       "<thead><tr><th></th><th></th><th></th><th></th><th></th><th>d</th><th>mag</th></tr></thead>\n",
       "<thead><tr><th>int64</th><th>float64</th><th>float64</th><th>int64</th><th>str2</th><th>float64</th><th>float64</th></tr></thead>\n",
       "<tr><td>0</td><td>0.935679</td><td>1.115859</td><td>4099</td><td>ab</td><td>0.641754351271</td><td>16.6637400636</td></tr>\n",
       "</table>"
      ],
      "text/plain": [
       "<Row index=0>\n",
       "  i    RAdeg    DEdeg    Num  Type      Per            gmag    \n",
       "                                         d             mag     \n",
       "int64 float64  float64  int64 str2    float64        float64   \n",
       "----- -------- -------- ----- ---- -------------- -------------\n",
       "    0 0.935679 1.115859  4099   ab 0.641754351271 16.6637400636"
      ]
     },
     "execution_count": 258,
     "metadata": {},
     "output_type": "execute_result"
    }
   ],
   "source": [
    "import subprocess\n",
    "#https://pymotw.com/3/subprocess/\n",
    "# http://stackoverflow.com/questions/3729366/custom-standard-input-for-python-subprocess\n",
    "\n",
    "master_table[0]"
   ]
  },
  {
   "cell_type": "code",
   "execution_count": 259,
   "metadata": {
    "collapsed": false
   },
   "outputs": [],
   "source": [
    "i=0\n",
    "ra_deg = str(master_table[i]['RAdeg'])\n",
    "dec_deg = str(master_table[i]['DEdeg'])\n",
    "search_radius_deg = str(2/3600.0)[:9]\n",
    "\n",
    "# query against that object... \n",
    "cmd = \"curl -o ../raw_data/PDAC_cone_search_results/catalogCone\"+str(i)+\".json \\\n",
    "                -d 'query=SELECT+objectId+FROM+RunDeepForcedSource+WHERE+qserv_areaspec_circle(\"\\\n",
    "                +ra_deg+\",\"+dec_deg+\",\"+search_radius_deg+\");' \\\n",
    "                http://lsst-qserv-dax01.ncsa.illinois.edu:5000/db/v0/tap/sync\"\n",
    "completed = subprocess.run(cmd, shell=True, stdout=subprocess.PIPE)"
   ]
  },
  {
   "cell_type": "code",
   "execution_count": 260,
   "metadata": {
    "collapsed": false
   },
   "outputs": [
    {
     "name": "stdout",
     "output_type": "stream",
     "text": [
      "In this query, we recover objectId :  \n",
      "(3562429887808969, 3562429887812663)\n"
     ]
    }
   ],
   "source": [
    "# find unique IDs\n",
    "json_file = '../raw_data/PDAC_cone_search_results/catalogCone'+str(i)+'.json'\n",
    "tab = json.loads(open(json_file).read())\n",
    "objectIds = tuple(np.unique(np.ravel(tab['result']['table']['data'])))\n",
    "print('In this query, we recover objectId :  ')\n",
    "print(objectIds)\n",
    "ids = str(objectIds)"
   ]
  },
  {
   "cell_type": "code",
   "execution_count": 261,
   "metadata": {
    "collapsed": true
   },
   "outputs": [],
   "source": [
    "# query against these ids \n",
    "cmd = \" curl -o ../raw_data/PDAC_forced_phot_results/catalogForced\"+str(i)+\".json -d 'query=\\\n",
    "        SELECT \\\n",
    "            objectId, id, fsrc.exposure_id, fsrc.exposure_time_mid, exp.run, \\\n",
    "            scisql_dnToAbMag(fsrc.flux_psf,exp.fluxMag0) AS g, \\\n",
    "            scisql_dnToAbMagSigma(fsrc.flux_psf, fsrc.flux_psf_err, exp.fluxMag0, exp.fluxMag0Sigma) AS gErr \\\n",
    "        FROM \\\n",
    "            RunDeepForcedSource AS fsrc, \\\n",
    "            Science_Ccd_Exposure AS exp \\\n",
    "        WHERE \\\n",
    "            exp.scienceCcdExposureId = fsrc.exposure_id \\\n",
    "            AND fsrc.exposure_filter_id=1 \\\n",
    "            AND objectId IN \"+ids+\" \\\n",
    "        ORDER BY exposure_time_mid' http://lsst-qserv-dax01.ncsa.illinois.edu:5000/db/v0/tap/sync\"\n",
    "completed = subprocess.run(cmd, shell=True)\n",
    "\n",
    "# NOTE  : exposure_filter_id  is where we choose which filter to use \n",
    "# u = 0\n",
    "# g = 1 \n",
    "# r = 2\n",
    "# i = 3\n",
    "# z = 4"
   ]
  },
  {
   "cell_type": "code",
   "execution_count": 263,
   "metadata": {
    "collapsed": false
   },
   "outputs": [],
   "source": [
    "json_file= '../raw_data/PDAC_forced_phot_results/catalogForced'+str(i)+'.json'\n",
    "tab = json.loads(open(json_file).read())\n",
    "\n",
    "#print(tab['result']['table'].keys())\n",
    "#print(tab['result']['table']['metadata']['elements'])\n",
    "\n",
    "meta = tab['result']['table']['metadata']['elements']\n",
    "data = tab['result']['table']['data']\n",
    "dataT = np.transpose(data)\n",
    "\n",
    "t = Table()\n",
    "\n",
    "# iterate over columns...\n",
    "for i in range(len(dataT)):\n",
    "    t.add_column(Column(dataT[i], name=meta[i]['name']), index=0)\n",
    "    \n",
    "# Save that as a txt file...\n",
    "fname = '../raw_data/RRLyr_S82_PDAC/'+str(master_table['Num'][i])+'_'+str(i)+'_g.txt'\n",
    "t.write(fname, format='ascii', overwrite='True')"
   ]
  },
  {
   "cell_type": "markdown",
   "metadata": {},
   "source": [
    "Second, wrap and do for all objects..."
   ]
  },
  {
   "cell_type": "code",
   "execution_count": 269,
   "metadata": {
    "collapsed": false
   },
   "outputs": [
    {
     "data": {
      "text/plain": [
       "483"
      ]
     },
     "execution_count": 269,
     "metadata": {},
     "output_type": "execute_result"
    }
   ],
   "source": [
    "len(lc_names)"
   ]
  },
  {
   "cell_type": "code",
   "execution_count": 270,
   "metadata": {
    "collapsed": false
   },
   "outputs": [
    {
     "name": "stdout",
     "output_type": "stream",
     "text": [
      "Querying for i=6, i.e. RR Lyr ID= 46988\n"
     ]
    }
   ],
   "source": [
    "print('Querying for i=%d, i.e. RR Lyr ID= %s'%(i, lc_names[i]))"
   ]
  },
  {
   "cell_type": "code",
   "execution_count": null,
   "metadata": {
    "collapsed": false
   },
   "outputs": [
    {
     "name": "stdout",
     "output_type": "stream",
     "text": [
      "Querying for i=214, i.e. RR Lyr ID= 1794923\n",
      "In this query, we recover objectId :  \n",
      "(217509795098266726, 217509795098271866)\n",
      "Querying for i=215, i.e. RR Lyr ID= 1799963\n",
      "In this query, we recover objectId :  \n",
      "(217377849407965531, 217377849407969614)\n",
      "Querying for i=216, i.e. RR Lyr ID= 1806461\n",
      "In this query, we recover objectId :  \n",
      "(217465820001869601,)\n",
      "Querying for i=217, i.e. RR Lyr ID= 1812388\n",
      "In this query, we recover objectId :  \n",
      "(217518589043804069, 217518589043808177)\n",
      "Querying for i=218, i.e. RR Lyr ID= 1816764\n",
      "In this query, we recover objectId :  \n",
      "(217553780932085254,)\n",
      "Querying for i=219, i.e. RR Lyr ID= 1829974\n",
      "In this query, we recover objectId :  \n",
      "(217421839536752891, 217421839536755985, 217421839536755986)\n",
      "Querying for i=220, i.e. RR Lyr ID= 1830137\n"
     ]
    }
   ],
   "source": [
    "# to store which objectIds corresponded to which RR Lyr... \n",
    "objectIds_per_i = {}\n",
    "\n",
    "for i in range(214,len(lc_names)):\n",
    "    print('Querying for i=%d, i.e. RR Lyr ID= %s'%(i, lc_names[i]))\n",
    "    ra_deg = str(master_table[i]['RAdeg'])\n",
    "    dec_deg = str(master_table[i]['DEdeg'])\n",
    "    search_radius_deg = str(2/3600.0)[:9]\n",
    "\n",
    "    # query against that object... \n",
    "    cmd = \"curl -o ../raw_data/PDAC_cone_search_results/catalogCone\"+str(i)+\".json \\\n",
    "                    -d 'query=SELECT+objectId+FROM+RunDeepForcedSource+WHERE+qserv_areaspec_circle(\"\\\n",
    "                    +ra_deg+\",\"+dec_deg+\",\"+search_radius_deg+\");' \\\n",
    "                    http://lsst-qserv-dax01.ncsa.illinois.edu:5000/db/v0/tap/sync\"\n",
    "    completed = subprocess.run(cmd, shell=True, stdout=subprocess.PIPE)\n",
    "\n",
    "    # find unique IDs\n",
    "    json_file = '../raw_data/PDAC_cone_search_results/catalogCone'+str(i)+'.json'\n",
    "    tab = json.loads(open(json_file).read())\n",
    "    objectIds = tuple(np.unique(np.ravel(tab['result']['table']['data'])))\n",
    "    print('In this query, we recover objectId :  ')\n",
    "    print(objectIds)\n",
    "    if len(objectIds) < 2 : \n",
    "        ids=  '('+str(objectIds[0])+')'\n",
    "    else:\n",
    "        ids = str(objectIds)\n",
    "    objectIds_per_i[i] = ids \n",
    "\n",
    "    # query PDAC against  ids found within 2 arcsec from our  input ra, dec ... \n",
    "    cmd = \" curl -o ../raw_data/PDAC_forced_phot_results/catalogForced\"+str(i)+\".json -d 'query=\\\n",
    "            SELECT \\\n",
    "                objectId, id, fsrc.exposure_id, fsrc.exposure_time_mid, exp.run, \\\n",
    "                scisql_dnToAbMag(fsrc.flux_psf,exp.fluxMag0) AS g, \\\n",
    "                scisql_dnToAbMagSigma(fsrc.flux_psf, fsrc.flux_psf_err, exp.fluxMag0, exp.fluxMag0Sigma) AS gErr \\\n",
    "            FROM \\\n",
    "                RunDeepForcedSource AS fsrc, \\\n",
    "                Science_Ccd_Exposure AS exp \\\n",
    "            WHERE \\\n",
    "                exp.scienceCcdExposureId = fsrc.exposure_id \\\n",
    "                AND fsrc.exposure_filter_id=1 \\\n",
    "                AND objectId IN \"+ids+\" \\\n",
    "            ORDER BY exposure_time_mid' http://lsst-qserv-dax01.ncsa.illinois.edu:5000/db/v0/tap/sync\"\n",
    "    completed = subprocess.run(cmd, shell=True)\n",
    "\n",
    "    # NOTE  : exposure_filter_id  is where we choose which filter to use \n",
    "    # u = 0\n",
    "    # g = 1 \n",
    "    # r = 2\n",
    "    # i = 3\n",
    "    # z = 4\n",
    "    \n",
    "    # Convert the output json file with g-band photometry to a text file...\n",
    "    json_file= '../raw_data/PDAC_forced_phot_results/catalogForced'+str(i)+'.json'\n",
    "    tab = json.loads(open(json_file).read())\n",
    "\n",
    "    #print(tab['result']['table'].keys())\n",
    "    #print(tab['result']['table']['metadata']['elements'])\n",
    "\n",
    "    meta = tab['result']['table']['metadata']['elements']\n",
    "    data = tab['result']['table']['data']\n",
    "    dataT = np.transpose(data)\n",
    "    \n",
    "    # initialize a new AstroPy Table to store this S82 lightcurve from PDAC... \n",
    "    t = Table()\n",
    "\n",
    "    # iterate over columns to add them to the Table ...\n",
    "    for k in range(len(dataT)):\n",
    "        t.add_column(Column(dataT[k], name=meta[k]['name']), index=0)\n",
    "\n",
    "    # Save that as a txt file...\n",
    "    fname = '../raw_data/RRLyr_S82_PDAC/'+str(master_table['Num'][i])+'_'+str(i)+'_g.txt'\n",
    "    t.write(fname, format='ascii', overwrite='True')\n",
    "\n"
   ]
  },
  {
   "cell_type": "code",
   "execution_count": null,
   "metadata": {
    "collapsed": false
   },
   "outputs": [],
   "source": [
    "\n"
   ]
  },
  {
   "cell_type": "code",
   "execution_count": 280,
   "metadata": {
    "collapsed": false
   },
   "outputs": [
    {
     "name": "stdout",
     "output_type": "stream",
     "text": [
      "(3588818166880604)\n"
     ]
    }
   ],
   "source": [
    "\n"
   ]
  },
  {
   "cell_type": "code",
   "execution_count": null,
   "metadata": {
    "collapsed": true
   },
   "outputs": [],
   "source": []
  }
 ],
 "metadata": {
  "anaconda-cloud": {},
  "kernelspec": {
   "display_name": "Python [Root]",
   "language": "python",
   "name": "Python [Root]"
  },
  "language_info": {
   "codemirror_mode": {
    "name": "ipython",
    "version": 3
   },
   "file_extension": ".py",
   "mimetype": "text/x-python",
   "name": "python",
   "nbconvert_exporter": "python",
   "pygments_lexer": "ipython3",
   "version": "3.5.2"
  }
 },
 "nbformat": 4,
 "nbformat_minor": 0
}
